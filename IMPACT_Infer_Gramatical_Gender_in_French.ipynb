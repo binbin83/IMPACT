{
 "cells": [
  {
   "cell_type": "markdown",
   "metadata": {},
   "source": [
    "# <center> Gender Biais detection</center>\n",
    "## <center> Application of the CALISKAN  and Bolukbasi Paper to french  </center>\n",
    "### <center> Quillivic Robin </center>\n",
    "Sources : Semantics derived automatically from language corpora necessarily contain human biases, 2016\n",
    "Sources : Man is to Computer Programmer as Woman is to Homemaker? Debiasing Word Embeddings, Bolukbasi, Tolga, 2016"
   ]
  },
  {
   "cell_type": "code",
   "execution_count": 162,
   "metadata": {},
   "outputs": [],
   "source": [
    "from gensim import *\n",
    "from gensim.test.utils import common_texts, get_tmpfile\n",
    "from gensim.models import Word2Vec\n",
    "import logging\n",
    "import gensim\n",
    "import os\n",
    "\n",
    "import itertools\n",
    "\n",
    "from gensim.test.utils import get_tmpfile\n",
    "from gensim.models import KeyedVectors\n",
    "\n",
    "import matplotlib.pyplot as plt\n",
    "from random import *\n",
    "\n",
    "import pandas as pd\n",
    "import numpy as np\n",
    "import math\n",
    "\n",
    "from sklearn.decomposition import PCA\n",
    "import lib\n",
    "import fasttext\n",
    "from gensim.models.wrappers import FastText\n",
    "import random"
   ]
  },
  {
   "cell_type": "code",
   "execution_count": 2,
   "metadata": {},
   "outputs": [
    {
     "name": "stderr",
     "output_type": "stream",
     "text": [
      "2019-02-24 14:33:15,103 : INFO : loading projection weights from DATA\\FR\\fr_Kyubyong_wordvectors.vec\n",
      "2019-02-24 14:33:28,226 : INFO : loaded (50000, 300) matrix from DATA\\FR\\fr_Kyubyong_wordvectors.vec\n",
      "2019-02-24 14:33:28,226 : INFO : precomputing L2-norms of word weight vectors\n"
     ]
    }
   ],
   "source": [
    "# Logging code taken from http://rare-technologies.com/word2vec-tutorial/\n",
    "logging.basicConfig(format='%(asctime)s : %(levelname)s : %(message)s', level=logging.INFO)\n",
    "\n",
    "# Load pre-trained Word2Vec model.\n",
    "#model  = gensim.models.KeyedVectors.load_word2vec_format(r'DATA\\FR\\cc.fr.300.vec', binary=False,limit=50000)\n",
    "#model  = gensim.models.KeyedVectors.load_word2vec_format(r'DATA\\FR\\frWac_no_postag_no_phrase_500_skip_cut100.bin', binary=True,limit=50000)\n",
    "model  = gensim.models.KeyedVectors.load_word2vec_format(r'DATA\\FR\\fr_Kyubyong_wordvectors.vec',binary=False,limit=50000)\n",
    "#model  = gensim.models.KeyedVectors.load_word2vec_format(r'DATA\\FR\\wiki_fr.vec',binary=False,limit=50000)\n",
    "\n",
    "# normalizeation :\n",
    "model.init_sims(True)"
   ]
  },
  {
   "cell_type": "markdown",
   "metadata": {},
   "source": [
    "## WEAT"
   ]
  },
  {
   "cell_type": "code",
   "execution_count": 24,
   "metadata": {},
   "outputs": [],
   "source": [
    "#attributes\n",
    "A = ['un','il','homme','mâle','fils','père','garçon']\n",
    "B = ['une','elle','femme','femelle','mère','fille']\n",
    "\n",
    "# targets\n",
    "X = ['informaticien', 'ingénieur', 'scientifique','docteur'] \n",
    "Y = ['infirmière', 'professeure', 'libraire','secrétaire']\n",
    "\n",
    "# targets\n",
    "X=['mathématiques', 'algèbre', 'géométrie', 'calcul', 'équation']# 'computation', 'numbers', 'addition']\n",
    "Y =['poésie', 'art', 'danse', 'littérature', 'roman']# 'symphony', 'drama', 'sculpture']  "
   ]
  },
  {
   "cell_type": "code",
   "execution_count": 25,
   "metadata": {},
   "outputs": [
    {
     "name": "stdout",
     "output_type": "stream",
     "text": [
      "Association of mathématiques with the attributes A,B is :  4.592797426240786\n",
      "Association of algèbre with the attributes A,B is :  2.3612423844280697\n",
      "Association of géométrie with the attributes A,B is :  -0.37555119821003485\n",
      "Association of calcul with the attributes A,B is :  1.2399334460496902\n",
      "Association of équation with the attributes A,B is :  -1.6714801923150113\n"
     ]
    }
   ],
   "source": [
    "for x in X:\n",
    "    print('Association of',x,'with the attributes A,B is : ',lib.s(x,A,B,model)*100)"
   ]
  },
  {
   "cell_type": "code",
   "execution_count": 26,
   "metadata": {},
   "outputs": [
    {
     "name": "stdout",
     "output_type": "stream",
     "text": [
      "Association of poésie with the attributes A,B is :  -2.0372964086986745\n",
      "Association of art with the attributes A,B is :  2.8469696774014395\n",
      "Association of danse with the attributes A,B is :  -3.7968011839049214\n",
      "Association of littérature with the attributes A,B is :  -0.655995238394963\n",
      "Association of roman with the attributes A,B is :  2.7817171953973316\n"
     ]
    }
   ],
   "source": [
    "for x in Y:\n",
    "    print('Association of',x,'with the attributes A,B is : ',lib.s(x,A,B,model)*100)"
   ]
  },
  {
   "cell_type": "code",
   "execution_count": 28,
   "metadata": {},
   "outputs": [
    {
     "name": "stdout",
     "output_type": "stream",
     "text": [
      " the effect size is 0.08083034426778109\n"
     ]
    }
   ],
   "source": [
    "e= lib.effet_size(X,Y,A,B,model)\n",
    "print(' the effect size is',e)"
   ]
  },
  {
   "cell_type": "code",
   "execution_count": 29,
   "metadata": {},
   "outputs": [
    {
     "name": "stdout",
     "output_type": "stream",
     "text": [
      "30512\n",
      " the ps values is 0.15062744981882448\n"
     ]
    }
   ],
   "source": [
    "p = lib.p_values(X,Y,A,B,model)\n",
    "print(' the p values is',p)"
   ]
  },
  {
   "cell_type": "markdown",
   "metadata": {},
   "source": [
    "## Comment : \n",
    "For this example, we do not find any significant p value or effet size. That means , we are not observing any biais. more over, we observe that the sig of the association is direcly correlated with the gender !"
   ]
  },
  {
   "cell_type": "markdown",
   "metadata": {},
   "source": [
    "# Does the association coeficient (WEAT and WEFAT) reveal the gramatical gender ?"
   ]
  },
  {
   "cell_type": "code",
   "execution_count": 250,
   "metadata": {},
   "outputs": [],
   "source": [
    "df = pd.read_csv(r'DATA\\FR\\dictionaire_fr.csv',sep=';',encoding='latin1')"
   ]
  },
  {
   "cell_type": "code",
   "execution_count": 270,
   "metadata": {},
   "outputs": [],
   "source": [
    "def transform_genre(x):\n",
    "    if 'f' in str(x):\n",
    "        return(-1)\n",
    "    if 'm' in str(x) :\n",
    "        return(1)\n",
    "    else :\n",
    "        return(0)\n",
    "\n",
    "def clean_mots(x):\n",
    "    if ',' in str(x):\n",
    "        return(x[:-1])\n",
    "    else :\n",
    "        return(x)\n",
    "    \n",
    "def clean_coef(x):\n",
    "    if x <0:\n",
    "        return(-1)\n",
    "    if x >-0.005and x <+0.005:\n",
    "        return(0)\n",
    "    else :\n",
    "        return(1)\n",
    "\n",
    "def alea(result):\n",
    "    \n",
    "    L=[]\n",
    "    for i in range(len(result)) :\n",
    "        L.append(random.randint(-1,1))\n",
    "    return(L)\n",
    "\n",
    "    "
   ]
  },
  {
   "cell_type": "code",
   "execution_count": 271,
   "metadata": {
    "collapsed": true
   },
   "outputs": [
    {
     "ename": "KeyError",
     "evalue": "'genre'",
     "output_type": "error",
     "traceback": [
      "\u001b[1;31m---------------------------------------------------------------------------\u001b[0m",
      "\u001b[1;31mKeyError\u001b[0m                                  Traceback (most recent call last)",
      "\u001b[1;32m~\\Anaconda3\\lib\\site-packages\\pandas\\core\\indexes\\base.py\u001b[0m in \u001b[0;36mget_loc\u001b[1;34m(self, key, method, tolerance)\u001b[0m\n\u001b[0;32m   3062\u001b[0m             \u001b[1;32mtry\u001b[0m\u001b[1;33m:\u001b[0m\u001b[1;33m\u001b[0m\u001b[0m\n\u001b[1;32m-> 3063\u001b[1;33m                 \u001b[1;32mreturn\u001b[0m \u001b[0mself\u001b[0m\u001b[1;33m.\u001b[0m\u001b[0m_engine\u001b[0m\u001b[1;33m.\u001b[0m\u001b[0mget_loc\u001b[0m\u001b[1;33m(\u001b[0m\u001b[0mkey\u001b[0m\u001b[1;33m)\u001b[0m\u001b[1;33m\u001b[0m\u001b[0m\n\u001b[0m\u001b[0;32m   3064\u001b[0m             \u001b[1;32mexcept\u001b[0m \u001b[0mKeyError\u001b[0m\u001b[1;33m:\u001b[0m\u001b[1;33m\u001b[0m\u001b[0m\n",
      "\u001b[1;32mpandas\\_libs\\index.pyx\u001b[0m in \u001b[0;36mpandas._libs.index.IndexEngine.get_loc\u001b[1;34m()\u001b[0m\n",
      "\u001b[1;32mpandas\\_libs\\index.pyx\u001b[0m in \u001b[0;36mpandas._libs.index.IndexEngine.get_loc\u001b[1;34m()\u001b[0m\n",
      "\u001b[1;32mpandas\\_libs\\hashtable_class_helper.pxi\u001b[0m in \u001b[0;36mpandas._libs.hashtable.PyObjectHashTable.get_item\u001b[1;34m()\u001b[0m\n",
      "\u001b[1;32mpandas\\_libs\\hashtable_class_helper.pxi\u001b[0m in \u001b[0;36mpandas._libs.hashtable.PyObjectHashTable.get_item\u001b[1;34m()\u001b[0m\n",
      "\u001b[1;31mKeyError\u001b[0m: 'genre'",
      "\nDuring handling of the above exception, another exception occurred:\n",
      "\u001b[1;31mKeyError\u001b[0m                                  Traceback (most recent call last)",
      "\u001b[1;32m<ipython-input-271-2e9334fe8b32>\u001b[0m in \u001b[0;36m<module>\u001b[1;34m()\u001b[0m\n\u001b[1;32m----> 1\u001b[1;33m \u001b[0mdf\u001b[0m\u001b[1;33m[\u001b[0m\u001b[1;34m'Genre'\u001b[0m\u001b[1;33m]\u001b[0m\u001b[1;33m=\u001b[0m\u001b[0mdf\u001b[0m\u001b[1;33m[\u001b[0m\u001b[1;34m'genre'\u001b[0m\u001b[1;33m]\u001b[0m\u001b[1;33m.\u001b[0m\u001b[0mapply\u001b[0m\u001b[1;33m(\u001b[0m\u001b[1;32mlambda\u001b[0m \u001b[0mx\u001b[0m\u001b[1;33m:\u001b[0m \u001b[0mtransform_genre\u001b[0m\u001b[1;33m(\u001b[0m\u001b[0mx\u001b[0m\u001b[1;33m)\u001b[0m\u001b[1;33m)\u001b[0m\u001b[1;33m\u001b[0m\u001b[0m\n\u001b[0m\u001b[0;32m      2\u001b[0m \u001b[0mdf\u001b[0m\u001b[1;33m[\u001b[0m\u001b[1;34m'Mot'\u001b[0m\u001b[1;33m]\u001b[0m\u001b[1;33m=\u001b[0m \u001b[0mdf\u001b[0m\u001b[1;33m[\u001b[0m\u001b[1;34m'mots'\u001b[0m\u001b[1;33m]\u001b[0m\u001b[1;33m.\u001b[0m\u001b[0mapply\u001b[0m\u001b[1;33m(\u001b[0m\u001b[1;32mlambda\u001b[0m \u001b[0mx\u001b[0m\u001b[1;33m:\u001b[0m \u001b[0mclean_mots\u001b[0m\u001b[1;33m(\u001b[0m\u001b[0mx\u001b[0m\u001b[1;33m)\u001b[0m\u001b[1;33m)\u001b[0m\u001b[1;33m\u001b[0m\u001b[0m\n\u001b[0;32m      3\u001b[0m \u001b[0mdf\u001b[0m \u001b[1;33m=\u001b[0m \u001b[0mdf\u001b[0m\u001b[1;33m.\u001b[0m\u001b[0mdrop\u001b[0m\u001b[1;33m(\u001b[0m\u001b[0mcolumns\u001b[0m\u001b[1;33m=\u001b[0m\u001b[1;33m[\u001b[0m\u001b[1;34m'mots'\u001b[0m\u001b[1;33m,\u001b[0m\u001b[1;34m'genre'\u001b[0m\u001b[1;33m]\u001b[0m\u001b[1;33m)\u001b[0m\u001b[1;33m\u001b[0m\u001b[0m\n\u001b[0;32m      4\u001b[0m \u001b[1;31m#df.head(50)\u001b[0m\u001b[1;33m\u001b[0m\u001b[1;33m\u001b[0m\u001b[0m\n",
      "\u001b[1;32m~\\Anaconda3\\lib\\site-packages\\pandas\\core\\frame.py\u001b[0m in \u001b[0;36m__getitem__\u001b[1;34m(self, key)\u001b[0m\n\u001b[0;32m   2683\u001b[0m             \u001b[1;32mreturn\u001b[0m \u001b[0mself\u001b[0m\u001b[1;33m.\u001b[0m\u001b[0m_getitem_multilevel\u001b[0m\u001b[1;33m(\u001b[0m\u001b[0mkey\u001b[0m\u001b[1;33m)\u001b[0m\u001b[1;33m\u001b[0m\u001b[0m\n\u001b[0;32m   2684\u001b[0m         \u001b[1;32melse\u001b[0m\u001b[1;33m:\u001b[0m\u001b[1;33m\u001b[0m\u001b[0m\n\u001b[1;32m-> 2685\u001b[1;33m             \u001b[1;32mreturn\u001b[0m \u001b[0mself\u001b[0m\u001b[1;33m.\u001b[0m\u001b[0m_getitem_column\u001b[0m\u001b[1;33m(\u001b[0m\u001b[0mkey\u001b[0m\u001b[1;33m)\u001b[0m\u001b[1;33m\u001b[0m\u001b[0m\n\u001b[0m\u001b[0;32m   2686\u001b[0m \u001b[1;33m\u001b[0m\u001b[0m\n\u001b[0;32m   2687\u001b[0m     \u001b[1;32mdef\u001b[0m \u001b[0m_getitem_column\u001b[0m\u001b[1;33m(\u001b[0m\u001b[0mself\u001b[0m\u001b[1;33m,\u001b[0m \u001b[0mkey\u001b[0m\u001b[1;33m)\u001b[0m\u001b[1;33m:\u001b[0m\u001b[1;33m\u001b[0m\u001b[0m\n",
      "\u001b[1;32m~\\Anaconda3\\lib\\site-packages\\pandas\\core\\frame.py\u001b[0m in \u001b[0;36m_getitem_column\u001b[1;34m(self, key)\u001b[0m\n\u001b[0;32m   2690\u001b[0m         \u001b[1;31m# get column\u001b[0m\u001b[1;33m\u001b[0m\u001b[1;33m\u001b[0m\u001b[0m\n\u001b[0;32m   2691\u001b[0m         \u001b[1;32mif\u001b[0m \u001b[0mself\u001b[0m\u001b[1;33m.\u001b[0m\u001b[0mcolumns\u001b[0m\u001b[1;33m.\u001b[0m\u001b[0mis_unique\u001b[0m\u001b[1;33m:\u001b[0m\u001b[1;33m\u001b[0m\u001b[0m\n\u001b[1;32m-> 2692\u001b[1;33m             \u001b[1;32mreturn\u001b[0m \u001b[0mself\u001b[0m\u001b[1;33m.\u001b[0m\u001b[0m_get_item_cache\u001b[0m\u001b[1;33m(\u001b[0m\u001b[0mkey\u001b[0m\u001b[1;33m)\u001b[0m\u001b[1;33m\u001b[0m\u001b[0m\n\u001b[0m\u001b[0;32m   2693\u001b[0m \u001b[1;33m\u001b[0m\u001b[0m\n\u001b[0;32m   2694\u001b[0m         \u001b[1;31m# duplicate columns & possible reduce dimensionality\u001b[0m\u001b[1;33m\u001b[0m\u001b[1;33m\u001b[0m\u001b[0m\n",
      "\u001b[1;32m~\\Anaconda3\\lib\\site-packages\\pandas\\core\\generic.py\u001b[0m in \u001b[0;36m_get_item_cache\u001b[1;34m(self, item)\u001b[0m\n\u001b[0;32m   2484\u001b[0m         \u001b[0mres\u001b[0m \u001b[1;33m=\u001b[0m \u001b[0mcache\u001b[0m\u001b[1;33m.\u001b[0m\u001b[0mget\u001b[0m\u001b[1;33m(\u001b[0m\u001b[0mitem\u001b[0m\u001b[1;33m)\u001b[0m\u001b[1;33m\u001b[0m\u001b[0m\n\u001b[0;32m   2485\u001b[0m         \u001b[1;32mif\u001b[0m \u001b[0mres\u001b[0m \u001b[1;32mis\u001b[0m \u001b[1;32mNone\u001b[0m\u001b[1;33m:\u001b[0m\u001b[1;33m\u001b[0m\u001b[0m\n\u001b[1;32m-> 2486\u001b[1;33m             \u001b[0mvalues\u001b[0m \u001b[1;33m=\u001b[0m \u001b[0mself\u001b[0m\u001b[1;33m.\u001b[0m\u001b[0m_data\u001b[0m\u001b[1;33m.\u001b[0m\u001b[0mget\u001b[0m\u001b[1;33m(\u001b[0m\u001b[0mitem\u001b[0m\u001b[1;33m)\u001b[0m\u001b[1;33m\u001b[0m\u001b[0m\n\u001b[0m\u001b[0;32m   2487\u001b[0m             \u001b[0mres\u001b[0m \u001b[1;33m=\u001b[0m \u001b[0mself\u001b[0m\u001b[1;33m.\u001b[0m\u001b[0m_box_item_values\u001b[0m\u001b[1;33m(\u001b[0m\u001b[0mitem\u001b[0m\u001b[1;33m,\u001b[0m \u001b[0mvalues\u001b[0m\u001b[1;33m)\u001b[0m\u001b[1;33m\u001b[0m\u001b[0m\n\u001b[0;32m   2488\u001b[0m             \u001b[0mcache\u001b[0m\u001b[1;33m[\u001b[0m\u001b[0mitem\u001b[0m\u001b[1;33m]\u001b[0m \u001b[1;33m=\u001b[0m \u001b[0mres\u001b[0m\u001b[1;33m\u001b[0m\u001b[0m\n",
      "\u001b[1;32m~\\Anaconda3\\lib\\site-packages\\pandas\\core\\internals.py\u001b[0m in \u001b[0;36mget\u001b[1;34m(self, item, fastpath)\u001b[0m\n\u001b[0;32m   4113\u001b[0m \u001b[1;33m\u001b[0m\u001b[0m\n\u001b[0;32m   4114\u001b[0m             \u001b[1;32mif\u001b[0m \u001b[1;32mnot\u001b[0m \u001b[0misna\u001b[0m\u001b[1;33m(\u001b[0m\u001b[0mitem\u001b[0m\u001b[1;33m)\u001b[0m\u001b[1;33m:\u001b[0m\u001b[1;33m\u001b[0m\u001b[0m\n\u001b[1;32m-> 4115\u001b[1;33m                 \u001b[0mloc\u001b[0m \u001b[1;33m=\u001b[0m \u001b[0mself\u001b[0m\u001b[1;33m.\u001b[0m\u001b[0mitems\u001b[0m\u001b[1;33m.\u001b[0m\u001b[0mget_loc\u001b[0m\u001b[1;33m(\u001b[0m\u001b[0mitem\u001b[0m\u001b[1;33m)\u001b[0m\u001b[1;33m\u001b[0m\u001b[0m\n\u001b[0m\u001b[0;32m   4116\u001b[0m             \u001b[1;32melse\u001b[0m\u001b[1;33m:\u001b[0m\u001b[1;33m\u001b[0m\u001b[0m\n\u001b[0;32m   4117\u001b[0m                 \u001b[0mindexer\u001b[0m \u001b[1;33m=\u001b[0m \u001b[0mnp\u001b[0m\u001b[1;33m.\u001b[0m\u001b[0marange\u001b[0m\u001b[1;33m(\u001b[0m\u001b[0mlen\u001b[0m\u001b[1;33m(\u001b[0m\u001b[0mself\u001b[0m\u001b[1;33m.\u001b[0m\u001b[0mitems\u001b[0m\u001b[1;33m)\u001b[0m\u001b[1;33m)\u001b[0m\u001b[1;33m[\u001b[0m\u001b[0misna\u001b[0m\u001b[1;33m(\u001b[0m\u001b[0mself\u001b[0m\u001b[1;33m.\u001b[0m\u001b[0mitems\u001b[0m\u001b[1;33m)\u001b[0m\u001b[1;33m]\u001b[0m\u001b[1;33m\u001b[0m\u001b[0m\n",
      "\u001b[1;32m~\\Anaconda3\\lib\\site-packages\\pandas\\core\\indexes\\base.py\u001b[0m in \u001b[0;36mget_loc\u001b[1;34m(self, key, method, tolerance)\u001b[0m\n\u001b[0;32m   3063\u001b[0m                 \u001b[1;32mreturn\u001b[0m \u001b[0mself\u001b[0m\u001b[1;33m.\u001b[0m\u001b[0m_engine\u001b[0m\u001b[1;33m.\u001b[0m\u001b[0mget_loc\u001b[0m\u001b[1;33m(\u001b[0m\u001b[0mkey\u001b[0m\u001b[1;33m)\u001b[0m\u001b[1;33m\u001b[0m\u001b[0m\n\u001b[0;32m   3064\u001b[0m             \u001b[1;32mexcept\u001b[0m \u001b[0mKeyError\u001b[0m\u001b[1;33m:\u001b[0m\u001b[1;33m\u001b[0m\u001b[0m\n\u001b[1;32m-> 3065\u001b[1;33m                 \u001b[1;32mreturn\u001b[0m \u001b[0mself\u001b[0m\u001b[1;33m.\u001b[0m\u001b[0m_engine\u001b[0m\u001b[1;33m.\u001b[0m\u001b[0mget_loc\u001b[0m\u001b[1;33m(\u001b[0m\u001b[0mself\u001b[0m\u001b[1;33m.\u001b[0m\u001b[0m_maybe_cast_indexer\u001b[0m\u001b[1;33m(\u001b[0m\u001b[0mkey\u001b[0m\u001b[1;33m)\u001b[0m\u001b[1;33m)\u001b[0m\u001b[1;33m\u001b[0m\u001b[0m\n\u001b[0m\u001b[0;32m   3066\u001b[0m \u001b[1;33m\u001b[0m\u001b[0m\n\u001b[0;32m   3067\u001b[0m         \u001b[0mindexer\u001b[0m \u001b[1;33m=\u001b[0m \u001b[0mself\u001b[0m\u001b[1;33m.\u001b[0m\u001b[0mget_indexer\u001b[0m\u001b[1;33m(\u001b[0m\u001b[1;33m[\u001b[0m\u001b[0mkey\u001b[0m\u001b[1;33m]\u001b[0m\u001b[1;33m,\u001b[0m \u001b[0mmethod\u001b[0m\u001b[1;33m=\u001b[0m\u001b[0mmethod\u001b[0m\u001b[1;33m,\u001b[0m \u001b[0mtolerance\u001b[0m\u001b[1;33m=\u001b[0m\u001b[0mtolerance\u001b[0m\u001b[1;33m)\u001b[0m\u001b[1;33m\u001b[0m\u001b[0m\n",
      "\u001b[1;32mpandas\\_libs\\index.pyx\u001b[0m in \u001b[0;36mpandas._libs.index.IndexEngine.get_loc\u001b[1;34m()\u001b[0m\n",
      "\u001b[1;32mpandas\\_libs\\index.pyx\u001b[0m in \u001b[0;36mpandas._libs.index.IndexEngine.get_loc\u001b[1;34m()\u001b[0m\n",
      "\u001b[1;32mpandas\\_libs\\hashtable_class_helper.pxi\u001b[0m in \u001b[0;36mpandas._libs.hashtable.PyObjectHashTable.get_item\u001b[1;34m()\u001b[0m\n",
      "\u001b[1;32mpandas\\_libs\\hashtable_class_helper.pxi\u001b[0m in \u001b[0;36mpandas._libs.hashtable.PyObjectHashTable.get_item\u001b[1;34m()\u001b[0m\n",
      "\u001b[1;31mKeyError\u001b[0m: 'genre'"
     ]
    }
   ],
   "source": [
    "df['Genre']=df['genre'].apply(lambda x: transform_genre(x))\n",
    "df['Mot']= df['mots'].apply(lambda x: clean_mots(x))\n",
    "df = df.drop(columns=['mots','genre'])\n",
    "#df.head(50)"
   ]
  },
  {
   "cell_type": "code",
   "execution_count": 253,
   "metadata": {
    "scrolled": true
   },
   "outputs": [
    {
     "name": "stderr",
     "output_type": "stream",
     "text": [
      "C:\\Users\\Robin\\Anaconda3\\lib\\site-packages\\ipykernel_launcher.py:1: DeprecationWarning: Call to deprecated `wv` (Attribute will be removed in 4.0.0, use self instead).\n",
      "  \"\"\"Entry point for launching an IPython kernel.\n"
     ]
    }
   ],
   "source": [
    "df_model = pd.DataFrame(list(model.wv.vocab.items()), columns=['Mot','count'])\n"
   ]
  },
  {
   "cell_type": "code",
   "execution_count": 254,
   "metadata": {},
   "outputs": [],
   "source": [
    "result = pd.merge(df_model,df, on='Mot')"
   ]
  },
  {
   "cell_type": "code",
   "execution_count": 272,
   "metadata": {},
   "outputs": [
    {
     "name": "stdout",
     "output_type": "stream",
     "text": [
      "Prediction :  0.6397573495100327\n",
      "Aléa :  0.3616425571628558\n",
      " Seulement des 1 : 0.1279634390174236\n"
     ]
    }
   ],
   "source": [
    "A = ['un','il','homme','mâle','fils','père','garçon','le','lequel','ce','son']\n",
    "B = ['une','elle','femme','femelle','mère','fille','la','laquelle','cette','sa']\n",
    "##\n",
    "result['association_coef']= result['Mot'].apply(lambda x :lib.s(x,A,B,model))\n",
    "result['Gender_pred']= result['association_coef'].apply(lambda x : clean_coef(x))\n",
    "result['random'] = alea(result)\n",
    "##\n",
    "print('Prediction : ',len(result[(result['Gender_pred'] == result['Genre']) & (result['type']=='N')])/len(result[result['type']=='N']))\n",
    "print('Aléa : ', len(result[(result['random'] == result['Genre']) & (result['type']=='N')])/len(result[result['type']=='N']))\n",
    "print(' Seulement des 1 :',  result['Genre'].sum()/len(result))"
   ]
  },
  {
   "cell_type": "code",
   "execution_count": 273,
   "metadata": {},
   "outputs": [
    {
     "data": {
      "text/plain": [
       "Gender_pred\n",
       "-1     7456\n",
       " 0     1264\n",
       " 1    12286\n",
       "Name: Mot, dtype: int64"
      ]
     },
     "execution_count": 273,
     "metadata": {},
     "output_type": "execute_result"
    }
   ],
   "source": [
    "result.groupby(by ='Gender_pred')['Mot'].count()"
   ]
  },
  {
   "cell_type": "code",
   "execution_count": 269,
   "metadata": {},
   "outputs": [
    {
     "data": {
      "text/plain": [
       "Genre\n",
       "-1     7795\n",
       " 0     2728\n",
       " 1    10483\n",
       "Name: Mot, dtype: int64"
      ]
     },
     "execution_count": 269,
     "metadata": {},
     "output_type": "execute_result"
    }
   ],
   "source": [
    "result.groupby(by ='Genre')['Mot'].count()"
   ]
  },
  {
   "cell_type": "code",
   "execution_count": 274,
   "metadata": {},
   "outputs": [
    {
     "name": "stdout",
     "output_type": "stream",
     "text": [
      "Prediction :  0.6598226784881008\n",
      "Aléa :  0.33877741483901075\n",
      " Seulement des 1 : 0.1279634390174236\n"
     ]
    }
   ],
   "source": [
    "A = ['un','il','le','lequel','ce','son','tout','celui']\n",
    "B = ['une','elle','celle','la','laquelle','cette','sa','toute']\n",
    "##\n",
    "result['association_coef']= result['Mot'].apply(lambda x :lib.s(x,A,B,model)*100)\n",
    "result['Gender_pred']= result['association_coef'].apply(lambda x : clean_coef(x))\n",
    "result['random'] = alea(result)\n",
    "##\n",
    "print('Prediction : ',len(result[(result['Gender_pred'] == result['Genre']) & (result['type']=='N')])/len(result[result['type']=='N']))\n",
    "print('Aléa : ', len(result[(result['random'] == result['Genre']) & (result['type']=='N')])/len(result[result['type']=='N']))\n",
    "print(' Seulement des 1 :',  result['Genre'].sum()/len(result))"
   ]
  },
  {
   "cell_type": "code",
   "execution_count": 275,
   "metadata": {},
   "outputs": [
    {
     "name": "stdout",
     "output_type": "stream",
     "text": [
      "Prediction :  0.6584227718152124\n",
      "Aléa :  0.33971068595426973\n",
      " Seulement des 1 : 0.1279634390174236\n"
     ]
    }
   ],
   "source": [
    "A = ['un','il','le']\n",
    "B = ['une','elle','la']\n",
    "##\n",
    "result['association_coef']= result['Mot'].apply(lambda x :lib.s(x,A,B,model)*100)\n",
    "result['Gender_pred']= result['association_coef'].apply(lambda x : clean_coef(x))\n",
    "result['random'] = alea(result)\n",
    "##\n",
    "print('Prediction : ',len(result[(result['Gender_pred'] == result['Genre']) & (result['type']=='N')])/len(result[result['type']=='N']))\n",
    "print('Aléa : ', len(result[(result['random'] == result['Genre']) & (result['type']=='N')])/len(result[result['type']=='N']))\n",
    "print(' Seulement des 1 :',  result['Genre'].sum()/len(result))"
   ]
  },
  {
   "cell_type": "code",
   "execution_count": 183,
   "metadata": {},
   "outputs": [
    {
     "name": "stdout",
     "output_type": "stream",
     "text": [
      "Prediction :  0.652356509566029\n",
      "Aléa :  0.5254316378908073\n",
      " Seulement des 1 : 0.6289155479386842\n"
     ]
    }
   ],
   "source": [
    "A = ['un','le']\n",
    "B = ['une','la']\n",
    "##\n",
    "result['association_coef']= result['Mot'].apply(lambda x :lib.s(x,A,B,model)*100)\n",
    "result['Gender_pred']= result['association_coef'].apply(lambda x : clean_coef(x))\n",
    "result['random'] = alea(result)\n",
    "##\n",
    "print('Prediction : ',len(result[(result['Gender_pred'] == result['Genre']) & (result['type']=='N')])/len(result[result['type']=='N']))\n",
    "print('Aléa : ', len(result[(result['random'] == result['Genre']) & (result['type']=='N')])/len(result[result['type']=='N']))\n",
    "print(' Seulement des 1 :',  result['Genre'].sum()/len(result))"
   ]
  },
  {
   "cell_type": "code",
   "execution_count": 184,
   "metadata": {},
   "outputs": [
    {
     "name": "stdout",
     "output_type": "stream",
     "text": [
      "Prediction :  0.6038264115725618\n",
      "Aléa :  0.5300979934671022\n",
      " Seulement des 1 : 0.6289155479386842\n"
     ]
    }
   ],
   "source": [
    "A = ['homme']\n",
    "B = ['femme']\n",
    "##\n",
    "result['association_coef']= result['Mot'].apply(lambda x :lib.s(x,A,B,model)*100)\n",
    "result['Gender_pred']= result['association_coef'].apply(lambda x : clean_coef(x))\n",
    "result['random'] = alea(result)\n",
    "##\n",
    "print('Prediction : ',len(result[(result['Gender_pred'] == result['Genre']) & (result['type']=='N')])/len(result[result['type']=='N']))\n",
    "print('Aléa : ', len(result[(result['random'] == result['Genre']) & (result['type']=='N')])/len(result[result['type']=='N']))\n",
    "print(' Seulement des 1 :',  result['Genre'].sum()/len(result))"
   ]
  },
  {
   "cell_type": "code",
   "execution_count": 185,
   "metadata": {},
   "outputs": [
    {
     "name": "stdout",
     "output_type": "stream",
     "text": [
      "Prediction :  0.6630891273915073\n",
      "Aléa :  0.5142323845076995\n",
      " Seulement des 1 : 0.6289155479386842\n"
     ]
    }
   ],
   "source": [
    "A = ['un','homme']\n",
    "B = ['une','femme']\n",
    "##\n",
    "result['association_coef']= result['Mot'].apply(lambda x :lib.s(x,A,B,model)*100)\n",
    "result['Gender_pred']= result['association_coef'].apply(lambda x : clean_coef(x))\n",
    "result['random'] = alea(result)\n",
    "##\n",
    "print('Prediction : ',len(result[(result['Gender_pred'] == result['Genre']) & (result['type']=='N')])/len(result[result['type']=='N']))\n",
    "print('Aléa : ', len(result[(result['random'] == result['Genre']) & (result['type']=='N')])/len(result[result['type']=='N']))\n",
    "print(' Seulement des 1 :',  result['Genre'].sum()/len(result))"
   ]
  },
  {
   "cell_type": "code",
   "execution_count": 234,
   "metadata": {},
   "outputs": [],
   "source": [
    "result_M = result[result['Genre']==1]\n",
    "result_F = result[result['Genre']==0]"
   ]
  },
  {
   "cell_type": "code",
   "execution_count": 241,
   "metadata": {},
   "outputs": [
    {
     "name": "stdout",
     "output_type": "stream",
     "text": [
      "Prediction :  0.6441016852327907\n",
      "Aléa :  0.3303817956774255\n",
      " Seulement des 1 : 0.1279634390174236\n"
     ]
    }
   ],
   "source": [
    "A = ['un','homme']\n",
    "B = ['une','femme']\n",
    "##\n",
    "result['association_coef']= result['Mot'].apply(lambda x :lib.s(x,A,B,model)*100)\n",
    "result['Gender_pred']= result['association_coef'].apply(lambda x : clean_coef(x))\n",
    "result['random'] = alea(result)\n",
    "##\n",
    "print('Prediction : ',len(result[result['Gender_pred'] == result['Genre']])/len(result))\n",
    "print('Aléa : ', len(result[result['random'] == result['Genre']])/len(result))\n",
    "print(' Seulement des 1 :',  result['Genre'].sum()/len(result))"
   ]
  },
  {
   "cell_type": "code",
   "execution_count": 190,
   "metadata": {},
   "outputs": [
    {
     "name": "stdout",
     "output_type": "stream",
     "text": [
      "Prediction :  0.7375511758545178\n",
      "Aléa :  0.5310387508330953\n",
      " Seulement des 1 : 0.6289155479386842\n"
     ]
    }
   ],
   "source": [
    "A = ['un','il','homme','mâle','fils','père','garçon','le','lequel','ce','son']\n",
    "B = ['une','elle','femme','femelle','mère','fille','la','laquelle','cette','sa']\n",
    "##\n",
    "result['association_coef']= result['Mot'].apply(lambda x :lib.s(x,A,B,model)*100)\n",
    "result['Gender_pred']= result['association_coef'].apply(lambda x : clean_coef(x))\n",
    "result['random'] = alea(result)\n",
    "##\n",
    "print('Prediction : ',len(result[result['Gender_pred'] == result['Genre']])/len(result))\n",
    "print('Aléa : ', len(result[result['random'] == result['Genre']])/len(result))\n",
    "print(' Seulement des 1 :',  result['Genre'].sum()/len(result))"
   ]
  },
  {
   "cell_type": "code",
   "execution_count": 277,
   "metadata": {},
   "outputs": [
    {
     "data": {
      "image/png": "[encoded data removed]",
      "text/plain": [
       "<Figure size 1080x504 with 2 Axes>"
      ]
     },
     "metadata": {},
     "output_type": "display_data"
    }
   ],
   "source": [
    "plt.figure(figsize=(15,7))\n",
    "plt.subplot(121)\n",
    "plt.hist(result[(result['Gender_pred'] != result['Genre']) & (result['type']=='N')]['association_coef'],bins=100)\n",
    "plt.title('coeficient association where the prediction is False' )\n",
    "plt.subplot(122)\n",
    "plt.hist(result[(result['Gender_pred'] == result['Genre']) & (result['type']=='N')]['association_coef'],bins=100)\n",
    "plt.title('coeficient association where the prediction is true' )\n",
    "plt.show()"
   ]
  },
  {
   "cell_type": "code",
   "execution_count": 278,
   "metadata": {},
   "outputs": [
    {
     "name": "stdout",
     "output_type": "stream",
     "text": [
      "The mean, for False prediction  2.388882179134264\n",
      "The mean, for True prediction  4.417127288259714\n"
     ]
    }
   ],
   "source": [
    "print( 'The mean, for False prediction ', abs(result[(result['Gender_pred'] != result['Genre']) & (result['type']=='N')]['association_coef']).mean())\n",
    "print( 'The mean, for True prediction ', abs(result[(result['Gender_pred'] == result['Genre']) & (result['type']=='N')]['association_coef']).mean())"
   ]
  },
  {
   "cell_type": "markdown",
   "metadata": {},
   "source": [
    "## Comment :\n",
    "AS we anticipated, the Association play an important role in the grammatical gender. The lesss frequen word an thos who have a coeficient reaaly closed to 0 were linked to false prediction."
   ]
  },
  {
   "cell_type": "markdown",
   "metadata": {},
   "source": [
    "## 2) DIrect Biais"
   ]
  },
  {
   "cell_type": "code",
   "execution_count": 205,
   "metadata": {
    "scrolled": true
   },
   "outputs": [
    {
     "data": {
      "text/html": [
       "<div>\n",
       "<style scoped>\n",
       "    .dataframe tbody tr th:only-of-type {\n",
       "        vertical-align: middle;\n",
       "    }\n",
       "\n",
       "    .dataframe tbody tr th {\n",
       "        vertical-align: top;\n",
       "    }\n",
       "\n",
       "    .dataframe thead th {\n",
       "        text-align: right;\n",
       "    }\n",
       "</style>\n",
       "<table border=\"1\" class=\"dataframe\">\n",
       "  <thead>\n",
       "    <tr style=\"text-align: right;\">\n",
       "      <th></th>\n",
       "      <th>pair</th>\n",
       "      <th>score</th>\n",
       "    </tr>\n",
       "  </thead>\n",
       "  <tbody>\n",
       "    <tr>\n",
       "      <th>348025</th>\n",
       "      <td>(qu'un, qu'une)</td>\n",
       "      <td>8.982379e-01</td>\n",
       "    </tr>\n",
       "    <tr>\n",
       "      <th>38221</th>\n",
       "      <td>(d'un, d'une)</td>\n",
       "      <td>8.877078e-01</td>\n",
       "    </tr>\n",
       "    <tr>\n",
       "      <th>208044</th>\n",
       "      <td>(d’un, d’une)</td>\n",
       "      <td>8.569036e-01</td>\n",
       "    </tr>\n",
       "    <tr>\n",
       "      <th>425674</th>\n",
       "      <td>(aucun, aucune)</td>\n",
       "      <td>7.322243e-01</td>\n",
       "    </tr>\n",
       "    <tr>\n",
       "      <th>237185</th>\n",
       "      <td>(seul, seule)</td>\n",
       "      <td>7.034017e-01</td>\n",
       "    </tr>\n",
       "    <tr>\n",
       "      <th>332788</th>\n",
       "      <td>(important, importante)</td>\n",
       "      <td>7.032869e-01</td>\n",
       "    </tr>\n",
       "    <tr>\n",
       "      <th>362244</th>\n",
       "      <td>(appelé, appelée)</td>\n",
       "      <td>6.813930e-01</td>\n",
       "    </tr>\n",
       "    <tr>\n",
       "      <th>38680</th>\n",
       "      <td>(d'un, qu'une)</td>\n",
       "      <td>6.325427e-01</td>\n",
       "    </tr>\n",
       "    <tr>\n",
       "      <th>33409</th>\n",
       "      <td>(cette, d'un)</td>\n",
       "      <td>6.170636e-01</td>\n",
       "    </tr>\n",
       "    <tr>\n",
       "      <th>33819</th>\n",
       "      <td>(cette, qu'un)</td>\n",
       "      <td>6.150932e-01</td>\n",
       "    </tr>\n",
       "    <tr>\n",
       "      <th>38427</th>\n",
       "      <td>(d'un, d’une)</td>\n",
       "      <td>6.141535e-01</td>\n",
       "    </tr>\n",
       "    <tr>\n",
       "      <th>33531</th>\n",
       "      <td>(cette, cet)</td>\n",
       "      <td>6.052415e-01</td>\n",
       "    </tr>\n",
       "    <tr>\n",
       "      <th>40546</th>\n",
       "      <td>(d'une, qu'un)</td>\n",
       "      <td>6.049129e-01</td>\n",
       "    </tr>\n",
       "    <tr>\n",
       "      <th>232804</th>\n",
       "      <td>(petit, petite)</td>\n",
       "      <td>6.033965e-01</td>\n",
       "    </tr>\n",
       "    <tr>\n",
       "      <th>252881</th>\n",
       "      <td>(laquelle, lequel)</td>\n",
       "      <td>6.032580e-01</td>\n",
       "    </tr>\n",
       "    <tr>\n",
       "      <th>40333</th>\n",
       "      <td>(d'une, d’un)</td>\n",
       "      <td>5.998882e-01</td>\n",
       "    </tr>\n",
       "    <tr>\n",
       "      <th>26628</th>\n",
       "      <td>(ce, cette)</td>\n",
       "      <td>5.921510e-01</td>\n",
       "    </tr>\n",
       "    <tr>\n",
       "      <th>33645</th>\n",
       "      <td>(cette, seul)</td>\n",
       "      <td>5.908306e-01</td>\n",
       "    </tr>\n",
       "    <tr>\n",
       "      <th>131860</th>\n",
       "      <td>(nouveau, nouvelle)</td>\n",
       "      <td>5.867211e-01</td>\n",
       "    </tr>\n",
       "    <tr>\n",
       "      <th>374864</th>\n",
       "      <td>(qu'une, aucun)</td>\n",
       "      <td>5.797354e-01</td>\n",
       "    </tr>\n",
       "    <tr>\n",
       "      <th>33985</th>\n",
       "      <td>(cette, aucun)</td>\n",
       "      <td>5.729743e-01</td>\n",
       "    </tr>\n",
       "    <tr>\n",
       "      <th>2033</th>\n",
       "      <td>(la, d'un)</td>\n",
       "      <td>5.706080e-01</td>\n",
       "    </tr>\n",
       "    <tr>\n",
       "      <th>348235</th>\n",
       "      <td>(qu'un, aucune)</td>\n",
       "      <td>5.691776e-01</td>\n",
       "    </tr>\n",
       "    <tr>\n",
       "      <th>34069</th>\n",
       "      <td>(cette, tel)</td>\n",
       "      <td>5.660413e-01</td>\n",
       "    </tr>\n",
       "    <tr>\n",
       "      <th>237274</th>\n",
       "      <td>(seul, qu'une)</td>\n",
       "      <td>5.650581e-01</td>\n",
       "    </tr>\n",
       "    <tr>\n",
       "      <th>326371</th>\n",
       "      <td>(seule, qu'un)</td>\n",
       "      <td>5.611421e-01</td>\n",
       "    </tr>\n",
       "    <tr>\n",
       "      <th>33792</th>\n",
       "      <td>(cette, important)</td>\n",
       "      <td>5.550795e-01</td>\n",
       "    </tr>\n",
       "    <tr>\n",
       "      <th>33606</th>\n",
       "      <td>(cette, d’un)</td>\n",
       "      <td>5.542877e-01</td>\n",
       "    </tr>\n",
       "    <tr>\n",
       "      <th>38569</th>\n",
       "      <td>(d'un, petite)</td>\n",
       "      <td>5.511279e-01</td>\n",
       "    </tr>\n",
       "    <tr>\n",
       "      <th>38644</th>\n",
       "      <td>(d'un, importante)</td>\n",
       "      <td>5.487903e-01</td>\n",
       "    </tr>\n",
       "    <tr>\n",
       "      <th>...</th>\n",
       "      <td>...</td>\n",
       "      <td>...</td>\n",
       "    </tr>\n",
       "    <tr>\n",
       "      <th>149691</th>\n",
       "      <td>(trouve, janvier)</td>\n",
       "      <td>3.102978e-06</td>\n",
       "    </tr>\n",
       "    <tr>\n",
       "      <th>278187</th>\n",
       "      <td>(livre, formation)</td>\n",
       "      <td>3.101280e-06</td>\n",
       "    </tr>\n",
       "    <tr>\n",
       "      <th>146048</th>\n",
       "      <td>(d'autres, carte)</td>\n",
       "      <td>2.910242e-06</td>\n",
       "    </tr>\n",
       "    <tr>\n",
       "      <th>35598</th>\n",
       "      <td>(deux, république)</td>\n",
       "      <td>2.898890e-06</td>\n",
       "    </tr>\n",
       "    <tr>\n",
       "      <th>499334</th>\n",
       "      <td>(bourg, parlement)</td>\n",
       "      <td>2.863432e-06</td>\n",
       "    </tr>\n",
       "    <tr>\n",
       "      <th>131163</th>\n",
       "      <td>(forme, bois)</td>\n",
       "      <td>2.848046e-06</td>\n",
       "    </tr>\n",
       "    <tr>\n",
       "      <th>108281</th>\n",
       "      <td>(leurs, l'université)</td>\n",
       "      <td>2.763935e-06</td>\n",
       "    </tr>\n",
       "    <tr>\n",
       "      <th>204201</th>\n",
       "      <td>(ensuite, risque)</td>\n",
       "      <td>2.666690e-06</td>\n",
       "    </tr>\n",
       "    <tr>\n",
       "      <th>258046</th>\n",
       "      <td>(construction, japon)</td>\n",
       "      <td>2.545795e-06</td>\n",
       "    </tr>\n",
       "    <tr>\n",
       "      <th>25266</th>\n",
       "      <td>(-, l'ordre)</td>\n",
       "      <td>2.542755e-06</td>\n",
       "    </tr>\n",
       "    <tr>\n",
       "      <th>106114</th>\n",
       "      <td>(faire, jeunes)</td>\n",
       "      <td>2.465193e-06</td>\n",
       "    </tr>\n",
       "    <tr>\n",
       "      <th>348700</th>\n",
       "      <td>(siège, départ)</td>\n",
       "      <td>2.328373e-06</td>\n",
       "    </tr>\n",
       "    <tr>\n",
       "      <th>451268</th>\n",
       "      <td>(combat, temple)</td>\n",
       "      <td>2.242366e-06</td>\n",
       "    </tr>\n",
       "    <tr>\n",
       "      <th>299292</th>\n",
       "      <td>(françois, titres)</td>\n",
       "      <td>2.118136e-06</td>\n",
       "    </tr>\n",
       "    <tr>\n",
       "      <th>41368</th>\n",
       "      <td>(entre, langue)</td>\n",
       "      <td>2.054921e-06</td>\n",
       "    </tr>\n",
       "    <tr>\n",
       "      <th>230678</th>\n",
       "      <td>(base, villes)</td>\n",
       "      <td>1.855174e-06</td>\n",
       "    </tr>\n",
       "    <tr>\n",
       "      <th>119588</th>\n",
       "      <td>(roi, essentiellement)</td>\n",
       "      <td>1.698711e-06</td>\n",
       "    </tr>\n",
       "    <tr>\n",
       "      <th>359692</th>\n",
       "      <td>(premières, section)</td>\n",
       "      <td>1.443445e-06</td>\n",
       "    </tr>\n",
       "    <tr>\n",
       "      <th>254654</th>\n",
       "      <td>(février, communeid)</td>\n",
       "      <td>1.321495e-06</td>\n",
       "    </tr>\n",
       "    <tr>\n",
       "      <th>376865</th>\n",
       "      <td>(province, régions)</td>\n",
       "      <td>1.106531e-06</td>\n",
       "    </tr>\n",
       "    <tr>\n",
       "      <th>419290</th>\n",
       "      <td>(capitale, archives)</td>\n",
       "      <td>1.029705e-06</td>\n",
       "    </tr>\n",
       "    <tr>\n",
       "      <th>113152</th>\n",
       "      <td>(avait, voit)</td>\n",
       "      <td>7.573107e-07</td>\n",
       "    </tr>\n",
       "    <tr>\n",
       "      <th>189933</th>\n",
       "      <td>(jour, décide)</td>\n",
       "      <td>7.465606e-07</td>\n",
       "    </tr>\n",
       "    <tr>\n",
       "      <th>206276</th>\n",
       "      <td>(c, charge)</td>\n",
       "      <td>4.923885e-07</td>\n",
       "    </tr>\n",
       "    <tr>\n",
       "      <th>64445</th>\n",
       "      <td>(peut, vu)</td>\n",
       "      <td>3.205424e-07</td>\n",
       "    </tr>\n",
       "    <tr>\n",
       "      <th>204877</th>\n",
       "      <td>(année, fond)</td>\n",
       "      <td>3.109828e-07</td>\n",
       "    </tr>\n",
       "    <tr>\n",
       "      <th>101111</th>\n",
       "      <td>(tous, monument)</td>\n",
       "      <td>2.932618e-07</td>\n",
       "    </tr>\n",
       "    <tr>\n",
       "      <th>460254</th>\n",
       "      <td>(petits, terrain)</td>\n",
       "      <td>1.548935e-07</td>\n",
       "    </tr>\n",
       "    <tr>\n",
       "      <th>321824</th>\n",
       "      <td>(produit, sortie)</td>\n",
       "      <td>1.267189e-07</td>\n",
       "    </tr>\n",
       "    <tr>\n",
       "      <th>44680</th>\n",
       "      <td>(http, main)</td>\n",
       "      <td>5.819002e-08</td>\n",
       "    </tr>\n",
       "  </tbody>\n",
       "</table>\n",
       "<p>499500 rows × 2 columns</p>\n",
       "</div>"
      ],
      "text/plain": [
       "                           pair         score\n",
       "348025          (qu'un, qu'une)  8.982379e-01\n",
       "38221             (d'un, d'une)  8.877078e-01\n",
       "208044            (d’un, d’une)  8.569036e-01\n",
       "425674          (aucun, aucune)  7.322243e-01\n",
       "237185            (seul, seule)  7.034017e-01\n",
       "332788  (important, importante)  7.032869e-01\n",
       "362244        (appelé, appelée)  6.813930e-01\n",
       "38680            (d'un, qu'une)  6.325427e-01\n",
       "33409             (cette, d'un)  6.170636e-01\n",
       "33819            (cette, qu'un)  6.150932e-01\n",
       "38427             (d'un, d’une)  6.141535e-01\n",
       "33531              (cette, cet)  6.052415e-01\n",
       "40546            (d'une, qu'un)  6.049129e-01\n",
       "232804          (petit, petite)  6.033965e-01\n",
       "252881       (laquelle, lequel)  6.032580e-01\n",
       "40333             (d'une, d’un)  5.998882e-01\n",
       "26628               (ce, cette)  5.921510e-01\n",
       "33645             (cette, seul)  5.908306e-01\n",
       "131860      (nouveau, nouvelle)  5.867211e-01\n",
       "374864          (qu'une, aucun)  5.797354e-01\n",
       "33985            (cette, aucun)  5.729743e-01\n",
       "2033                 (la, d'un)  5.706080e-01\n",
       "348235          (qu'un, aucune)  5.691776e-01\n",
       "34069              (cette, tel)  5.660413e-01\n",
       "237274           (seul, qu'une)  5.650581e-01\n",
       "326371           (seule, qu'un)  5.611421e-01\n",
       "33792        (cette, important)  5.550795e-01\n",
       "33606             (cette, d’un)  5.542877e-01\n",
       "38569            (d'un, petite)  5.511279e-01\n",
       "38644        (d'un, importante)  5.487903e-01\n",
       "...                         ...           ...\n",
       "149691        (trouve, janvier)  3.102978e-06\n",
       "278187       (livre, formation)  3.101280e-06\n",
       "146048        (d'autres, carte)  2.910242e-06\n",
       "35598        (deux, république)  2.898890e-06\n",
       "499334       (bourg, parlement)  2.863432e-06\n",
       "131163            (forme, bois)  2.848046e-06\n",
       "108281    (leurs, l'université)  2.763935e-06\n",
       "204201        (ensuite, risque)  2.666690e-06\n",
       "258046    (construction, japon)  2.545795e-06\n",
       "25266              (-, l'ordre)  2.542755e-06\n",
       "106114          (faire, jeunes)  2.465193e-06\n",
       "348700          (siège, départ)  2.328373e-06\n",
       "451268         (combat, temple)  2.242366e-06\n",
       "299292       (françois, titres)  2.118136e-06\n",
       "41368           (entre, langue)  2.054921e-06\n",
       "230678           (base, villes)  1.855174e-06\n",
       "119588   (roi, essentiellement)  1.698711e-06\n",
       "359692     (premières, section)  1.443445e-06\n",
       "254654     (février, communeid)  1.321495e-06\n",
       "376865      (province, régions)  1.106531e-06\n",
       "419290     (capitale, archives)  1.029705e-06\n",
       "113152            (avait, voit)  7.573107e-07\n",
       "189933           (jour, décide)  7.465606e-07\n",
       "206276              (c, charge)  4.923885e-07\n",
       "64445                (peut, vu)  3.205424e-07\n",
       "204877            (année, fond)  3.109828e-07\n",
       "101111         (tous, monument)  2.932618e-07\n",
       "460254        (petits, terrain)  1.548935e-07\n",
       "321824        (produit, sortie)  1.267189e-07\n",
       "44680              (http, main)  5.819002e-08\n",
       "\n",
       "[499500 rows x 2 columns]"
      ]
     },
     "execution_count": 205,
     "metadata": {},
     "output_type": "execute_result"
    }
   ],
   "source": [
    "lib.association_Genrator('une','un',model,top_n=1000)"
   ]
  },
  {
   "cell_type": "code",
   "execution_count": 279,
   "metadata": {},
   "outputs": [
    {
     "name": "stdout",
     "output_type": "stream",
     "text": [
      "Prediction :  0.4255716285580961\n",
      "Aléa :  0.34951003266448905\n",
      " Seulement des 1 : 0.1279634390174236\n"
     ]
    }
   ],
   "source": [
    "pair_g = [['la','le'],['elle','il'], ['appelée', 'appelé'],[\"\"\"qu'une\"\"\", \"\"\"qu'un\"\"\"],[\"\"\"d'une\"\"\", \"\"\"d'un\"\"\"],\n",
    "          ['une','un'],['laquelle', 'lequel'],['cette', 'ce'],['seule', 'seul'],['celle','celui'],\n",
    "          ['importante', 'important'],\n",
    "          ['mienne','mien']]\n",
    "\n",
    "\n",
    "Subs_genre = lib.from_pair_to_subspace(pair_g,model)\n",
    "direction_g, expl_var_g,eig_values_g = lib.from_space_to_direction(Subs_genre)\n",
    "\n",
    "##\n",
    "result['direct_biais'] =result['Mot'].apply(lambda x:lib.cosine_similarity(model[x],direction_g))\n",
    "result['Gender_pred_2']= result['direct_biais'].apply(lambda x : clean_coef(x))\n",
    "result['random'] = alea(result)\n",
    "##\n",
    "print('Prediction : ',len(result[(result['Gender_pred_2'] == result['Genre']) & (result['type']=='N')])/len(result[result['type']=='N']))\n",
    "print('Aléa : ', len(result[(result['random'] == result['Genre']) & (result['type']=='N')])/len(result[result['type']=='N']))\n",
    "print(' Seulement des 1 :',  result['Genre'].sum()/len(result))"
   ]
  },
  {
   "cell_type": "code",
   "execution_count": 280,
   "metadata": {},
   "outputs": [
    {
     "name": "stdout",
     "output_type": "stream",
     "text": [
      "Prediction :  0.5025664955669622\n",
      "Aléa :  0.3159122725151657\n",
      " Seulement des 1 : 0.1279634390174236\n"
     ]
    }
   ],
   "source": [
    "pair_g = [['le','la'],['un','une'],['il','elle'],['appelé', 'appelée'],\n",
    "          [\"\"\"qu'un\"\"\", \"\"\"qu'une\"\"\"],[\"\"\"d'un\"\"\", \"\"\"d'une\"\"\"],['un','une'],\n",
    "          ['lequel', 'laquelle'],['ce', 'cette'],['seul', 'seule'],['celui','celle'],\n",
    "          ['important', 'importante'],\n",
    "          ['mien','mienne']]\n",
    "\n",
    "\n",
    "Subs_genre = lib.from_pair_to_subspace(pair_g,model)\n",
    "direction_g, expl_var_g,eig_values_g = lib.from_space_to_direction(Subs_genre)\n",
    "\n",
    "##\n",
    "result['direct_biais'] =result['Mot'].apply(lambda x:lib.cosine_similarity(model[x],direction_g))\n",
    "result['Gender_pred_2']= result['direct_biais'].apply(lambda x : clean_coef(x))\n",
    "result['random'] = alea(result)\n",
    "##\n",
    "print('Prediction : ',len(result[(result['Gender_pred_2'] == result['Genre']) & (result['type']=='N')])/len(result[result['type']=='N']))\n",
    "print('Aléa : ', len(result[(result['random'] == result['Genre']) & (result['type']=='N')])/len(result[result['type']=='N']))\n",
    "print(' Seulement des 1 :',  result['Genre'].sum()/len(result))"
   ]
  },
  {
   "cell_type": "code",
   "execution_count": 281,
   "metadata": {},
   "outputs": [
    {
     "name": "stdout",
     "output_type": "stream",
     "text": [
      "Prediction :  0.4456369575361643\n",
      "Aléa :  0.33924405039664024\n",
      " Seulement des 1 : 0.1279634390174236\n"
     ]
    }
   ],
   "source": [
    "pair_g = [['la','le'],['elle','il'], ['femme', 'homme'],['fille','garçon'],['père','mère'],['fille','fils'],\n",
    "          ['une','un']]\n",
    "\n",
    "\n",
    "Subs_genre = lib.from_pair_to_subspace(pair_g,model)\n",
    "direction_g, expl_var_g,eig_values_g = lib.from_space_to_direction(Subs_genre)\n",
    "\n",
    "##\n",
    "result['direct_biais'] =result['Mot'].apply(lambda x:lib.cosine_similarity(model[x],direction_g))\n",
    "result['Gender_pred_2']= result['direct_biais'].apply(lambda x : clean_coef(x))\n",
    "result['random'] = alea(result)\n",
    "##\n",
    "print('Prediction : ',len(result[(result['Gender_pred_2'] == result['Genre']) & (result['type']=='N')])/len(result[result['type']=='N']))\n",
    "print('Aléa : ', len(result[(result['random'] == result['Genre']) & (result['type']=='N')])/len(result[result['type']=='N']))\n",
    "print(' Seulement des 1 :',  result['Genre'].sum()/len(result))"
   ]
  },
  {
   "cell_type": "markdown",
   "metadata": {},
   "source": [
    "# Comment :\n",
    "The direct biais doesn't seem related to the gramatical gender because when we are using it to do classification. It is less preformant than the random."
   ]
  },
  {
   "cell_type": "code",
   "execution_count": null,
   "metadata": {},
   "outputs": [],
   "source": []
  }
 ],
 "metadata": {
  "kernelspec": {
   "display_name": "Python 3",
   "language": "python",
   "name": "python3"
  },
  "language_info": {
   "codemirror_mode": {
    "name": "ipython",
    "version": 3
   },
   "file_extension": ".py",
   "mimetype": "text/x-python",
   "name": "python",
   "nbconvert_exporter": "python",
   "pygments_lexer": "ipython3",
   "version": "3.6.5"
  }
 },
 "nbformat": 4,
 "nbformat_minor": 2
}
