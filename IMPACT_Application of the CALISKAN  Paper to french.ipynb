{
 "cells": [
  {
   "cell_type": "markdown",
   "metadata": {},
   "source": [
    "# <center> Gender Biais detection</center>\n",
    "## <center> Application of the CALISKAN  Paper to french  </center>\n",
    "### <center> Quillivic Robin </center>\n",
    "Sources : Semantics derived automatically from language corpora necessarily contain human biases, 2016\n",
    "Sources : Man is to Computer Programmer as Woman is to Homemaker? Debiasing Word Embeddings, Bolukbasi, Tolga, 2016"
   ]
  },
  {
   "cell_type": "code",
   "execution_count": 1,
   "metadata": {},
   "outputs": [
    {
     "name": "stderr",
     "output_type": "stream",
     "text": [
      "C:\\Users\\Robin\\Anaconda3\\lib\\site-packages\\gensim\\utils.py:1197: UserWarning: detected Windows; aliasing chunkize to chunkize_serial\n",
      "  warnings.warn(\"detected Windows; aliasing chunkize to chunkize_serial\")\n"
     ]
    }
   ],
   "source": [
    "from gensim.test.utils import common_texts, get_tmpfile\n",
    "from gensim.models import Word2Vec\n",
    "import logging\n",
    "import gensim\n",
    "import os\n",
    "\n",
    "import itertools\n",
    "\n",
    "from gensim.test.utils import get_tmpfile\n",
    "from gensim.models import KeyedVectors\n",
    "\n",
    "import matplotlib.pyplot as plt\n",
    "from random import *\n",
    "\n",
    "import pandas as pd\n",
    "import numpy as np\n",
    "import math\n",
    "\n",
    "from sklearn.decomposition import PCA\n",
    "import lib\n",
    "import fasttext\n",
    "from gensim.models.wrappers import FastText\n",
    "import random\n",
    "from sklearn.metrics import roc_auc_score,accuracy_score"
   ]
  },
  {
   "cell_type": "code",
   "execution_count": 2,
   "metadata": {},
   "outputs": [
    {
     "name": "stderr",
     "output_type": "stream",
     "text": [
      "2019-03-21 18:36:06,861 : INFO : loading projection weights from DATA\\FR\\cc.fr.300.vec\n",
      "2019-03-21 18:36:24,242 : INFO : loaded (70000, 300) matrix from DATA\\FR\\cc.fr.300.vec\n",
      "2019-03-21 18:36:24,243 : INFO : loading projection weights from DATA\\FR\\frWac_no_postag_no_phrase_500_skip_cut100.bin\n",
      "2019-03-21 18:36:25,393 : INFO : loaded (70000, 500) matrix from DATA\\FR\\frWac_no_postag_no_phrase_500_skip_cut100.bin\n",
      "2019-03-21 18:36:25,394 : INFO : loading projection weights from DATA\\FR\\wiki_fr.vec\n",
      "2019-03-21 18:36:48,120 : INFO : loaded (70000, 300) matrix from DATA\\FR\\wiki_fr.vec\n",
      "2019-03-21 18:36:48,122 : INFO : loading projection weights from C:/Users/Robin/Documents/IMPACT/Notebooks/DATA/FR/ppmi_svd_fr/matrix.txt\n",
      "2019-03-21 18:37:25,370 : INFO : loaded (53376, 500) matrix from C:/Users/Robin/Documents/IMPACT/Notebooks/DATA/FR/ppmi_svd_fr/matrix.txt\n",
      "2019-03-21 18:37:25,371 : INFO : precomputing L2-norms of word weight vectors\n",
      "2019-03-21 18:37:25,997 : INFO : precomputing L2-norms of word weight vectors\n",
      "2019-03-21 18:37:26,983 : INFO : precomputing L2-norms of word weight vectors\n",
      "2019-03-21 18:37:27,995 : INFO : precomputing L2-norms of word weight vectors\n"
     ]
    }
   ],
   "source": [
    "# Logging code taken from http://rare-technologies.com/word2vec-tutorial/\n",
    "logging.basicConfig(format='%(asctime)s : %(levelname)s : %(message)s', level=logging.INFO)\n",
    "\n",
    "# Load pre-trained Word2Vec model.\n",
    "model  = gensim.models.KeyedVectors.load_word2vec_format(r'DATA\\FR\\cc.fr.300.vec', binary=False,limit=70000)\n",
    "model_lem  = gensim.models.KeyedVectors.load_word2vec_format(r'DATA\\FR\\frWac_no_postag_no_phrase_500_skip_cut100.bin', binary=True,limit=70000)\n",
    "#model  = gensim.models.KeyedVectors.load_word2vec_format(r'DATA\\FR\\fr_Kyubyong_wordvectors.vec',binary=False,limit=50000)\n",
    "model_wiki  = gensim.models.KeyedVectors.load_word2vec_format(r'DATA\\FR\\wiki_fr.vec',binary=False,limit=70000)\n",
    "model_wiki_lem  = gensim.models.KeyedVectors.load_word2vec_format('C:/Users/Robin/Documents/IMPACT/Notebooks/DATA/FR/ppmi_svd_fr/matrix.txt',binary=False,encoding='latin1')\n",
    "# normalizeation :\n",
    "model.init_sims(True)\n",
    "model_lem.init_sims(True)\n",
    "model_wiki.init_sims(True)\n",
    "model_wiki_lem.init_sims(True)"
   ]
  },
  {
   "cell_type": "markdown",
   "metadata": {},
   "source": [
    "## WEAT"
   ]
  },
  {
   "cell_type": "code",
   "execution_count": 61,
   "metadata": {},
   "outputs": [],
   "source": [
    "#attributes\n",
    "A = ['un','il','homme','mâle','fils','père','garçon']\n",
    "B = ['une','elle','femme','femelle','mère','fille']\n",
    "\n",
    "# targets\n",
    "X = ['informaticien', 'ingénieur', 'scientifique','docteur'] \n",
    "Y = ['infirmière', 'professeure', 'libraire','secrétaire']\n",
    "\n",
    "# targets\n",
    "X=['mathématiques', 'algèbre', 'géométrie', 'calcul', 'équation', 'informatique', 'nombre', 'additions']\n",
    "Y =['poésie', 'art', 'danse', 'littérature', 'roman', 'symphonie', 'drame', 'sculpture']  "
   ]
  },
  {
   "cell_type": "code",
   "execution_count": 5,
   "metadata": {},
   "outputs": [
    {
     "name": "stdout",
     "output_type": "stream",
     "text": [
      "Association of mathématiques with the attributes A,B is :  0.5737823937213666\n",
      "Association of algèbre with the attributes A,B is :  -94.77152365158487\n",
      "Association of géométrie with the attributes A,B is :  -141.75227489128255\n",
      "Association of calcul with the attributes A,B is :  30.944964056140122\n",
      "Association of équation with the attributes A,B is :  -144.06799926442193\n"
     ]
    }
   ],
   "source": [
    "for x in X:\n",
    "    print('Association of',x,'with the attributes A,B is : ',lib.wefat(x,A,B,model)*100)"
   ]
  },
  {
   "cell_type": "code",
   "execution_count": 6,
   "metadata": {},
   "outputs": [
    {
     "name": "stdout",
     "output_type": "stream",
     "text": [
      "Association of poésie with the attributes A,B is :  -12.84395300206684\n",
      "Association of art with the attributes A,B is :  1.6029524040364063\n",
      "Association of danse with the attributes A,B is :  -14.698579534888268\n",
      "Association of littérature with the attributes A,B is :  -14.975863801581518\n",
      "Association of roman with the attributes A,B is :  3.229762152546928\n"
     ]
    }
   ],
   "source": [
    "for x in Y:\n",
    "    print('Association of',x,'with the attributes A,B is : ',lib.wefat(x,A,B,model)*100)"
   ]
  },
  {
   "cell_type": "code",
   "execution_count": 62,
   "metadata": {},
   "outputs": [
    {
     "data": {
      "text/plain": [
       "0.2954076105019166"
      ]
     },
     "execution_count": 62,
     "metadata": {},
     "output_type": "execute_result"
    }
   ],
   "source": [
    "lib.S(X,Y,A,B,model)"
   ]
  },
  {
   "cell_type": "code",
   "execution_count": 28,
   "metadata": {},
   "outputs": [
    {
     "name": "stdout",
     "output_type": "stream",
     "text": [
      " the effect size is 0.08083034426778109\n"
     ]
    }
   ],
   "source": [
    "e= lib.effet_size(X,Y,A,B,model)\n",
    "print(' the effect size is',e)"
   ]
  },
  {
   "cell_type": "code",
   "execution_count": 29,
   "metadata": {},
   "outputs": [
    {
     "name": "stdout",
     "output_type": "stream",
     "text": [
      "30512\n",
      " the ps values is 0.15062744981882448\n"
     ]
    }
   ],
   "source": [
    "p = lib.p_values(X,Y,A,B,model)\n",
    "print(' the p values is',p)"
   ]
  },
  {
   "cell_type": "markdown",
   "metadata": {},
   "source": [
    "# Cosntruction of list of attributes"
   ]
  },
  {
   "cell_type": "code",
   "execution_count": 3,
   "metadata": {},
   "outputs": [],
   "source": [
    "pair_g = [['la','le'],['elle','il'], ['cette', 'cet'],\n",
    "          ['une','un'],['laquelle', 'lequel'],['celle','celui'],['ma','mon'],\n",
    "          ['mienne','mien'],['certaine', 'certain'],['aucune', 'aucun']\n",
    "         ]\n",
    "\n",
    "pair_g1 = [['fille','garçon'],['maman','papa'],['mère','père'],['fille','fils'],['femelle','mâle'],\n",
    "           ['reine','roi'],['tante','oncle'],['grand-père','grand-mère'],\n",
    "           ['femme','homme'],['soeur','frère'],['marraine','parrain']\n",
    "          ]\n",
    "\n",
    "\n",
    "pair_g2 = [['belle','beau'],['actrice','acteur'],['serveuse','serveur'],['contente' ,'content'],\n",
    "           ['petite','petit'],['heureuse','heureux'],['gentille','gentils'],['seule', 'seul'],\n",
    "           ['créatrice','créateur'],['chanteuse','chanteuse']]\n",
    "\n",
    "pair_am = [['brebis', 'bélier'], ['chèvre', 'bouc'],['biche', 'cerf'],\n",
    "           ['chatte', 'chat'], ['jument', 'cheval'],['chienne', 'chien'], ['poule', 'coq'],\n",
    "           ['louve', 'loup'],['rate', 'rat'],['vache', 'taureau']]\n",
    "\n",
    "pair_h =[['femme','homme'],['fille','garçon'],['femelle','mâle'],\n",
    "         ['la','le'],['elle','il'],['une','un'],\n",
    "         ['seule', 'seul'],['petite','petit'],\n",
    "         ['jument', 'cheval'],['louve', 'loup']\n",
    "        ]\n",
    "pair_all= pair_g+pair_g1+pair_g2+pair_am+pair_h\n",
    "\n",
    "def from_pair_to_attribute(pair):\n",
    "    A = []\n",
    "    B = []\n",
    "    for i in range(len(pair)):\n",
    "        A.append(pair[i][1])\n",
    "        B.append(pair[i][0])\n",
    "    return([A,B])\n",
    "\n",
    "DET = from_pair_to_attribute(pair_g)\n",
    "FAM = from_pair_to_attribute(pair_g1)\n",
    "SUF = from_pair_to_attribute(pair_g2)\n",
    "MAM = from_pair_to_attribute(pair_am)\n",
    "HYB = from_pair_to_attribute(pair_h)\n",
    "ALL = from_pair_to_attribute(pair_all)"
   ]
  },
  {
   "cell_type": "code",
   "execution_count": 5,
   "metadata": {
    "scrolled": false
   },
   "outputs": [
    {
     "name": "stdout",
     "output_type": "stream",
     "text": [
      "#####################\n",
      "#    Words   #\n",
      "#####################\n"
     ]
    },
    {
     "data": {
      "image/png": "[encoded data removed]",
      "text/plain": [
       "<Figure size 1080x576 with 1 Axes>"
      ]
     },
     "metadata": {},
     "output_type": "display_data"
    },
    {
     "data": {
      "image/png": "[encoded data removed]",
      "text/plain": [
       "<Figure size 1080x576 with 1 Axes>"
      ]
     },
     "metadata": {},
     "output_type": "display_data"
    }
   ],
   "source": [
    "word = ['mathématique','football','amour','voiture','aventure','émotion','larme','danse','sein','robe','match']\n",
    "A = ['le','il','homme','mâle','père','garçon']\n",
    "B = ['la','elle','femme','femelle','mère','fille']\n",
    "print('#####################')\n",
    "print('#    Words   #')\n",
    "print('#####################')\n",
    "def plot_model(word,CAT):\n",
    "    A,B= CAT[0],CAT[1]\n",
    "    M,ML,MW,MWL = [],[],[],[]\n",
    "    MODEL = [model,model_lem,model_wiki,model_wiki_lem]\n",
    "    MODEL_NAME = ['model','model_lem','model_wiki','model_wiki_lem']\n",
    "    for w in word :\n",
    "        M.append( lib.s(w,A,B,model)*10)\n",
    "        ML.append( lib.s(w,A,B,model_lem)*10)\n",
    "        MW.append( lib.s(w,A,B,model_wiki)*10)\n",
    "        MWL.append( lib.s(w,A,B,model_wiki_lem)*10)\n",
    "        \n",
    "    res = pd.DataFrame(data={'FastText CC':M,'W2V CC Lem':ML,'WIKI FR W2V':MW,'WIKI FR Lem':MWL},index=word)\n",
    "    res.plot.bar(figsize=(15,8))\n",
    "    plt.show()\n",
    "plot_model(word,[A,B])\n",
    "\n",
    "\n",
    "def plot_pair(word,model):   \n",
    "    G,G1,G2,GM,GH,ALLi = [],[],[],[],[],[]\n",
    "    for w in word :\n",
    "        G.append( lib.s(w,DET[0],DET[1],model)*100)\n",
    "        G1.append(lib.s(w,FAM[0],FAM[1],model)*100)\n",
    "        G2.append(lib.s(w,SUF[0],SUF[1],model)*100)\n",
    "        GM.append(lib.s(w,MAM[0],MAM[1],model)*100)\n",
    "        GH.append(lib.s(w,HYB[0],HYB[1],model)*100)\n",
    "        ALLi.append(lib.s(w,ALL[0],ALL[1],model)*100)\n",
    "    res = pd.DataFrame(data={'Determinant':G,'famille':G1,'suffixe':G2,'Mammifères':GM,'Hybride':GH,'Toute':ALLi},index=word)\n",
    "    res.plot.bar(figsize=(15,8))\n",
    "    plt.show()\n",
    "    \n",
    "plot_pair(word,model)\n",
    "plt.show()"
   ]
  },
  {
   "cell_type": "code",
   "execution_count": 6,
   "metadata": {},
   "outputs": [
    {
     "data": {
      "image/png": "[encoded data removed]",
      "text/plain": [
       "<Figure size 1080x576 with 1 Axes>"
      ]
     },
     "metadata": {},
     "output_type": "display_data"
    }
   ],
   "source": [
    "neutral_fem =['table','chaise','pomme','banane','roue','enceinte','blague','bouteille','souris','feuille']\n",
    "plot_pair(neutral_fem,model)\n",
    "plt.show()"
   ]
  },
  {
   "cell_type": "code",
   "execution_count": 7,
   "metadata": {},
   "outputs": [
    {
     "data": {
      "image/png": "[encoded data removed]",
      "text/plain": [
       "<Figure size 1080x576 with 1 Axes>"
      ]
     },
     "metadata": {},
     "output_type": "display_data"
    }
   ],
   "source": [
    "neutral_man =['stylo','kiwi','chocolat','café','véhicule','chateau','rire','casier','clavier','filtre']\n",
    "plot_pair(neutral_man,model)\n",
    "plt.show()"
   ]
  },
  {
   "cell_type": "code",
   "execution_count": 48,
   "metadata": {},
   "outputs": [
    {
     "name": "stdout",
     "output_type": "stream",
     "text": [
      "#####################\n",
      "#    MathsWords   #\n",
      "#####################\n"
     ]
    },
    {
     "data": {
      "image/png": "[encoded data removed]",
      "text/plain": [
       "<Figure size 1080x576 with 1 Axes>"
      ]
     },
     "metadata": {},
     "output_type": "display_data"
    }
   ],
   "source": [
    "A = ['le','il','homme','mâle','père','garçon']\n",
    "B = ['la','elle','femme','femelle','mère','fille']\n",
    "print('#####################')\n",
    "print('#    MathsWords   #')\n",
    "print('#####################')\n",
    "X=['mathématique', 'algèbre', 'géométrie', 'calcul', 'équation', 'informatique', 'nombre', 'addition']\n",
    "plot(X,A,B)"
   ]
  },
  {
   "cell_type": "code",
   "execution_count": 49,
   "metadata": {},
   "outputs": [
    {
     "name": "stdout",
     "output_type": "stream",
     "text": [
      "#####################\n",
      "#    MathsWords   #\n",
      "#####################\n"
     ]
    },
    {
     "data": {
      "image/png": "[encoded data removed]",
      "text/plain": [
       "<Figure size 1080x576 with 1 Axes>"
      ]
     },
     "metadata": {},
     "output_type": "display_data"
    }
   ],
   "source": [
    "A = ['le','il','homme','mâle','père','garçon']\n",
    "B = ['la','elle','femme','femelle','mère','fille']\n",
    "print('#####################')\n",
    "print('#    MathsWords   #')\n",
    "print('#####################')\n",
    "Y =['poésie', 'art', 'danse', 'littérature', 'roman', 'symphonie', 'drame', 'sculpture']\n",
    "plot(Y,A,B)"
   ]
  },
  {
   "cell_type": "markdown",
   "metadata": {},
   "source": [
    "## Comment : \n",
    "For this example, we do not find any significant p value or effet size. That means , we are not observing any biais. more over, we observe that the sign of the association is direcly correlated with the gramatical gender !"
   ]
  },
  {
   "cell_type": "markdown",
   "metadata": {},
   "source": [
    "# Does the association coeficient (WEAT and WEFAT) reveal the gramatical gender ?"
   ]
  },
  {
   "cell_type": "code",
   "execution_count": 10,
   "metadata": {},
   "outputs": [],
   "source": [
    "#Load lexique in a Dataframe\n",
    "df = pd.read_excel(r'DATA\\FR\\Lexique382.xlsx',encoding='latin1')"
   ]
  },
  {
   "cell_type": "code",
   "execution_count": 32,
   "metadata": {},
   "outputs": [],
   "source": [
    "def Gender_Classifier_predict_wefat(corpus,A,B,model):\n",
    "    \"\"\"\n",
    "    predict the gender of a noum based on the wefat score\n",
    "    \"\"\"\n",
    "    Y_pred = []\n",
    "    for w in corpus:\n",
    "        if lib.wefat(w,A,B,model)*100>0:\n",
    "            Y_pred.append(1)\n",
    "        else :\n",
    "            Y_pred.append(0)\n",
    "    return(Y_pred)\n",
    "\n",
    "def store_score_wefat(A,B,model,lexique):\n",
    "    _,y = lib.built_X_y(lib.merge_model_lexique(df,model),model)\n",
    "    corpus = lib.merge_model_lexique(df,model)['Mot'].values\n",
    "    Y_pred = Gender_Classifier_predict_wefat(corpus,A,B,model)\n",
    "    Y_pred_rand = np.random.randint(2, size=len(y))\n",
    "    roc = roc_auc_score(y, Y_pred)\n",
    "    acc = accuracy_score(y, Y_pred)\n",
    "    roc_rand = roc_auc_score(y, Y_pred_rand)\n",
    "    acc_rand = accuracy_score(y, Y_pred_rand)\n",
    "    return(roc,acc,roc_rand,acc_rand)\n",
    "\n",
    "def store_result_wefat(MODEL,MODEL_NAME,A,B,lexique):\n",
    "    ROC,ROC_R = [],[]\n",
    "    ACC ,ACC_R = [],[]\n",
    "    for model in MODEL:\n",
    "        try :\n",
    "            roc,acc,roc_rand,acc_rand = store_score_wefat(A,B,model,lexique)\n",
    "        except :\n",
    "            roc,acc,roc_rand,acc_rand = 0,0,0,0\n",
    "        ROC.append(roc)\n",
    "        ACC.append(acc)\n",
    "        ROC_R.append(roc_rand)\n",
    "        ACC_R.append(acc_rand)\n",
    "    df = pd.DataFrame(data = {'ROC':ROC,'ACC':ACC,'ROC_random':ROC_R,'ACC_Random':ACC_R},index=MODEL_NAME)\n",
    "    return(df)\n",
    "\n",
    "    "
   ]
  },
  {
   "cell_type": "code",
   "execution_count": 71,
   "metadata": {},
   "outputs": [],
   "source": [
    "pair_g1 = [['femme','homme'],['maman','papa'],['mère','père'],['femelle','mâle'],\n",
    "           ['reine','roi'],['tante','oncle'],\n",
    "           ['fille','garçon'],['marraine','parrain']\n",
    "          ]\n",
    "pair_am = [['brebis', 'bélier'], ['chèvre', 'bouc'],['biche', 'cerf'],\n",
    "            ['jument', 'cheval'], ['poule', 'coq'],\n",
    "           ['louve', 'loup'],['rate', 'rat'],['vache', 'taureau']]\n",
    "\n",
    "FAM = from_pair_to_attribute(pair_g1)\n",
    "MAM = from_pair_to_attribute(pair_am)\n"
   ]
  },
  {
   "cell_type": "code",
   "execution_count": 50,
   "metadata": {},
   "outputs": [
    {
     "name": "stdout",
     "output_type": "stream",
     "text": [
      "##########################\n",
      "#    A,B attributes      #\n",
      "##########################\n"
     ]
    },
    {
     "data": {
      "text/html": [
       "<div>\n",
       "<style scoped>\n",
       "    .dataframe tbody tr th:only-of-type {\n",
       "        vertical-align: middle;\n",
       "    }\n",
       "\n",
       "    .dataframe tbody tr th {\n",
       "        vertical-align: top;\n",
       "    }\n",
       "\n",
       "    .dataframe thead th {\n",
       "        text-align: right;\n",
       "    }\n",
       "</style>\n",
       "<table border=\"1\" class=\"dataframe\">\n",
       "  <thead>\n",
       "    <tr style=\"text-align: right;\">\n",
       "      <th></th>\n",
       "      <th>ROC</th>\n",
       "      <th>ACC</th>\n",
       "      <th>ROC_random</th>\n",
       "      <th>ACC_Random</th>\n",
       "    </tr>\n",
       "  </thead>\n",
       "  <tbody>\n",
       "    <tr>\n",
       "      <th>model</th>\n",
       "      <td>0.862203</td>\n",
       "      <td>0.850257</td>\n",
       "      <td>0.505615</td>\n",
       "      <td>0.505832</td>\n",
       "    </tr>\n",
       "    <tr>\n",
       "      <th>model_lem</th>\n",
       "      <td>0.541835</td>\n",
       "      <td>0.615151</td>\n",
       "      <td>0.498238</td>\n",
       "      <td>0.498158</td>\n",
       "    </tr>\n",
       "    <tr>\n",
       "      <th>model_wiki</th>\n",
       "      <td>0.743694</td>\n",
       "      <td>0.746837</td>\n",
       "      <td>0.509120</td>\n",
       "      <td>0.508658</td>\n",
       "    </tr>\n",
       "    <tr>\n",
       "      <th>model_wiki_lem</th>\n",
       "      <td>0.513155</td>\n",
       "      <td>0.655409</td>\n",
       "      <td>0.499171</td>\n",
       "      <td>0.499431</td>\n",
       "    </tr>\n",
       "  </tbody>\n",
       "</table>\n",
       "</div>"
      ],
      "text/plain": [
       "                     ROC       ACC  ROC_random  ACC_Random\n",
       "model           0.862203  0.850257    0.505615    0.505832\n",
       "model_lem       0.541835  0.615151    0.498238    0.498158\n",
       "model_wiki      0.743694  0.746837    0.509120    0.508658\n",
       "model_wiki_lem  0.513155  0.655409    0.499171    0.499431"
      ]
     },
     "execution_count": 50,
     "metadata": {},
     "output_type": "execute_result"
    }
   ],
   "source": [
    "\n",
    "print('##########################')\n",
    "print('#    A,B attributes      #')\n",
    "print('##########################')\n",
    "A = ['le','il','homme','mâle','père','garçon']\n",
    "B = ['la','elle','femme','femelle','mère','fille']\n",
    "\n",
    "MODEL = [model,model_lem,model_wiki,model_wiki_lem]\n",
    "MODEL_NAME = ['model','model_lem','model_wiki','model_wiki_lem']\n",
    "df_0 = store_result_wefat(MODEL,MODEL_NAME,A,B,df)\n",
    "df_0"
   ]
  },
  {
   "cell_type": "code",
   "execution_count": 64,
   "metadata": {},
   "outputs": [
    {
     "name": "stdout",
     "output_type": "stream",
     "text": [
      "##########################\n",
      "#    DET attributes      #\n",
      "##########################\n"
     ]
    },
    {
     "data": {
      "text/html": [
       "<div>\n",
       "<style scoped>\n",
       "    .dataframe tbody tr th:only-of-type {\n",
       "        vertical-align: middle;\n",
       "    }\n",
       "\n",
       "    .dataframe tbody tr th {\n",
       "        vertical-align: top;\n",
       "    }\n",
       "\n",
       "    .dataframe thead th {\n",
       "        text-align: right;\n",
       "    }\n",
       "</style>\n",
       "<table border=\"1\" class=\"dataframe\">\n",
       "  <thead>\n",
       "    <tr style=\"text-align: right;\">\n",
       "      <th></th>\n",
       "      <th>ROC</th>\n",
       "      <th>ACC</th>\n",
       "      <th>ROC_random</th>\n",
       "      <th>ACC_Random</th>\n",
       "    </tr>\n",
       "  </thead>\n",
       "  <tbody>\n",
       "    <tr>\n",
       "      <th>model</th>\n",
       "      <td>0.903264</td>\n",
       "      <td>0.892967</td>\n",
       "      <td>0.499148</td>\n",
       "      <td>0.499039</td>\n",
       "    </tr>\n",
       "    <tr>\n",
       "      <th>model_lem</th>\n",
       "      <td>0.000000</td>\n",
       "      <td>0.000000</td>\n",
       "      <td>0.000000</td>\n",
       "      <td>0.000000</td>\n",
       "    </tr>\n",
       "    <tr>\n",
       "      <th>model_wiki</th>\n",
       "      <td>0.810685</td>\n",
       "      <td>0.798723</td>\n",
       "      <td>0.496181</td>\n",
       "      <td>0.496458</td>\n",
       "    </tr>\n",
       "    <tr>\n",
       "      <th>model_wiki_lem</th>\n",
       "      <td>0.000000</td>\n",
       "      <td>0.000000</td>\n",
       "      <td>0.000000</td>\n",
       "      <td>0.000000</td>\n",
       "    </tr>\n",
       "  </tbody>\n",
       "</table>\n",
       "</div>"
      ],
      "text/plain": [
       "                     ROC       ACC  ROC_random  ACC_Random\n",
       "model           0.903264  0.892967    0.499148    0.499039\n",
       "model_lem       0.000000  0.000000    0.000000    0.000000\n",
       "model_wiki      0.810685  0.798723    0.496181    0.496458\n",
       "model_wiki_lem  0.000000  0.000000    0.000000    0.000000"
      ]
     },
     "execution_count": 64,
     "metadata": {},
     "output_type": "execute_result"
    }
   ],
   "source": [
    "A,B= DET[0],DET[1]\n",
    "##\n",
    "print('##########################')\n",
    "print('#    DET attributes      #')\n",
    "print('##########################')\n",
    "\n",
    "MODEL = [model,model_lem,model_wiki,model_wiki_lem]\n",
    "MODEL_NAME = ['model','model_lem','model_wiki','model_wiki_lem']\n",
    "df_0 = store_result_wefat(MODEL,MODEL_NAME,A,B,df)\n",
    "df_0"
   ]
  },
  {
   "cell_type": "code",
   "execution_count": 65,
   "metadata": {},
   "outputs": [
    {
     "name": "stdout",
     "output_type": "stream",
     "text": [
      "##########################\n",
      "#    SUF attributes      #\n",
      "##########################\n"
     ]
    },
    {
     "data": {
      "text/html": [
       "<div>\n",
       "<style scoped>\n",
       "    .dataframe tbody tr th:only-of-type {\n",
       "        vertical-align: middle;\n",
       "    }\n",
       "\n",
       "    .dataframe tbody tr th {\n",
       "        vertical-align: top;\n",
       "    }\n",
       "\n",
       "    .dataframe thead th {\n",
       "        text-align: right;\n",
       "    }\n",
       "</style>\n",
       "<table border=\"1\" class=\"dataframe\">\n",
       "  <thead>\n",
       "    <tr style=\"text-align: right;\">\n",
       "      <th></th>\n",
       "      <th>ROC</th>\n",
       "      <th>ACC</th>\n",
       "      <th>ROC_random</th>\n",
       "      <th>ACC_Random</th>\n",
       "    </tr>\n",
       "  </thead>\n",
       "  <tbody>\n",
       "    <tr>\n",
       "      <th>model</th>\n",
       "      <td>0.879831</td>\n",
       "      <td>0.889468</td>\n",
       "      <td>0.499513</td>\n",
       "      <td>0.499657</td>\n",
       "    </tr>\n",
       "    <tr>\n",
       "      <th>model_lem</th>\n",
       "      <td>0.540974</td>\n",
       "      <td>0.644541</td>\n",
       "      <td>0.500029</td>\n",
       "      <td>0.499411</td>\n",
       "    </tr>\n",
       "    <tr>\n",
       "      <th>model_wiki</th>\n",
       "      <td>0.778882</td>\n",
       "      <td>0.772507</td>\n",
       "      <td>0.499903</td>\n",
       "      <td>0.500303</td>\n",
       "    </tr>\n",
       "    <tr>\n",
       "      <th>model_wiki_lem</th>\n",
       "      <td>0.000000</td>\n",
       "      <td>0.000000</td>\n",
       "      <td>0.000000</td>\n",
       "      <td>0.000000</td>\n",
       "    </tr>\n",
       "  </tbody>\n",
       "</table>\n",
       "</div>"
      ],
      "text/plain": [
       "                     ROC       ACC  ROC_random  ACC_Random\n",
       "model           0.879831  0.889468    0.499513    0.499657\n",
       "model_lem       0.540974  0.644541    0.500029    0.499411\n",
       "model_wiki      0.778882  0.772507    0.499903    0.500303\n",
       "model_wiki_lem  0.000000  0.000000    0.000000    0.000000"
      ]
     },
     "execution_count": 65,
     "metadata": {},
     "output_type": "execute_result"
    }
   ],
   "source": [
    "A,B= SUF[0],SUF[1]\n",
    "##\n",
    "print('##########################')\n",
    "print('#    SUF attributes      #')\n",
    "print('##########################')\n",
    "\n",
    "MODEL = [model,model_lem,model_wiki,model_wiki_lem]\n",
    "MODEL_NAME = ['model','model_lem','model_wiki','model_wiki_lem']\n",
    "df_0 = store_result_wefat(MODEL,MODEL_NAME,A,B,df)\n",
    "df_0"
   ]
  },
  {
   "cell_type": "code",
   "execution_count": 70,
   "metadata": {},
   "outputs": [
    {
     "name": "stdout",
     "output_type": "stream",
     "text": [
      "##########################\n",
      "#    FAM attributes      #\n",
      "##########################\n"
     ]
    },
    {
     "data": {
      "text/html": [
       "<div>\n",
       "<style scoped>\n",
       "    .dataframe tbody tr th:only-of-type {\n",
       "        vertical-align: middle;\n",
       "    }\n",
       "\n",
       "    .dataframe tbody tr th {\n",
       "        vertical-align: top;\n",
       "    }\n",
       "\n",
       "    .dataframe thead th {\n",
       "        text-align: right;\n",
       "    }\n",
       "</style>\n",
       "<table border=\"1\" class=\"dataframe\">\n",
       "  <thead>\n",
       "    <tr style=\"text-align: right;\">\n",
       "      <th></th>\n",
       "      <th>ROC</th>\n",
       "      <th>ACC</th>\n",
       "      <th>ROC_random</th>\n",
       "      <th>ACC_Random</th>\n",
       "    </tr>\n",
       "  </thead>\n",
       "  <tbody>\n",
       "    <tr>\n",
       "      <th>model</th>\n",
       "      <td>0.880074</td>\n",
       "      <td>0.881509</td>\n",
       "      <td>0.498334</td>\n",
       "      <td>0.498525</td>\n",
       "    </tr>\n",
       "    <tr>\n",
       "      <th>model_lem</th>\n",
       "      <td>0.545962</td>\n",
       "      <td>0.555876</td>\n",
       "      <td>0.500266</td>\n",
       "      <td>0.500133</td>\n",
       "    </tr>\n",
       "    <tr>\n",
       "      <th>model_wiki</th>\n",
       "      <td>0.667005</td>\n",
       "      <td>0.655052</td>\n",
       "      <td>0.496874</td>\n",
       "      <td>0.497397</td>\n",
       "    </tr>\n",
       "    <tr>\n",
       "      <th>model_wiki_lem</th>\n",
       "      <td>0.519631</td>\n",
       "      <td>0.653410</td>\n",
       "      <td>0.500062</td>\n",
       "      <td>0.500775</td>\n",
       "    </tr>\n",
       "  </tbody>\n",
       "</table>\n",
       "</div>"
      ],
      "text/plain": [
       "                     ROC       ACC  ROC_random  ACC_Random\n",
       "model           0.880074  0.881509    0.498334    0.498525\n",
       "model_lem       0.545962  0.555876    0.500266    0.500133\n",
       "model_wiki      0.667005  0.655052    0.496874    0.497397\n",
       "model_wiki_lem  0.519631  0.653410    0.500062    0.500775"
      ]
     },
     "execution_count": 70,
     "metadata": {},
     "output_type": "execute_result"
    }
   ],
   "source": [
    "A,B= FAM[0],FAM[1]\n",
    "##\n",
    "##\n",
    "print('##########################')\n",
    "print('#    FAM attributes      #')\n",
    "print('##########################')\n",
    "\n",
    "MODEL = [model,model_lem,model_wiki,model_wiki_lem]\n",
    "MODEL_NAME = ['model','model_lem','model_wiki','model_wiki_lem']\n",
    "df_0 = store_result_wefat(MODEL,MODEL_NAME,A,B,df)\n",
    "df_0"
   ]
  },
  {
   "cell_type": "code",
   "execution_count": 72,
   "metadata": {},
   "outputs": [
    {
     "name": "stdout",
     "output_type": "stream",
     "text": [
      "##########################\n",
      "#    MAM attributes      #\n",
      "##########################\n"
     ]
    },
    {
     "data": {
      "text/html": [
       "<div>\n",
       "<style scoped>\n",
       "    .dataframe tbody tr th:only-of-type {\n",
       "        vertical-align: middle;\n",
       "    }\n",
       "\n",
       "    .dataframe tbody tr th {\n",
       "        vertical-align: top;\n",
       "    }\n",
       "\n",
       "    .dataframe thead th {\n",
       "        text-align: right;\n",
       "    }\n",
       "</style>\n",
       "<table border=\"1\" class=\"dataframe\">\n",
       "  <thead>\n",
       "    <tr style=\"text-align: right;\">\n",
       "      <th></th>\n",
       "      <th>ROC</th>\n",
       "      <th>ACC</th>\n",
       "      <th>ROC_random</th>\n",
       "      <th>ACC_Random</th>\n",
       "    </tr>\n",
       "  </thead>\n",
       "  <tbody>\n",
       "    <tr>\n",
       "      <th>model</th>\n",
       "      <td>0.811239</td>\n",
       "      <td>0.811492</td>\n",
       "      <td>0.498147</td>\n",
       "      <td>0.497564</td>\n",
       "    </tr>\n",
       "    <tr>\n",
       "      <th>model_lem</th>\n",
       "      <td>0.509367</td>\n",
       "      <td>0.509056</td>\n",
       "      <td>0.501074</td>\n",
       "      <td>0.502449</td>\n",
       "    </tr>\n",
       "    <tr>\n",
       "      <th>model_wiki</th>\n",
       "      <td>0.616668</td>\n",
       "      <td>0.599715</td>\n",
       "      <td>0.503120</td>\n",
       "      <td>0.502755</td>\n",
       "    </tr>\n",
       "    <tr>\n",
       "      <th>model_wiki_lem</th>\n",
       "      <td>0.551723</td>\n",
       "      <td>0.512389</td>\n",
       "      <td>0.498913</td>\n",
       "      <td>0.498501</td>\n",
       "    </tr>\n",
       "  </tbody>\n",
       "</table>\n",
       "</div>"
      ],
      "text/plain": [
       "                     ROC       ACC  ROC_random  ACC_Random\n",
       "model           0.811239  0.811492    0.498147    0.497564\n",
       "model_lem       0.509367  0.509056    0.501074    0.502449\n",
       "model_wiki      0.616668  0.599715    0.503120    0.502755\n",
       "model_wiki_lem  0.551723  0.512389    0.498913    0.498501"
      ]
     },
     "execution_count": 72,
     "metadata": {},
     "output_type": "execute_result"
    }
   ],
   "source": [
    "A,B= MAM[0],MAM[1]\n",
    "##\n",
    "##\n",
    "print('##########################')\n",
    "print('#    MAM attributes      #')\n",
    "print('##########################')\n",
    "\n",
    "MODEL = [model,model_lem,model_wiki,model_wiki_lem]\n",
    "MODEL_NAME = ['model','model_lem','model_wiki','model_wiki_lem']\n",
    "df_0 = store_result_wefat(MODEL,MODEL_NAME,A,B,df)\n",
    "df_0"
   ]
  },
  {
   "cell_type": "code",
   "execution_count": 67,
   "metadata": {},
   "outputs": [
    {
     "name": "stdout",
     "output_type": "stream",
     "text": [
      "##########################\n",
      "#    HYB attributes      #\n",
      "##########################\n"
     ]
    },
    {
     "data": {
      "text/html": [
       "<div>\n",
       "<style scoped>\n",
       "    .dataframe tbody tr th:only-of-type {\n",
       "        vertical-align: middle;\n",
       "    }\n",
       "\n",
       "    .dataframe tbody tr th {\n",
       "        vertical-align: top;\n",
       "    }\n",
       "\n",
       "    .dataframe thead th {\n",
       "        text-align: right;\n",
       "    }\n",
       "</style>\n",
       "<table border=\"1\" class=\"dataframe\">\n",
       "  <thead>\n",
       "    <tr style=\"text-align: right;\">\n",
       "      <th></th>\n",
       "      <th>ROC</th>\n",
       "      <th>ACC</th>\n",
       "      <th>ROC_random</th>\n",
       "      <th>ACC_Random</th>\n",
       "    </tr>\n",
       "  </thead>\n",
       "  <tbody>\n",
       "    <tr>\n",
       "      <th>model</th>\n",
       "      <td>0.855190</td>\n",
       "      <td>0.843636</td>\n",
       "      <td>0.498561</td>\n",
       "      <td>0.498628</td>\n",
       "    </tr>\n",
       "    <tr>\n",
       "      <th>model_lem</th>\n",
       "      <td>0.528967</td>\n",
       "      <td>0.651149</td>\n",
       "      <td>0.500173</td>\n",
       "      <td>0.498880</td>\n",
       "    </tr>\n",
       "    <tr>\n",
       "      <th>model_wiki</th>\n",
       "      <td>0.773267</td>\n",
       "      <td>0.776412</td>\n",
       "      <td>0.500923</td>\n",
       "      <td>0.500938</td>\n",
       "    </tr>\n",
       "    <tr>\n",
       "      <th>model_wiki_lem</th>\n",
       "      <td>0.000000</td>\n",
       "      <td>0.000000</td>\n",
       "      <td>0.000000</td>\n",
       "      <td>0.000000</td>\n",
       "    </tr>\n",
       "  </tbody>\n",
       "</table>\n",
       "</div>"
      ],
      "text/plain": [
       "                     ROC       ACC  ROC_random  ACC_Random\n",
       "model           0.855190  0.843636    0.498561    0.498628\n",
       "model_lem       0.528967  0.651149    0.500173    0.498880\n",
       "model_wiki      0.773267  0.776412    0.500923    0.500938\n",
       "model_wiki_lem  0.000000  0.000000    0.000000    0.000000"
      ]
     },
     "execution_count": 67,
     "metadata": {},
     "output_type": "execute_result"
    }
   ],
   "source": [
    "A,B= HYB[0],HYB[1]\n",
    "##\n",
    "##\n",
    "print('##########################')\n",
    "print('#    HYB attributes      #')\n",
    "print('##########################')\n",
    "\n",
    "MODEL = [model,model_lem,model_wiki,model_wiki_lem]\n",
    "MODEL_NAME = ['model','model_lem','model_wiki','model_wiki_lem']\n",
    "df_0 = store_result_wefat(MODEL,MODEL_NAME,A,B,df)\n",
    "df_0"
   ]
  },
  {
   "cell_type": "code",
   "execution_count": 73,
   "metadata": {},
   "outputs": [
    {
     "name": "stdout",
     "output_type": "stream",
     "text": [
      "##########################\n",
      "#   DET SUF attributes      #\n",
      "##########################\n"
     ]
    },
    {
     "data": {
      "text/html": [
       "<div>\n",
       "<style scoped>\n",
       "    .dataframe tbody tr th:only-of-type {\n",
       "        vertical-align: middle;\n",
       "    }\n",
       "\n",
       "    .dataframe tbody tr th {\n",
       "        vertical-align: top;\n",
       "    }\n",
       "\n",
       "    .dataframe thead th {\n",
       "        text-align: right;\n",
       "    }\n",
       "</style>\n",
       "<table border=\"1\" class=\"dataframe\">\n",
       "  <thead>\n",
       "    <tr style=\"text-align: right;\">\n",
       "      <th></th>\n",
       "      <th>ROC</th>\n",
       "      <th>ACC</th>\n",
       "      <th>ROC_random</th>\n",
       "      <th>ACC_Random</th>\n",
       "    </tr>\n",
       "  </thead>\n",
       "  <tbody>\n",
       "    <tr>\n",
       "      <th>model</th>\n",
       "      <td>0.924549</td>\n",
       "      <td>0.924974</td>\n",
       "      <td>0.500170</td>\n",
       "      <td>0.500172</td>\n",
       "    </tr>\n",
       "    <tr>\n",
       "      <th>model_lem</th>\n",
       "      <td>0.000000</td>\n",
       "      <td>0.000000</td>\n",
       "      <td>0.000000</td>\n",
       "      <td>0.000000</td>\n",
       "    </tr>\n",
       "    <tr>\n",
       "      <th>model_wiki</th>\n",
       "      <td>0.817317</td>\n",
       "      <td>0.808107</td>\n",
       "      <td>0.497502</td>\n",
       "      <td>0.496943</td>\n",
       "    </tr>\n",
       "    <tr>\n",
       "      <th>model_wiki_lem</th>\n",
       "      <td>0.000000</td>\n",
       "      <td>0.000000</td>\n",
       "      <td>0.000000</td>\n",
       "      <td>0.000000</td>\n",
       "    </tr>\n",
       "  </tbody>\n",
       "</table>\n",
       "</div>"
      ],
      "text/plain": [
       "                     ROC       ACC  ROC_random  ACC_Random\n",
       "model           0.924549  0.924974    0.500170    0.500172\n",
       "model_lem       0.000000  0.000000    0.000000    0.000000\n",
       "model_wiki      0.817317  0.808107    0.497502    0.496943\n",
       "model_wiki_lem  0.000000  0.000000    0.000000    0.000000"
      ]
     },
     "execution_count": 73,
     "metadata": {},
     "output_type": "execute_result"
    }
   ],
   "source": [
    "A,B= DET[0]+SUF[0],DET[1]+SUF[1]\n",
    "##\n",
    "##\n",
    "print('##########################')\n",
    "print('#   DET SUF attributes      #')\n",
    "print('##########################')\n",
    "\n",
    "MODEL = [model,model_lem,model_wiki,model_wiki_lem]\n",
    "MODEL_NAME = ['model','model_lem','model_wiki','model_wiki_lem']\n",
    "df_0 = store_result_wefat(MODEL,MODEL_NAME,A,B,df)\n",
    "df_0"
   ]
  },
  {
   "cell_type": "markdown",
   "metadata": {},
   "source": [
    "## Comment :\n",
    "AS we anticipated, the Association play an important role in the grammatical gender. The lesss frequen word an thos who have a coeficient reaaly closed to 0 were linked to false prediction."
   ]
  }
 ],
 "metadata": {
  "kernelspec": {
   "display_name": "Python 3",
   "language": "python",
   "name": "python3"
  },
  "language_info": {
   "codemirror_mode": {
    "name": "ipython",
    "version": 3
   },
   "file_extension": ".py",
   "mimetype": "text/x-python",
   "name": "python",
   "nbconvert_exporter": "python",
   "pygments_lexer": "ipython3",
   "version": "3.6.5"
  }
 },
 "nbformat": 4,
 "nbformat_minor": 2
}
