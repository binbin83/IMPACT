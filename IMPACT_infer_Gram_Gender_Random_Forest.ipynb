{
 "cells": [
  {
   "cell_type": "markdown",
   "metadata": {},
   "source": [
    "# <center> Gender Biais detection</center>\n",
    "## <center> Infer the gramatical gender thanks to Word vectors in French  </center>\n",
    "### <center> Quillivic Robin, 01/03/2019 </center>\n",
    "In this notebook, we shows that is possible thanks to a tuned ramdom forest, to infer gramatical gender in French."
   ]
  },
  {
   "cell_type": "code",
   "execution_count": 146,
   "metadata": {},
   "outputs": [],
   "source": [
    "from gensim import *\n",
    "\n",
    "from gensim.models import Word2Vec\n",
    "import logging\n",
    "import gensim\n",
    "import os\n",
    "\n",
    "import itertools\n",
    "\n",
    "from gensim.test.utils import get_tmpfile\n",
    "from gensim.models import KeyedVectors\n",
    "\n",
    "import matplotlib.pyplot as plt\n",
    "from random import *\n",
    "\n",
    "import pandas as pd\n",
    "import numpy as np\n",
    "import math\n",
    "\n",
    "from sklearn.decomposition import PCA\n",
    "import lib\n",
    "import fasttext\n",
    "from gensim.models.wrappers import FastText\n",
    "import random"
   ]
  },
  {
   "cell_type": "markdown",
   "metadata": {},
   "source": [
    "# Load the models"
   ]
  },
  {
   "cell_type": "code",
   "execution_count": 147,
   "metadata": {},
   "outputs": [
    {
     "name": "stderr",
     "output_type": "stream",
     "text": [
      "2019-03-01 16:57:05,530 : INFO : loading projection weights from DATA\\FR\\cc.fr.300.vec\n",
      "2019-03-01 16:57:21,296 : INFO : loaded (50000, 300) matrix from DATA\\FR\\cc.fr.300.vec\n",
      "2019-03-01 16:57:21,298 : INFO : loading projection weights from DATA\\FR\\frWac_no_postag_no_phrase_500_skip_cut100.bin\n",
      "2019-03-01 16:57:22,199 : INFO : loaded (50000, 500) matrix from DATA\\FR\\frWac_no_postag_no_phrase_500_skip_cut100.bin\n",
      "2019-03-01 16:57:22,200 : INFO : loading projection weights from DATA\\FR\\wiki_fr.vec\n",
      "2019-03-01 16:57:38,298 : INFO : loaded (50000, 300) matrix from DATA\\FR\\wiki_fr.vec\n",
      "2019-03-01 16:57:38,301 : INFO : loading projection weights from C:/Users/Robin/Documents/IMPACT/Notebooks/DATA/FR/ppmi_svd_fr/matrix.txt\n",
      "2019-03-01 16:58:20,920 : INFO : loaded (53376, 500) matrix from C:/Users/Robin/Documents/IMPACT/Notebooks/DATA/FR/ppmi_svd_fr/matrix.txt\n"
     ]
    }
   ],
   "source": [
    "# Logging code taken from http://rare-technologies.com/word2vec-tutorial/\n",
    "logging.basicConfig(format='%(asctime)s : %(levelname)s : %(message)s', level=logging.INFO)\n",
    "\n",
    "# Load pre-trained Word2Vec model.\n",
    "model_cc  = gensim.models.KeyedVectors.load_word2vec_format(r'DATA\\FR\\cc.fr.300.vec', binary=False,limit=50000)\n",
    "model_fr_wac  = gensim.models.KeyedVectors.load_word2vec_format(r'DATA\\FR\\frWac_no_postag_no_phrase_500_skip_cut100.bin', binary=True,limit=50000)\n",
    "model_wiki  = gensim.models.KeyedVectors.load_word2vec_format(r'DATA\\FR\\wiki_fr.vec',binary=False,limit=50000)\n",
    "model_wiki_lem  = gensim.models.KeyedVectors.load_word2vec_format('C:/Users/Robin/Documents/IMPACT/Notebooks/DATA/FR/ppmi_svd_fr/matrix.txt',binary=False,encoding='latin1')"
   ]
  },
  {
   "cell_type": "markdown",
   "metadata": {},
   "source": [
    "# Load the Lexique \n",
    "from http://www.lexique.org/telLexique.php"
   ]
  },
  {
   "cell_type": "code",
   "execution_count": 148,
   "metadata": {},
   "outputs": [],
   "source": [
    "#Load lexique in a Dataframe\n",
    "df = pd.read_excel(r'DATA\\FR\\Lexique382.xlsx',encoding='latin1')"
   ]
  },
  {
   "cell_type": "code",
   "execution_count": 156,
   "metadata": {},
   "outputs": [],
   "source": [
    "def merge_model_lexique(lexique,model):\n",
    "\n",
    "    #Isolate the gender and create\n",
    "    df_genre =  lexique[['1_ortho','5_genre']]\n",
    "    df_genre = pd.DataFrame(data = df_genre.values,columns=['Mot','genre'])\n",
    "    #Load the word of the model\n",
    "    df_model = pd.DataFrame(list(model.vocab.items()), columns=['Mot','count'])\n",
    "    # Merge the vocab of the Lexique and the model\n",
    "    result = pd.merge(df_model,df_genre, on='Mot')\n",
    "    #keep only the word where there is a gender\n",
    "    result = result.dropna()\n",
    "    \n",
    "    return(result)\n",
    "\n",
    "def genre(x):\n",
    "    \"\"\"\n",
    "    transform the gender f,m into 0,1\n",
    "    \"\"\"\n",
    "    if 'f' in str(x):\n",
    "        return(0)\n",
    "    if 'm' in str(x) :\n",
    "        return(1)\n",
    "\n",
    "def built_X_y(result,model):\n",
    "    X=[]\n",
    "    for word in list(result['Mot']):\n",
    "        X.append(model[word])\n",
    "        \n",
    "    y = result['genre'].apply(genre)\n",
    "    return(np.asarray(X),y)\n",
    "    "
   ]
  },
  {
   "cell_type": "code",
   "execution_count": 157,
   "metadata": {},
   "outputs": [
    {
     "name": "stderr",
     "output_type": "stream",
     "text": [
      "C:\\Users\\Robin\\Anaconda3\\lib\\site-packages\\ipykernel_launcher.py:7: DeprecationWarning: Call to deprecated `wv` (Attribute will be removed in 4.0.0, use self instead).\n",
      "  import sys\n"
     ]
    }
   ],
   "source": [
    "X_cc,y_cc = built_X_y(merge_model_lexique(df,model_cc),model_cc) \n",
    "X_frwac,y_frwac = built_X_y(merge_model_lexique(df,model_fr_wac),model_fr_wac) \n",
    "X_wiki,y_wiki = built_X_y(merge_model_lexique(df,model_wiki),model_wiki)\n",
    "X_wiki_lem,y_wiki_lem = built_X_y(merge_model_lexique(df,model_wiki_lem),model_wiki_lem) "
   ]
  },
  {
   "cell_type": "markdown",
   "metadata": {},
   "source": [
    "# Train and evaluate a classifier"
   ]
  },
  {
   "cell_type": "code",
   "execution_count": 184,
   "metadata": {},
   "outputs": [],
   "source": [
    "from sklearn.model_selection import train_test_split\n",
    "from sklearn.ensemble import RandomForestClassifier\n",
    "from sklearn.model_selection import GridSearchCV\n",
    "from scipy.stats import randint as sp_randint\n",
    "from sklearn.metrics import roc_auc_score,accuracy_score\n",
    "import time\n",
    "\n",
    "def trainTuneTest(X,y) :\n",
    "    print('In this data set, there are ',len(X),'words.')\n",
    "    print('We will use 66% for training a random forest and then  compute ROC-AUC score on the 33% remaning ')\n",
    "    #Split in train and test set\n",
    "    X_train, X_test, y_train, y_test = train_test_split(X, y, test_size=0.33, random_state=4)\n",
    "    # choice ofthe classifier : here rancdom forest\n",
    "    clf = RandomForestClassifier()\n",
    "    # set of parameters thta needs to be tuned\n",
    "    param_grid = {\"max_depth\": [3, 10],\n",
    "              \"bootstrap\": [True, False],\n",
    "              \"criterion\": [\"gini\", \"entropy\"],\"n_estimators\": [100]}\n",
    "    #fit the grid search\n",
    "    grid_search = GridSearchCV(clf, param_grid=param_grid, cv=3,scoring = 'roc_auc',return_train_score=False)\n",
    "    start = time.time()\n",
    "    grid_search.fit(X_train, y_train)\n",
    "    # store the result of the grid search in a dataFrame\n",
    "    df_result = pd.DataFrame(grid_search.cv_results_)\n",
    "    final = time.time()\n",
    "    print('The grid search take: ',abs(start-final),'s  to fit')\n",
    "    #fit the classifier witht tht best paramaters\n",
    "    #predict\n",
    "    y_pred = grid_search.predict(X_test)\n",
    "    roc = roc_auc_score(y_test, y_pred)\n",
    "    acc = accuracy_score(y_test, y_pred)\n",
    "    print(' the ROC- AUC score is', roc)\n",
    "    print(' the accuracy score is', acc)\n",
    "    return(roc,acc, df_result)\n",
    "    \n",
    "    \n",
    "\n"
   ]
  },
  {
   "cell_type": "code",
   "execution_count": 185,
   "metadata": {},
   "outputs": [
    {
     "name": "stdout",
     "output_type": "stream",
     "text": [
      "###########################\n",
      "Commom crawl FastTest\n",
      "###########################\n"
     ]
    },
    {
     "name": "stderr",
     "output_type": "stream",
     "text": [
      "C:\\Users\\Robin\\Anaconda3\\lib\\site-packages\\ipykernel_launcher.py:7: DeprecationWarning: Call to deprecated `wv` (Attribute will be removed in 4.0.0, use self instead).\n",
      "  import sys\n"
     ]
    },
    {
     "name": "stdout",
     "output_type": "stream",
     "text": [
      "In this data set, there are  23329 words.\n",
      "We will use 66% for training a random forest and then  compute ROC-AUC score on the 33% remaning \n",
      "The grid search take:  278.71503615379333 s  to fit\n",
      " the ROC- AUC score is 0.9811456337022355\n",
      " the accuracy score is 0.9820755942330173\n",
      "-------------------------------------------------------------------\n",
      "###########################\n",
      "Common Crawl W2V\n",
      "###########################\n"
     ]
    },
    {
     "name": "stderr",
     "output_type": "stream",
     "text": [
      "C:\\Users\\Robin\\Anaconda3\\lib\\site-packages\\ipykernel_launcher.py:7: DeprecationWarning: Call to deprecated `wv` (Attribute will be removed in 4.0.0, use self instead).\n",
      "  import sys\n"
     ]
    },
    {
     "name": "stdout",
     "output_type": "stream",
     "text": [
      "In this data set, there are  22070 words.\n",
      "We will use 66% for training a random forest and then  compute ROC-AUC score on the 33% remaning \n",
      "The grid search take:  488.99807357788086 s  to fit\n",
      " the ROC- AUC score is 0.5433829691121208\n",
      " the accuracy score is 0.6703734211971444\n",
      "-------------------------------------------------------------------\n",
      "###########################\n",
      "Wiki_fr\n",
      "###########################\n"
     ]
    },
    {
     "name": "stderr",
     "output_type": "stream",
     "text": [
      "C:\\Users\\Robin\\Anaconda3\\lib\\site-packages\\ipykernel_launcher.py:7: DeprecationWarning: Call to deprecated `wv` (Attribute will be removed in 4.0.0, use self instead).\n",
      "  import sys\n"
     ]
    },
    {
     "name": "stdout",
     "output_type": "stream",
     "text": [
      "In this data set, there are  26976 words.\n",
      "We will use 66% for training a random forest and then  compute ROC-AUC score on the 33% remaning \n",
      "The grid search take:  426.3131172657013 s  to fit\n",
      " the ROC- AUC score is 0.8641873342389548\n",
      " the accuracy score is 0.8822868695945187\n",
      "-------------------------------------------------------------------\n",
      "###########################\n",
      "Wiki_fr lem\n",
      "###########################\n"
     ]
    },
    {
     "name": "stderr",
     "output_type": "stream",
     "text": [
      "C:\\Users\\Robin\\Anaconda3\\lib\\site-packages\\ipykernel_launcher.py:7: DeprecationWarning: Call to deprecated `wv` (Attribute will be removed in 4.0.0, use self instead).\n",
      "  import sys\n"
     ]
    },
    {
     "name": "stdout",
     "output_type": "stream",
     "text": [
      "In this data set, there are  29017 words.\n",
      "We will use 66% for training a random forest and then  compute ROC-AUC score on the 33% remaning \n",
      "The grid search take:  619.2222201824188 s  to fit\n",
      " the ROC- AUC score is 0.5852909167576481\n",
      " the accuracy score is 0.7251461988304093\n",
      "-------------------------------------------------------------------\n"
     ]
    }
   ],
   "source": [
    "ROC =[]\n",
    "ACC = []\n",
    "R=[]\n",
    "i=0\n",
    "MODEL = [model_cc ,model_fr_wac, model_wiki ,model_wiki_lem]\n",
    "model_label = ['Commom crawl FastTest', 'Common Crawl W2V', 'Wiki_fr','Wiki_fr lem']\n",
    "for model in MODEL:\n",
    "    print('###########################')\n",
    "    print(model_label[i])\n",
    "    print('###########################')\n",
    "    X,y = built_X_y(merge_model_lexique(df,model),model)\n",
    "    # compute and train the model\n",
    "    roc,acc, df_result = trainTuneTest(X,y)\n",
    "    # complete the tab\n",
    "    ROC.append(roc)\n",
    "    ACC.append(acc)\n",
    "    R.append(df_result)\n",
    "    i+=1\n",
    "    print('-------------------------------------------------------------------')\n",
    "    \n",
    "    "
   ]
  },
  {
   "cell_type": "code",
   "execution_count": 190,
   "metadata": {},
   "outputs": [
    {
     "data": {
      "image/png": "[encoded data removed]",
      "text/plain": [
       "<Figure size 576x360 with 1 Axes>"
      ]
     },
     "metadata": {},
     "output_type": "display_data"
    }
   ],
   "source": [
    "import matplotlib.pyplot as plt\n",
    "import numpy as np\n",
    "# Plot the result\n",
    "model_label = ['Commom crawl FastTest', 'Common Crawl W2V lem', 'Wiki_fr','Wiki_fr lem']\n",
    "plt.rcParams['figure.facecolor'] = '1'\n",
    "plt.figure(figsize=(8,5))\n",
    "plt.scatter(model_label,ROC,\n",
    "            s=100, marker =\"v\",label='ROC-AUC')\n",
    "plt.scatter(model_label,ACC,\n",
    "            s=100, marker =\"v\",label='Accuracy')\n",
    "plt.ylabel(\"Error\")\n",
    "plt.title('Error rate depending on the model')\n",
    "plt.legend(loc=\"best\")\n",
    "plt.grid()\n",
    "plt.show()"
   ]
  },
  {
   "cell_type": "markdown",
   "metadata": {},
   "source": [
    "## WEFAT test"
   ]
  },
  {
   "cell_type": "code",
   "execution_count": 118,
   "metadata": {},
   "outputs": [],
   "source": [
    "A = ['elle','fille','mère']\n",
    "B = ['il','garçon','père']\n"
   ]
  },
  {
   "cell_type": "code",
   "execution_count": 122,
   "metadata": {},
   "outputs": [],
   "source": [
    "def wefat_score(A,B,model):\n",
    "    WEFAT =[]\n",
    "    for word in  list(model.vocab):\n",
    "        WEFAT.append(lib.s(word,A,B,model))\n",
    "    m = abs(np.asarray(WEFAT)).mean()\n",
    "    return(m)"
   ]
  },
  {
   "cell_type": "code",
   "execution_count": 123,
   "metadata": {},
   "outputs": [
    {
     "name": "stdout",
     "output_type": "stream",
     "text": [
      "Lem: 0.5002405961046998\n",
      "no_lem: 0.7748642286580472\n"
     ]
    }
   ],
   "source": [
    "print( 'Lem:', wefat_score(A,B,model_lem))\n",
    "print( 'no_lem:', wefat_score(A,B,model))"
   ]
  },
  {
   "cell_type": "code",
   "execution_count": 141,
   "metadata": {},
   "outputs": [],
   "source": [
    "X = ['informaticien', 'ingénieur', 'scientifique','docteur'] \n",
    "Y = ['professeur', 'libraire','secrétaire','ménager']\n",
    "X=['mathématique', 'algèbre', 'géométrie', 'calcul', 'équation']# 'computation', 'numbers', 'addition']\n",
    "Y =['poésie', 'art', 'danse', 'littérature', 'roman']# 'symphony', 'drama', 'sculpture']  "
   ]
  },
  {
   "cell_type": "code",
   "execution_count": 142,
   "metadata": {},
   "outputs": [
    {
     "name": "stdout",
     "output_type": "stream",
     "text": [
      "Lem: -2.9076754425962776\n",
      "no_lem: -13.98049145936966\n"
     ]
    }
   ],
   "source": [
    "print( 'Lem:',lib.S(X,Y,A,B,model_lem)*100)\n",
    "print( 'no_lem:', lib.S(X,Y,A,B,model)*100)"
   ]
  },
  {
   "cell_type": "code",
   "execution_count": 143,
   "metadata": {},
   "outputs": [
    {
     "name": "stdout",
     "output_type": "stream",
     "text": [
      " the effect size is with lem 0.7646246370043525\n",
      " the effect size is with no lem 0.04636333583186686\n"
     ]
    }
   ],
   "source": [
    "e= lib.effet_size(X,Y,A,B,model_lem)\n",
    "print(' the effect size is with lem',e)\n",
    "e= lib.effet_size(X,Y,A,B,model)\n",
    "print(' the effect size is with no lem',e)"
   ]
  },
  {
   "cell_type": "code",
   "execution_count": 144,
   "metadata": {},
   "outputs": [
    {
     "name": "stdout",
     "output_type": "stream",
     "text": [
      "166015\n",
      " the p values is 0.81956004462743 with the lem\n"
     ]
    }
   ],
   "source": [
    "p = lib.p_values(X,Y,A,B,model_lem)\n",
    "print(' the p values is',p,'with the lem')"
   ]
  },
  {
   "cell_type": "code",
   "execution_count": 145,
   "metadata": {},
   "outputs": [
    {
     "name": "stdout",
     "output_type": "stream",
     "text": [
      "199582\n",
      " the p values is 0.9852689987460876 with no lem\n"
     ]
    }
   ],
   "source": [
    "p = lib.p_values(X,Y,A,B,model)\n",
    "print(' the p values is',p,'with no lem')"
   ]
  },
  {
   "cell_type": "code",
   "execution_count": null,
   "metadata": {},
   "outputs": [],
   "source": [
    " "
   ]
  }
 ],
 "metadata": {
  "kernelspec": {
   "display_name": "Python 3",
   "language": "python",
   "name": "python3"
  },
  "language_info": {
   "codemirror_mode": {
    "name": "ipython",
    "version": 3
   },
   "file_extension": ".py",
   "mimetype": "text/x-python",
   "name": "python",
   "nbconvert_exporter": "python",
   "pygments_lexer": "ipython3",
   "version": "3.6.5"
  }
 },
 "nbformat": 4,
 "nbformat_minor": 2
}
