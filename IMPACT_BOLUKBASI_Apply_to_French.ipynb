{
 "cells": [
  {
   "cell_type": "markdown",
   "metadata": {},
   "source": [
    "# <center> Gender Biais detection</center>\n",
    "## <center> Application of the Bolukbasi Paper to the french  </center>\n",
    "### <center> Quillivic Robin </center>\n",
    "Sources : Man is to Computer Programmer as Woman is to Homemaker? Debiasing Word Embeddings, Bolukbasi, Tolga, 2016"
   ]
  },
  {
   "cell_type": "code",
   "execution_count": 9,
   "metadata": {},
   "outputs": [
    {
     "name": "stderr",
     "output_type": "stream",
     "text": [
      "C:\\Users\\Robin\\Anaconda3\\lib\\site-packages\\gensim\\utils.py:1197: UserWarning: detected Windows; aliasing chunkize to chunkize_serial\n",
      "  warnings.warn(\"detected Windows; aliasing chunkize to chunkize_serial\")\n"
     ]
    }
   ],
   "source": [
    "from gensim import *\n",
    "from gensim.test.utils import common_texts, get_tmpfile\n",
    "from gensim.models import Word2Vec\n",
    "import logging\n",
    "import gensim\n",
    "import os\n",
    "\n",
    "import itertools\n",
    "\n",
    "from gensim.test.utils import get_tmpfile\n",
    "from gensim.models import KeyedVectors\n",
    "\n",
    "import matplotlib.pyplot as plt\n",
    "from random import *\n",
    "\n",
    "import pandas as pd\n",
    "import numpy as np\n",
    "import math\n",
    "\n",
    "from sklearn.decomposition import PCA\n",
    "import lib\n",
    "import fasttext\n",
    "from gensim.models.wrappers import FastText\n",
    "\n",
    "from sklearn.metrics import roc_auc_score,accuracy_score"
   ]
  },
  {
   "cell_type": "code",
   "execution_count": 21,
   "metadata": {},
   "outputs": [
    {
     "name": "stderr",
     "output_type": "stream",
     "text": [
      "2019-03-13 15:07:24,928 : INFO : loading projection weights from DATA\\FR\\cc.fr.300.vec\n",
      "2019-03-13 15:07:45,793 : INFO : loaded (70000, 300) matrix from DATA\\FR\\cc.fr.300.vec\n",
      "2019-03-13 15:07:45,794 : INFO : loading projection weights from DATA\\FR\\frWac_no_postag_no_phrase_500_skip_cut100.bin\n",
      "2019-03-13 15:07:47,163 : INFO : loaded (70000, 500) matrix from DATA\\FR\\frWac_no_postag_no_phrase_500_skip_cut100.bin\n",
      "2019-03-13 15:07:47,183 : INFO : loading projection weights from DATA\\FR\\wiki_fr.vec\n",
      "2019-03-13 15:08:10,811 : INFO : loaded (70000, 300) matrix from DATA\\FR\\wiki_fr.vec\n",
      "2019-03-13 15:08:10,826 : INFO : loading projection weights from C:/Users/Robin/Documents/IMPACT/Notebooks/DATA/FR/ppmi_svd_fr/matrix.txt\n",
      "2019-03-13 15:08:49,449 : INFO : loaded (53376, 500) matrix from C:/Users/Robin/Documents/IMPACT/Notebooks/DATA/FR/ppmi_svd_fr/matrix.txt\n",
      "2019-03-13 15:08:49,467 : INFO : precomputing L2-norms of word weight vectors\n",
      "2019-03-13 15:08:50,172 : INFO : precomputing L2-norms of word weight vectors\n",
      "2019-03-13 15:08:50,918 : INFO : precomputing L2-norms of word weight vectors\n",
      "2019-03-13 15:08:51,558 : INFO : precomputing L2-norms of word weight vectors\n"
     ]
    }
   ],
   "source": [
    "# Logging code taken from http://rare-technologies.com/word2vec-tutorial/\n",
    "logging.basicConfig(format='%(asctime)s : %(levelname)s : %(message)s', level=logging.INFO)\n",
    "\n",
    "# Load pre-trained Word2Vec model.\n",
    "model  = gensim.models.KeyedVectors.load_word2vec_format(r'DATA\\FR\\cc.fr.300.vec', binary=False,limit=70000)\n",
    "model_lem  = gensim.models.KeyedVectors.load_word2vec_format(r'DATA\\FR\\frWac_no_postag_no_phrase_500_skip_cut100.bin', binary=True,limit=70000)\n",
    "#model  = gensim.models.KeyedVectors.load_word2vec_format(r'DATA\\FR\\fr_Kyubyong_wordvectors.vec',binary=False,limit=50000)\n",
    "model_wiki  = gensim.models.KeyedVectors.load_word2vec_format(r'DATA\\FR\\wiki_fr.vec',binary=False,limit=70000)\n",
    "model_wiki_lem  = gensim.models.KeyedVectors.load_word2vec_format('C:/Users/Robin/Documents/IMPACT/Notebooks/DATA/FR/ppmi_svd_fr/matrix.txt',binary=False,encoding='latin1')\n",
    "# normalizeation :\n",
    "model.init_sims(True)\n",
    "model_lem.init_sims(True)\n",
    "model_wiki.init_sims(True)\n",
    "model_wiki_lem.init_sims(True)"
   ]
  },
  {
   "cell_type": "markdown",
   "metadata": {},
   "source": [
    "## 1) Find gender pair of word associated with gender"
   ]
  },
  {
   "cell_type": "code",
   "execution_count": 27,
   "metadata": {},
   "outputs": [],
   "source": [
    "def association_Genrator(w1,w2,model,top_n=1000):\n",
    "    \"\"\"\n",
    "    return a data frame ordered by the most similar pair of the W1,W2\n",
    "    \"\"\"\n",
    "    # we build a dataframe with the vocabulary\n",
    "    df = pd.DataFrame(list(model.vocab.items()), columns=['word','count'])\n",
    "    # we drop the index of the word entry\n",
    "    k = df[df['word']==w1].index[0]\n",
    "    j = df[df['word']==w2].index[0]\n",
    "    liste = df['word'].drop([k,j]).values[:top_n]\n",
    "    # we compute the length of the iteration to informethe user that the process could be long\n",
    "    N=math.factorial(len(liste))/(math.factorial(len(liste)-2)*math.factorial(2))\n",
    "    # init\n",
    "    a = model[w1]-model[w2]\n",
    "    S =[]\n",
    "    P=[]\n",
    "    i=0\n",
    "    # we compute the similarity score\n",
    "    for x in itertools.combinations(liste,2) :\n",
    "        u = model[x[0]]-model[x[1]]\n",
    "        S.append(lib.cosine_similarity(a,u))\n",
    "        P.append(x)\n",
    "        i+=1\n",
    "        # print the progression\n",
    "        if i%1000000==0:\n",
    "            print(i/N*100,'%')\n",
    "            \n",
    "    # storing and ordering\n",
    "    res = pd.DataFrame(data={'pair':P,'score':S})\n",
    "    res['score'] = abs(res['score']) #get absolute value\n",
    "    res = res.sort_values(by='score',ascending=False,inplace=False)\n",
    "    return(res)"
   ]
  },
  {
   "cell_type": "code",
   "execution_count": 28,
   "metadata": {
    "collapsed": true
   },
   "outputs": [
    {
     "data": {
      "text/html": [
       "<div>\n",
       "<style scoped>\n",
       "    .dataframe tbody tr th:only-of-type {\n",
       "        vertical-align: middle;\n",
       "    }\n",
       "\n",
       "    .dataframe tbody tr th {\n",
       "        vertical-align: top;\n",
       "    }\n",
       "\n",
       "    .dataframe thead th {\n",
       "        text-align: right;\n",
       "    }\n",
       "</style>\n",
       "<table border=\"1\" class=\"dataframe\">\n",
       "  <thead>\n",
       "    <tr style=\"text-align: right;\">\n",
       "      <th></th>\n",
       "      <th>pair</th>\n",
       "      <th>score</th>\n",
       "    </tr>\n",
       "  </thead>\n",
       "  <tbody>\n",
       "    <tr>\n",
       "      <th>338105</th>\n",
       "      <td>(seul, seule)</td>\n",
       "      <td>0.639529</td>\n",
       "    </tr>\n",
       "    <tr>\n",
       "      <th>260533</th>\n",
       "      <td>(homme, femme)</td>\n",
       "      <td>0.618795</td>\n",
       "    </tr>\n",
       "    <tr>\n",
       "      <th>218772</th>\n",
       "      <td>(petit, petite)</td>\n",
       "      <td>0.586632</td>\n",
       "    </tr>\n",
       "    <tr>\n",
       "      <th>424658</th>\n",
       "      <td>(père, mère)</td>\n",
       "      <td>0.576565</td>\n",
       "    </tr>\n",
       "    <tr>\n",
       "      <th>404195</th>\n",
       "      <td>(ancien, ancienne)</td>\n",
       "      <td>0.553337</td>\n",
       "    </tr>\n",
       "    <tr>\n",
       "      <th>41099</th>\n",
       "      <td>(Le, La)</td>\n",
       "      <td>0.533148</td>\n",
       "    </tr>\n",
       "    <tr>\n",
       "      <th>219007</th>\n",
       "      <td>(petit, seule)</td>\n",
       "      <td>0.529449</td>\n",
       "    </tr>\n",
       "    <tr>\n",
       "      <th>219223</th>\n",
       "      <td>(petit, mère)</td>\n",
       "      <td>0.528744</td>\n",
       "    </tr>\n",
       "    <tr>\n",
       "      <th>44051</th>\n",
       "      <td>(La, Un)</td>\n",
       "      <td>0.514276</td>\n",
       "    </tr>\n",
       "    <tr>\n",
       "      <th>218945</th>\n",
       "      <td>(petit, belle)</td>\n",
       "      <td>0.509544</td>\n",
       "    </tr>\n",
       "    <tr>\n",
       "      <th>407999</th>\n",
       "      <td>(belle, beau)</td>\n",
       "      <td>0.498173</td>\n",
       "    </tr>\n",
       "    <tr>\n",
       "      <th>432188</th>\n",
       "      <td>(enfant, mère)</td>\n",
       "      <td>0.498086</td>\n",
       "    </tr>\n",
       "    <tr>\n",
       "      <th>218661</th>\n",
       "      <td>(petit, grande)</td>\n",
       "      <td>0.496703</td>\n",
       "    </tr>\n",
       "    <tr>\n",
       "      <th>218802</th>\n",
       "      <td>(petit, femme)</td>\n",
       "      <td>0.493642</td>\n",
       "    </tr>\n",
       "    <tr>\n",
       "      <th>3993</th>\n",
       "      <td>(la, le)</td>\n",
       "      <td>0.489518</td>\n",
       "    </tr>\n",
       "    <tr>\n",
       "      <th>488294</th>\n",
       "      <td>(mère, joueur)</td>\n",
       "      <td>0.489449</td>\n",
       "    </tr>\n",
       "    <tr>\n",
       "      <th>44070</th>\n",
       "      <td>(La, Ce)</td>\n",
       "      <td>0.482605</td>\n",
       "    </tr>\n",
       "    <tr>\n",
       "      <th>159633</th>\n",
       "      <td>(premier, première)</td>\n",
       "      <td>0.482205</td>\n",
       "    </tr>\n",
       "    <tr>\n",
       "      <th>432674</th>\n",
       "      <td>(seule, joueur)</td>\n",
       "      <td>0.481566</td>\n",
       "    </tr>\n",
       "    <tr>\n",
       "      <th>336734</th>\n",
       "      <td>(femme, joueur)</td>\n",
       "      <td>0.480296</td>\n",
       "    </tr>\n",
       "  </tbody>\n",
       "</table>\n",
       "</div>"
      ],
      "text/plain": [
       "                       pair     score\n",
       "338105        (seul, seule)  0.639529\n",
       "260533       (homme, femme)  0.618795\n",
       "218772      (petit, petite)  0.586632\n",
       "424658         (père, mère)  0.576565\n",
       "404195   (ancien, ancienne)  0.553337\n",
       "41099              (Le, La)  0.533148\n",
       "219007       (petit, seule)  0.529449\n",
       "219223        (petit, mère)  0.528744\n",
       "44051              (La, Un)  0.514276\n",
       "218945       (petit, belle)  0.509544\n",
       "407999        (belle, beau)  0.498173\n",
       "432188       (enfant, mère)  0.498086\n",
       "218661      (petit, grande)  0.496703\n",
       "218802       (petit, femme)  0.493642\n",
       "3993               (la, le)  0.489518\n",
       "488294       (mère, joueur)  0.489449\n",
       "44070              (La, Ce)  0.482605\n",
       "159633  (premier, première)  0.482205\n",
       "432674      (seule, joueur)  0.481566\n",
       "336734      (femme, joueur)  0.480296"
      ]
     },
     "execution_count": 28,
     "metadata": {},
     "output_type": "execute_result"
    }
   ],
   "source": [
    "res_HF = association_Genrator('fille','garçon',model,top_n=1000)\n",
    "res_HF.head(20)"
   ]
  },
  {
   "cell_type": "code",
   "execution_count": 36,
   "metadata": {
    "collapsed": true
   },
   "outputs": [
    {
     "data": {
      "text/html": [
       "<div>\n",
       "<style scoped>\n",
       "    .dataframe tbody tr th:only-of-type {\n",
       "        vertical-align: middle;\n",
       "    }\n",
       "\n",
       "    .dataframe tbody tr th {\n",
       "        vertical-align: top;\n",
       "    }\n",
       "\n",
       "    .dataframe thead th {\n",
       "        text-align: right;\n",
       "    }\n",
       "</style>\n",
       "<table border=\"1\" class=\"dataframe\">\n",
       "  <thead>\n",
       "    <tr style=\"text-align: right;\">\n",
       "      <th></th>\n",
       "      <th>pair</th>\n",
       "      <th>score</th>\n",
       "    </tr>\n",
       "  </thead>\n",
       "  <tbody>\n",
       "    <tr>\n",
       "      <th>409596</th>\n",
       "      <td>(laquelle, lequel)</td>\n",
       "      <td>0.615694</td>\n",
       "    </tr>\n",
       "    <tr>\n",
       "      <th>16847</th>\n",
       "      <td>(un, une)</td>\n",
       "      <td>0.571886</td>\n",
       "    </tr>\n",
       "    <tr>\n",
       "      <th>29545</th>\n",
       "      <td>(son, sa)</td>\n",
       "      <td>0.564418</td>\n",
       "    </tr>\n",
       "    <tr>\n",
       "      <th>354168</th>\n",
       "      <td>(seul, seule)</td>\n",
       "      <td>0.557817</td>\n",
       "    </tr>\n",
       "    <tr>\n",
       "      <th>33421</th>\n",
       "      <td>(ce, cette)</td>\n",
       "      <td>0.548383</td>\n",
       "    </tr>\n",
       "    <tr>\n",
       "      <th>2011</th>\n",
       "      <td>(de, un)</td>\n",
       "      <td>0.502066</td>\n",
       "    </tr>\n",
       "    <tr>\n",
       "      <th>109459</th>\n",
       "      <td>(tout, toute)</td>\n",
       "      <td>0.498307</td>\n",
       "    </tr>\n",
       "    <tr>\n",
       "      <th>16880</th>\n",
       "      <td>(un, cette)</td>\n",
       "      <td>0.480216</td>\n",
       "    </tr>\n",
       "    <tr>\n",
       "      <th>29555</th>\n",
       "      <td>(son, cette)</td>\n",
       "      <td>0.478067</td>\n",
       "    </tr>\n",
       "    <tr>\n",
       "      <th>17844</th>\n",
       "      <td>(une, ce)</td>\n",
       "      <td>0.475957</td>\n",
       "    </tr>\n",
       "    <tr>\n",
       "      <th>207294</th>\n",
       "      <td>(celui, celle)</td>\n",
       "      <td>0.472464</td>\n",
       "    </tr>\n",
       "    <tr>\n",
       "      <th>2007</th>\n",
       "      <td>(de, du)</td>\n",
       "      <td>0.467322</td>\n",
       "    </tr>\n",
       "    <tr>\n",
       "      <th>50394</th>\n",
       "      <td>(cette, lequel)</td>\n",
       "      <td>0.466827</td>\n",
       "    </tr>\n",
       "    <tr>\n",
       "      <th>16870</th>\n",
       "      <td>(un, sa)</td>\n",
       "      <td>0.466141</td>\n",
       "    </tr>\n",
       "    <tr>\n",
       "      <th>33732</th>\n",
       "      <td>(ce, toute)</td>\n",
       "      <td>0.465041</td>\n",
       "    </tr>\n",
       "    <tr>\n",
       "      <th>17840</th>\n",
       "      <td>(une, son)</td>\n",
       "      <td>0.460484</td>\n",
       "    </tr>\n",
       "    <tr>\n",
       "      <th>17404</th>\n",
       "      <td>(un, laquelle)</td>\n",
       "      <td>0.459855</td>\n",
       "    </tr>\n",
       "    <tr>\n",
       "      <th>50082</th>\n",
       "      <td>(cette, seul)</td>\n",
       "      <td>0.459830</td>\n",
       "    </tr>\n",
       "    <tr>\n",
       "      <th>33945</th>\n",
       "      <td>(ce, laquelle)</td>\n",
       "      <td>0.459408</td>\n",
       "    </tr>\n",
       "    <tr>\n",
       "      <th>17488</th>\n",
       "      <td>(un, seule)</td>\n",
       "      <td>0.459046</td>\n",
       "    </tr>\n",
       "  </tbody>\n",
       "</table>\n",
       "</div>"
      ],
      "text/plain": [
       "                      pair     score\n",
       "409596  (laquelle, lequel)  0.615694\n",
       "16847            (un, une)  0.571886\n",
       "29545            (son, sa)  0.564418\n",
       "354168       (seul, seule)  0.557817\n",
       "33421          (ce, cette)  0.548383\n",
       "2011              (de, un)  0.502066\n",
       "109459       (tout, toute)  0.498307\n",
       "16880          (un, cette)  0.480216\n",
       "29555         (son, cette)  0.478067\n",
       "17844            (une, ce)  0.475957\n",
       "207294      (celui, celle)  0.472464\n",
       "2007              (de, du)  0.467322\n",
       "50394      (cette, lequel)  0.466827\n",
       "16870             (un, sa)  0.466141\n",
       "33732          (ce, toute)  0.465041\n",
       "17840           (une, son)  0.460484\n",
       "17404       (un, laquelle)  0.459855\n",
       "50082        (cette, seul)  0.459830\n",
       "33945       (ce, laquelle)  0.459408\n",
       "17488          (un, seule)  0.459046"
      ]
     },
     "execution_count": 36,
     "metadata": {},
     "output_type": "execute_result"
    }
   ],
   "source": [
    "res_HF = association_Genrator('le','la',model_wiki,top_n=1000)\n",
    "res_HF.head(20)"
   ]
  },
  {
   "cell_type": "markdown",
   "metadata": {},
   "source": [
    "## Comment :\n",
    "The gender pair generator we have built is not really meaningfull. We decided to create our own pair of word using our knowledge of French langage.\n",
    "We create :\n",
    "* **pair_g**: gender pairs associated with the determinants and pronoums\n",
    "* **pair_g1**: gender pairs associated with semantic signification\n",
    "* **pair_g2**: gender pairs associated with suffix"
   ]
  },
  {
   "cell_type": "code",
   "execution_count": 119,
   "metadata": {},
   "outputs": [],
   "source": [
    "pair_g = [['la','le'],['elle','il'], ['cette', 'cet'],\n",
    "          ['une','un'],['laquelle', 'lequel'],['celle','celui'],['ma','mon'],\n",
    "          ['mienne','mien'],['certaine', 'certain'],['aucune', 'aucun']\n",
    "         ]\n",
    "\n",
    "pair_g1 = [['fille','garçon'],['maman','papa'],['mère','père'],['fille','fils'],['femelle','mâle'],\n",
    "           ['reine','roi'],['tante','oncle'],['grand-père','grand-mère'],\n",
    "           ['femme','homme'],['soeur','frère'],['marraine','parrain']\n",
    "          ]\n",
    "\n",
    "\n",
    "pair_g2 = [['belle','beau'],['actrice','acteur'],['serveuse','serveur'],['contente' ,'content'],\n",
    "           ['petite','petit'],['heureuse','heureux'],['gentille','gentils'],['seule', 'seul'],\n",
    "           ['créatrice','créateur'],['chanteuse','chanteuse']]\n",
    "\n",
    "pair_am = [['brebis', 'bélier'], ['chèvre', 'bouc'],['biche', 'cerf'],\n",
    "           ['chatte', 'chat'], ['jument', 'cheval'],['chienne', 'chien'], ['poule', 'coq'],\n",
    "           ['louve', 'loup'],['rate', 'rat'],['vache', 'taureau']]\n",
    "\n",
    "pair_h =[['femme','homme'],['fille','garçon'],['femelle','mâle'],\n",
    "         ['la','le'],['elle','il'],['une','un'],\n",
    "         ['seule', 'seul'],['petite','petit'],\n",
    "         ['jument', 'cheval'],['louve', 'loup']\n",
    "        ]\n",
    "pair_all= pair_g+pair_g1+pair_g2+pair_am+pair_h\n",
    "#['ânesse', 'âne'],,['éléphante', 'éléphant'],['faisane', 'faisan'],,['hérissonne', 'hérisson'],\n",
    "#['bufflonne', 'buffle'],['daime', 'daim'],['cane', 'canard'], ['dinde', 'dindon'],['chamelle', 'chameau'],\n",
    "#['chevrette', 'chevreuil'],['crapaude', 'crapaud'],['hérone', 'héron'],['oie', 'jars'],['lapine', 'lapin']\n",
    "#['hase', 'lièvre'],['tigresse', 'tigre']\n",
    "#['lione', 'lion'],['merlette', 'merle'],['ourse', 'ours'],,['truie', 'cochon',['laie', 'sanglier'],"
   ]
  },
  {
   "cell_type": "markdown",
   "metadata": {},
   "source": [
    "## 1) Direct Biais\n",
    "Thanks to the function **from_pair_to_direction2** we compute the Gender direction depending on the pairs."
   ]
  },
  {
   "cell_type": "code",
   "execution_count": 120,
   "metadata": {},
   "outputs": [],
   "source": [
    "#determunant and pronoum\n",
    "direction_g0, expl_var_g0,eig_values_g0 = lib.from_pair_to_direction2(pair_g,model)\n",
    "#semantic\n",
    "direction_g1, expl_var_g1,eig_values_g1 = lib.from_pair_to_direction2(pair_g1,model)\n",
    "# suffix\n",
    "direction_g2, expl_var_g2,eig_values_g2 = lib.from_pair_to_direction2(pair_g2,model)\n",
    "#mam\n",
    "direction_gM, expl_var_gM,eig_values_gM = lib.from_pair_to_direction2(pair_am,model)\n",
    "#hybride\n",
    "direction_gh, expl_var_gh,eig_values_gh = lib.from_pair_to_direction2(pair_h,model)\n",
    "# all\n",
    "direction_gall, expl_var_gall,eig_values_gall = lib.from_pair_to_direction2(pair_all,model)"
   ]
  },
  {
   "cell_type": "code",
   "execution_count": 79,
   "metadata": {
    "scrolled": true
   },
   "outputs": [
    {
     "data": {
      "image/png": "[encoded data removed]",
      "text/plain": [
       "<Figure size 1440x720 with 2 Axes>"
      ]
     },
     "metadata": {},
     "output_type": "display_data"
    },
    {
     "data": {
      "image/png": "[encoded data removed]",
      "text/plain": [
       "<Figure size 1440x720 with 2 Axes>"
      ]
     },
     "metadata": {},
     "output_type": "display_data"
    },
    {
     "data": {
      "image/png": "[encoded data removed]",
      "text/plain": [
       "<Figure size 1440x720 with 2 Axes>"
      ]
     },
     "metadata": {},
     "output_type": "display_data"
    },
    {
     "data": {
      "image/png": "[encoded data removed]",
      "text/plain": [
       "<Figure size 1440x720 with 2 Axes>"
      ]
     },
     "metadata": {},
     "output_type": "display_data"
    },
    {
     "data": {
      "image/png": "[encoded data removed]",
      "text/plain": [
       "<Figure size 1440x720 with 2 Axes>"
      ]
     },
     "metadata": {},
     "output_type": "display_data"
    },
    {
     "data": {
      "image/png": "[encoded data removed]",
      "text/plain": [
       "<Figure size 1440x720 with 2 Axes>"
      ]
     },
     "metadata": {},
     "output_type": "display_data"
    }
   ],
   "source": [
    "ax1 = lib.plot_var_eig(eig_values_g0,expl_var_g0)\n",
    "ax1 = lib.plot_var_eig(eig_values_g1,expl_var_g1)\n",
    "ax2 = lib.plot_var_eig(eig_values_g2,expl_var_g2)\n",
    "axM = lib.plot_var_eig(eig_values_gM,expl_var_gM)\n",
    "axh = lib.plot_var_eig(eig_values_gh,expl_var_gh)\n",
    "axALL = lib.plot_var_eig(eig_values_gall,expl_var_gall)"
   ]
  },
  {
   "cell_type": "markdown",
   "metadata": {},
   "source": [
    "## Exemple of  direct biais"
   ]
  },
  {
   "cell_type": "code",
   "execution_count": 130,
   "metadata": {},
   "outputs": [
    {
     "name": "stdout",
     "output_type": "stream",
     "text": [
      "#####################\n",
      "#    biaised Words   #\n",
      "#####################\n"
     ]
    },
    {
     "data": {
      "image/png": "[encoded data removed]",
      "text/plain": [
       "<Figure size 1080x576 with 1 Axes>"
      ]
     },
     "metadata": {},
     "output_type": "display_data"
    }
   ],
   "source": [
    "word = ['mathématique','football','amour','voiture','aventure','émotion','larme','danse','sein','robe','match']\n",
    "print('#####################')\n",
    "print('#    biaised Words   #')\n",
    "print('#####################')\n",
    "G,G1,G2,GM,GH,ALL = [],[],[],[],[],[]\n",
    "for w in word :\n",
    "    G.append( lib.cosine_similarity(model[w],direction_g0)*100)\n",
    "    G1.append( lib.cosine_similarity(model[w],direction_g1)*100)\n",
    "    G2.append( lib.cosine_similarity(model[w],direction_g2)*100)\n",
    "    GM.append( lib.cosine_similarity(model[w],direction_gM)*100)\n",
    "    GH.append( lib.cosine_similarity(model[w],direction_gh)*100)\n",
    "    ALL.append( lib.cosine_similarity(model[w],direction_gall)*100)\n",
    "res = pd.DataFrame(data={'Determinant':G,'famille':G1,'suffixe':G2,'Mammifères':GM,'Hybride':GH,'Toute':ALL},index=word)\n",
    "res.plot.bar(figsize=(15,8))\n",
    "plt.show()"
   ]
  },
  {
   "cell_type": "code",
   "execution_count": 127,
   "metadata": {},
   "outputs": [
    {
     "name": "stdout",
     "output_type": "stream",
     "text": [
      "########################\n",
      "#    feminin Words      #\n",
      "########################\n"
     ]
    },
    {
     "data": {
      "image/png": "[encoded data removed]",
      "text/plain": [
       "<Figure size 1080x576 with 1 Axes>"
      ]
     },
     "metadata": {},
     "output_type": "display_data"
    }
   ],
   "source": [
    "neutral_fem =['table','chaise','pomme','banane','roue','enceinte','blague','bouteille','souris','feuille']\n",
    "print('########################')\n",
    "print('#    feminin Words      #')\n",
    "print('########################')\n",
    "G,G1,G2,GM,GH,ALL = [],[],[],[],[],[]\n",
    "for w in neutral_fem :\n",
    "    G.append( lib.cosine_similarity(model[w],direction_g0)*100)\n",
    "    G1.append( lib.cosine_similarity(model[w],direction_g1)*100)\n",
    "    G2.append( lib.cosine_similarity(model[w],direction_g2)*100)\n",
    "    GM.append( lib.cosine_similarity(model[w],direction_gM)*100)\n",
    "    GH.append( lib.cosine_similarity(model[w],direction_gh)*100)\n",
    "    ALL.append( lib.cosine_similarity(model[w],direction_gall)*100)\n",
    "res = pd.DataFrame(data={'Determinant':G,'famille':G1,'suffixe':G2,'Mammifères':GM,'Hybride':GH,'Toute':ALL},index=neutral_fem)\n",
    "res.plot.bar(figsize=(15,8))\n",
    "plt.show()"
   ]
  },
  {
   "cell_type": "code",
   "execution_count": 128,
   "metadata": {},
   "outputs": [
    {
     "name": "stdout",
     "output_type": "stream",
     "text": [
      "########################\n",
      "#    masculin Words     #\n",
      "########################\n"
     ]
    },
    {
     "data": {
      "image/png": "[encoded data removed]",
      "text/plain": [
       "<Figure size 1080x576 with 1 Axes>"
      ]
     },
     "metadata": {},
     "output_type": "display_data"
    }
   ],
   "source": [
    "neutral_man =['stylo','kiwi','chocolat','café','véhicule','chateau','rire','casier','clavier','filtre']\n",
    "print('########################')\n",
    "print('#    masculin Words     #')\n",
    "print('########################')\n",
    "G,G1,G2,GM,GH,ALL = [],[],[],[],[],[]\n",
    "for w in neutral_man :\n",
    "    G.append( lib.cosine_similarity(model[w],direction_g0)*100)\n",
    "    G1.append( lib.cosine_similarity(model[w],direction_g1)*100)\n",
    "    G2.append( lib.cosine_similarity(model[w],direction_g2)*100)\n",
    "    GM.append( lib.cosine_similarity(model[w],direction_gM)*100)\n",
    "    GH.append( lib.cosine_similarity(model[w],direction_gh)*100)\n",
    "    ALL.append( lib.cosine_similarity(model[w],direction_gall)*100)\n",
    "res = pd.DataFrame(data={'Determinant':G,'famille':G1,'suffixe':G2,'Mammifères':GM,'Hybride':GH,'Toute':ALL},index=neutral_man)\n",
    "res.plot.bar(figsize=(15,8))\n",
    "plt.show()"
   ]
  },
  {
   "cell_type": "markdown",
   "metadata": {},
   "source": [
    "## First conclusion :\n",
    "We observe that the sign of the direct biais correspond to gramatical gender! Let's verify this hypothesis by implemented a classifier to infer the gramatical Gender."
   ]
  },
  {
   "cell_type": "code",
   "execution_count": 89,
   "metadata": {},
   "outputs": [],
   "source": [
    "#Load lexique in a Dataframe\n",
    "df = pd.read_excel(r'DATA\\FR\\Lexique382.xlsx',encoding='latin1')"
   ]
  },
  {
   "cell_type": "code",
   "execution_count": 140,
   "metadata": {},
   "outputs": [],
   "source": [
    "def Gender_Classifier_predict(X,Pair,model):\n",
    "    \"\"\"\n",
    "    predict the gender of a noum based on the \n",
    "    \"\"\"\n",
    "    direction_g, expl_var_g,eig_values_g = lib.from_pair_to_direction2(Pair,model)\n",
    "    Y_pred = []\n",
    "    for i in range(len(X)):\n",
    "        if lib.cosine_similarity(X[i],direction_g)*100>0:\n",
    "            Y_pred.append(0)\n",
    "        else :\n",
    "            Y_pred.append(1)\n",
    "    return(Y_pred)\n",
    "\n",
    "def store_score(pair,model,lexique):\n",
    "    X,y = lib.built_X_y(lib.merge_model_lexique(df,model),model)\n",
    "    Y_pred = Gender_Classifier_predict(X,pair,model)\n",
    "    Y_pred_rand = np.random.randint(2, size=len(X))\n",
    "    roc = roc_auc_score(y, Y_pred)\n",
    "    acc = accuracy_score(y, Y_pred)\n",
    "    roc_rand = roc_auc_score(y, Y_pred_rand)\n",
    "    acc_rand = accuracy_score(y, Y_pred_rand)\n",
    "    return(roc,acc,roc_rand,acc_rand)\n",
    "\n",
    "def store_result(MODEL,MODEL_NAME,pair,lexique):\n",
    "    ROC,ROC_R = [],[]\n",
    "    ACC ,ACC_R = [],[]\n",
    "    for model in MODEL:\n",
    "        try :\n",
    "            roc,acc,roc_rand,acc_rand = store_score(pair,model,lexique)\n",
    "        except :\n",
    "            #roc,acc,roc_rand,acc_rand = store_score(pair,model,lexique)\n",
    "            roc,acc,roc_rand,acc_rand = 0,0,0,0\n",
    "        ROC.append(roc)\n",
    "        ACC.append(acc)\n",
    "        ROC_R.append(roc_rand)\n",
    "        ACC_R.append(acc_rand)\n",
    "    df = pd.DataFrame(data = {'ROC':ROC,'ACC':ACC,'ROC_random':ROC_R,'ACC_Random':ACC_R},index=MODEL_NAME)\n",
    "    return(df)\n",
    "        \n",
    "    \n",
    " \n",
    "    "
   ]
  },
  {
   "cell_type": "markdown",
   "metadata": {},
   "source": [
    "## We modify some of the pair to have some result with the lemmatized corpus"
   ]
  },
  {
   "cell_type": "code",
   "execution_count": 154,
   "metadata": {},
   "outputs": [],
   "source": [
    "\n",
    "# we remind the pair here\n",
    "pair_g = [['la','le'],['elle','il'], ['cette', 'cet'],\n",
    "          ['une','un'],['laquelle', 'lequel'],['celle','celui'],['ma','mon'],\n",
    "          ['mienne','mien'],['certaine', 'certain'],['aucune', 'aucun']\n",
    "         ]\n",
    "\n",
    "pair_g1 = [['femme','homme'],['maman','papa'],['mère','père'],['femelle','mâle'],\n",
    "           ['reine','roi'],['tante','oncle'],\n",
    "           ['fille','garçon'],['marraine','parrain']\n",
    "          ]\n",
    "\n",
    "\n",
    "pair_g2 = [['belle','beau'],['actrice','acteur'],['serveuse','serveur'],['contente' ,'content'],\n",
    "           ['petite','petit'],['heureuse','heureux'],['gentille','gentils'],['seule', 'seul'],\n",
    "           ['créatrice','créateur'],['chanteuse','chanteuse']]\n",
    "\n",
    "pair_am = [['brebis', 'bélier'], ['chèvre', 'bouc'],['biche', 'cerf'],\n",
    "            ['jument', 'cheval'], ['poule', 'coq'],\n",
    "           ['louve', 'loup'],['rate', 'rat'],['vache', 'taureau']]\n",
    "\n",
    "pair_h =[['femme','homme'],['fille','garçon'],['femelle','mâle'],\n",
    "         ['la','le'],['elle','il'],\n",
    "         ['jument', 'cheval'],['louve', 'loup']\n",
    "        ]\n",
    "pair_all= pair_g+pair_g1+pair_g2+pair_am+pair_h"
   ]
  },
  {
   "cell_type": "code",
   "execution_count": 92,
   "metadata": {},
   "outputs": [
    {
     "name": "stdout",
     "output_type": "stream",
     "text": [
      "##########################\n",
      "#    pair_ déterminant   #\n",
      "##########################\n"
     ]
    },
    {
     "data": {
      "text/html": [
       "<div>\n",
       "<style scoped>\n",
       "    .dataframe tbody tr th:only-of-type {\n",
       "        vertical-align: middle;\n",
       "    }\n",
       "\n",
       "    .dataframe tbody tr th {\n",
       "        vertical-align: top;\n",
       "    }\n",
       "\n",
       "    .dataframe thead th {\n",
       "        text-align: right;\n",
       "    }\n",
       "</style>\n",
       "<table border=\"1\" class=\"dataframe\">\n",
       "  <thead>\n",
       "    <tr style=\"text-align: right;\">\n",
       "      <th></th>\n",
       "      <th>ROC</th>\n",
       "      <th>ACC</th>\n",
       "      <th>ROC_random</th>\n",
       "      <th>ACC_Random</th>\n",
       "    </tr>\n",
       "  </thead>\n",
       "  <tbody>\n",
       "    <tr>\n",
       "      <th>model</th>\n",
       "      <td>0.877169</td>\n",
       "      <td>0.862642</td>\n",
       "      <td>0.498708</td>\n",
       "      <td>0.499108</td>\n",
       "    </tr>\n",
       "    <tr>\n",
       "      <th>model_lem</th>\n",
       "      <td>0.000000</td>\n",
       "      <td>0.000000</td>\n",
       "      <td>0.000000</td>\n",
       "      <td>0.000000</td>\n",
       "    </tr>\n",
       "    <tr>\n",
       "      <th>model_wiki</th>\n",
       "      <td>0.799666</td>\n",
       "      <td>0.786190</td>\n",
       "      <td>0.508629</td>\n",
       "      <td>0.508385</td>\n",
       "    </tr>\n",
       "    <tr>\n",
       "      <th>model_wiki_lem</th>\n",
       "      <td>0.000000</td>\n",
       "      <td>0.000000</td>\n",
       "      <td>0.000000</td>\n",
       "      <td>0.000000</td>\n",
       "    </tr>\n",
       "  </tbody>\n",
       "</table>\n",
       "</div>"
      ],
      "text/plain": [
       "                     ROC       ACC  ROC_random  ACC_Random\n",
       "model           0.877169  0.862642    0.498708    0.499108\n",
       "model_lem       0.000000  0.000000    0.000000    0.000000\n",
       "model_wiki      0.799666  0.786190    0.508629    0.508385\n",
       "model_wiki_lem  0.000000  0.000000    0.000000    0.000000"
      ]
     },
     "execution_count": 92,
     "metadata": {},
     "output_type": "execute_result"
    }
   ],
   "source": [
    "print('##########################')\n",
    "print('#    paires déterminant   #')\n",
    "print('##########################')\n",
    "MODEL = [model,model_lem,model_wiki,model_wiki_lem]\n",
    "MODEL_NAME = ['model','model_lem','model_wiki','model_wiki_lem']\n",
    "df_0 = store_result(MODEL,MODEL_NAME,pair_g,df)\n",
    "df_0"
   ]
  },
  {
   "cell_type": "code",
   "execution_count": 156,
   "metadata": {},
   "outputs": [
    {
     "name": "stdout",
     "output_type": "stream",
     "text": [
      "######################\n",
      "#    paires famille   #\n",
      "######################\n"
     ]
    },
    {
     "data": {
      "text/html": [
       "<div>\n",
       "<style scoped>\n",
       "    .dataframe tbody tr th:only-of-type {\n",
       "        vertical-align: middle;\n",
       "    }\n",
       "\n",
       "    .dataframe tbody tr th {\n",
       "        vertical-align: top;\n",
       "    }\n",
       "\n",
       "    .dataframe thead th {\n",
       "        text-align: right;\n",
       "    }\n",
       "</style>\n",
       "<table border=\"1\" class=\"dataframe\">\n",
       "  <thead>\n",
       "    <tr style=\"text-align: right;\">\n",
       "      <th></th>\n",
       "      <th>ROC</th>\n",
       "      <th>ACC</th>\n",
       "      <th>ROC_random</th>\n",
       "      <th>ACC_Random</th>\n",
       "    </tr>\n",
       "  </thead>\n",
       "  <tbody>\n",
       "    <tr>\n",
       "      <th>model</th>\n",
       "      <td>0.880025</td>\n",
       "      <td>0.880583</td>\n",
       "      <td>0.500166</td>\n",
       "      <td>0.500446</td>\n",
       "    </tr>\n",
       "    <tr>\n",
       "      <th>model_lem</th>\n",
       "      <td>0.541448</td>\n",
       "      <td>0.554889</td>\n",
       "      <td>0.495954</td>\n",
       "      <td>0.497019</td>\n",
       "    </tr>\n",
       "    <tr>\n",
       "      <th>model_wiki</th>\n",
       "      <td>0.667448</td>\n",
       "      <td>0.657292</td>\n",
       "      <td>0.501969</td>\n",
       "      <td>0.502331</td>\n",
       "    </tr>\n",
       "    <tr>\n",
       "      <th>model_wiki_lem</th>\n",
       "      <td>0.511175</td>\n",
       "      <td>0.654203</td>\n",
       "      <td>0.500556</td>\n",
       "      <td>0.500603</td>\n",
       "    </tr>\n",
       "  </tbody>\n",
       "</table>\n",
       "</div>"
      ],
      "text/plain": [
       "                     ROC       ACC  ROC_random  ACC_Random\n",
       "model           0.880025  0.880583    0.500166    0.500446\n",
       "model_lem       0.541448  0.554889    0.495954    0.497019\n",
       "model_wiki      0.667448  0.657292    0.501969    0.502331\n",
       "model_wiki_lem  0.511175  0.654203    0.500556    0.500603"
      ]
     },
     "execution_count": 156,
     "metadata": {},
     "output_type": "execute_result"
    }
   ],
   "source": [
    "print('######################')\n",
    "print('#    paires famille   #')\n",
    "print('######################')\n",
    "MODEL = [model,model_lem,model_wiki,model_wiki_lem]\n",
    "MODEL_NAME = ['model','model_lem','model_wiki','model_wiki_lem']\n",
    "df_1 = store_result(MODEL,MODEL_NAME,pair_g1,df)\n",
    "df_1"
   ]
  },
  {
   "cell_type": "code",
   "execution_count": 132,
   "metadata": {},
   "outputs": [
    {
     "name": "stdout",
     "output_type": "stream",
     "text": [
      "####################\n",
      "#    paires suffixe  #\n",
      "####################\n"
     ]
    },
    {
     "data": {
      "text/html": [
       "<div>\n",
       "<style scoped>\n",
       "    .dataframe tbody tr th:only-of-type {\n",
       "        vertical-align: middle;\n",
       "    }\n",
       "\n",
       "    .dataframe tbody tr th {\n",
       "        vertical-align: top;\n",
       "    }\n",
       "\n",
       "    .dataframe thead th {\n",
       "        text-align: right;\n",
       "    }\n",
       "</style>\n",
       "<table border=\"1\" class=\"dataframe\">\n",
       "  <thead>\n",
       "    <tr style=\"text-align: right;\">\n",
       "      <th></th>\n",
       "      <th>ROC</th>\n",
       "      <th>ACC</th>\n",
       "      <th>ROC_random</th>\n",
       "      <th>ACC_Random</th>\n",
       "    </tr>\n",
       "  </thead>\n",
       "  <tbody>\n",
       "    <tr>\n",
       "      <th>model</th>\n",
       "      <td>0.880506</td>\n",
       "      <td>0.890360</td>\n",
       "      <td>0.499605</td>\n",
       "      <td>0.499383</td>\n",
       "    </tr>\n",
       "    <tr>\n",
       "      <th>model_lem</th>\n",
       "      <td>0.539770</td>\n",
       "      <td>0.645681</td>\n",
       "      <td>0.498911</td>\n",
       "      <td>0.499260</td>\n",
       "    </tr>\n",
       "    <tr>\n",
       "      <th>model_wiki</th>\n",
       "      <td>0.226986</td>\n",
       "      <td>0.230369</td>\n",
       "      <td>0.498312</td>\n",
       "      <td>0.497881</td>\n",
       "    </tr>\n",
       "    <tr>\n",
       "      <th>model_wiki_lem</th>\n",
       "      <td>0.000000</td>\n",
       "      <td>0.000000</td>\n",
       "      <td>0.000000</td>\n",
       "      <td>0.000000</td>\n",
       "    </tr>\n",
       "  </tbody>\n",
       "</table>\n",
       "</div>"
      ],
      "text/plain": [
       "                     ROC       ACC  ROC_random  ACC_Random\n",
       "model           0.880506  0.890360    0.499605    0.499383\n",
       "model_lem       0.539770  0.645681    0.498911    0.499260\n",
       "model_wiki      0.226986  0.230369    0.498312    0.497881\n",
       "model_wiki_lem  0.000000  0.000000    0.000000    0.000000"
      ]
     },
     "execution_count": 132,
     "metadata": {},
     "output_type": "execute_result"
    }
   ],
   "source": [
    "print('####################')\n",
    "print('#    paires suffixe  #')\n",
    "print('####################')\n",
    "MODEL = [model,model_lem,model_wiki,model_wiki_lem]\n",
    "MODEL_NAME = ['model','model_lem','model_wiki','model_wiki_lem']\n",
    "df_2 = store_result(MODEL,MODEL_NAME,pair_g2,df)\n",
    "df_2"
   ]
  },
  {
   "cell_type": "code",
   "execution_count": 157,
   "metadata": {},
   "outputs": [
    {
     "name": "stdout",
     "output_type": "stream",
     "text": [
      "##########################\n",
      "#    paires mamifères   #\n",
      "##########################\n"
     ]
    },
    {
     "data": {
      "text/html": [
       "<div>\n",
       "<style scoped>\n",
       "    .dataframe tbody tr th:only-of-type {\n",
       "        vertical-align: middle;\n",
       "    }\n",
       "\n",
       "    .dataframe tbody tr th {\n",
       "        vertical-align: top;\n",
       "    }\n",
       "\n",
       "    .dataframe thead th {\n",
       "        text-align: right;\n",
       "    }\n",
       "</style>\n",
       "<table border=\"1\" class=\"dataframe\">\n",
       "  <thead>\n",
       "    <tr style=\"text-align: right;\">\n",
       "      <th></th>\n",
       "      <th>ROC</th>\n",
       "      <th>ACC</th>\n",
       "      <th>ROC_random</th>\n",
       "      <th>ACC_Random</th>\n",
       "    </tr>\n",
       "  </thead>\n",
       "  <tbody>\n",
       "    <tr>\n",
       "      <th>model</th>\n",
       "      <td>0.812799</td>\n",
       "      <td>0.811630</td>\n",
       "      <td>0.496618</td>\n",
       "      <td>0.497015</td>\n",
       "    </tr>\n",
       "    <tr>\n",
       "      <th>model_lem</th>\n",
       "      <td>0.502468</td>\n",
       "      <td>0.521853</td>\n",
       "      <td>0.499006</td>\n",
       "      <td>0.499829</td>\n",
       "    </tr>\n",
       "    <tr>\n",
       "      <th>model_wiki</th>\n",
       "      <td>0.392225</td>\n",
       "      <td>0.407822</td>\n",
       "      <td>0.502038</td>\n",
       "      <td>0.501695</td>\n",
       "    </tr>\n",
       "    <tr>\n",
       "      <th>model_wiki_lem</th>\n",
       "      <td>0.478475</td>\n",
       "      <td>0.613399</td>\n",
       "      <td>0.501547</td>\n",
       "      <td>0.501499</td>\n",
       "    </tr>\n",
       "  </tbody>\n",
       "</table>\n",
       "</div>"
      ],
      "text/plain": [
       "                     ROC       ACC  ROC_random  ACC_Random\n",
       "model           0.812799  0.811630    0.496618    0.497015\n",
       "model_lem       0.502468  0.521853    0.499006    0.499829\n",
       "model_wiki      0.392225  0.407822    0.502038    0.501695\n",
       "model_wiki_lem  0.478475  0.613399    0.501547    0.501499"
      ]
     },
     "execution_count": 157,
     "metadata": {},
     "output_type": "execute_result"
    }
   ],
   "source": [
    "print('##########################')\n",
    "print('#    paires mamifères   #')\n",
    "print('##########################')\n",
    "MODEL = [model,model_lem,model_wiki,model_wiki_lem]\n",
    "MODEL_NAME = ['model','model_lem','model_wiki','model_wiki_lem']\n",
    "df_0 = store_result(MODEL,MODEL_NAME,pair_am,df)\n",
    "df_0"
   ]
  },
  {
   "cell_type": "code",
   "execution_count": 158,
   "metadata": {},
   "outputs": [
    {
     "name": "stdout",
     "output_type": "stream",
     "text": [
      "##########################\n",
      "#    paires hybride      #\n",
      "##########################\n"
     ]
    },
    {
     "data": {
      "text/html": [
       "<div>\n",
       "<style scoped>\n",
       "    .dataframe tbody tr th:only-of-type {\n",
       "        vertical-align: middle;\n",
       "    }\n",
       "\n",
       "    .dataframe tbody tr th {\n",
       "        vertical-align: top;\n",
       "    }\n",
       "\n",
       "    .dataframe thead th {\n",
       "        text-align: right;\n",
       "    }\n",
       "</style>\n",
       "<table border=\"1\" class=\"dataframe\">\n",
       "  <thead>\n",
       "    <tr style=\"text-align: right;\">\n",
       "      <th></th>\n",
       "      <th>ROC</th>\n",
       "      <th>ACC</th>\n",
       "      <th>ROC_random</th>\n",
       "      <th>ACC_Random</th>\n",
       "    </tr>\n",
       "  </thead>\n",
       "  <tbody>\n",
       "    <tr>\n",
       "      <th>model</th>\n",
       "      <td>0.861285</td>\n",
       "      <td>0.857770</td>\n",
       "      <td>0.497640</td>\n",
       "      <td>0.498113</td>\n",
       "    </tr>\n",
       "    <tr>\n",
       "      <th>model_lem</th>\n",
       "      <td>0.469582</td>\n",
       "      <td>0.374445</td>\n",
       "      <td>0.501895</td>\n",
       "      <td>0.501804</td>\n",
       "    </tr>\n",
       "    <tr>\n",
       "      <th>model_wiki</th>\n",
       "      <td>0.283884</td>\n",
       "      <td>0.278168</td>\n",
       "      <td>0.501155</td>\n",
       "      <td>0.501150</td>\n",
       "    </tr>\n",
       "    <tr>\n",
       "      <th>model_wiki_lem</th>\n",
       "      <td>0.498924</td>\n",
       "      <td>0.638005</td>\n",
       "      <td>0.501153</td>\n",
       "      <td>0.501844</td>\n",
       "    </tr>\n",
       "  </tbody>\n",
       "</table>\n",
       "</div>"
      ],
      "text/plain": [
       "                     ROC       ACC  ROC_random  ACC_Random\n",
       "model           0.861285  0.857770    0.497640    0.498113\n",
       "model_lem       0.469582  0.374445    0.501895    0.501804\n",
       "model_wiki      0.283884  0.278168    0.501155    0.501150\n",
       "model_wiki_lem  0.498924  0.638005    0.501153    0.501844"
      ]
     },
     "execution_count": 158,
     "metadata": {},
     "output_type": "execute_result"
    }
   ],
   "source": [
    "print('##########################')\n",
    "print('#    paires hybride      #')\n",
    "print('##########################')\n",
    "MODEL = [model,model_lem,model_wiki,model_wiki_lem]\n",
    "MODEL_NAME = ['model','model_lem','model_wiki','model_wiki_lem']\n",
    "df_0 = store_result(MODEL,MODEL_NAME,pair_h,df)\n",
    "df_0"
   ]
  },
  {
   "cell_type": "code",
   "execution_count": 99,
   "metadata": {},
   "outputs": [
    {
     "name": "stdout",
     "output_type": "stream",
     "text": [
      "##########################\n",
      "#    paires all      #\n",
      "##########################\n"
     ]
    },
    {
     "data": {
      "text/html": [
       "<div>\n",
       "<style scoped>\n",
       "    .dataframe tbody tr th:only-of-type {\n",
       "        vertical-align: middle;\n",
       "    }\n",
       "\n",
       "    .dataframe tbody tr th {\n",
       "        vertical-align: top;\n",
       "    }\n",
       "\n",
       "    .dataframe thead th {\n",
       "        text-align: right;\n",
       "    }\n",
       "</style>\n",
       "<table border=\"1\" class=\"dataframe\">\n",
       "  <thead>\n",
       "    <tr style=\"text-align: right;\">\n",
       "      <th></th>\n",
       "      <th>ROC</th>\n",
       "      <th>ACC</th>\n",
       "      <th>ROC_random</th>\n",
       "      <th>ACC_Random</th>\n",
       "    </tr>\n",
       "  </thead>\n",
       "  <tbody>\n",
       "    <tr>\n",
       "      <th>model</th>\n",
       "      <td>0.898733</td>\n",
       "      <td>0.896295</td>\n",
       "      <td>0.503282</td>\n",
       "      <td>0.503808</td>\n",
       "    </tr>\n",
       "    <tr>\n",
       "      <th>model_lem</th>\n",
       "      <td>0.000000</td>\n",
       "      <td>0.000000</td>\n",
       "      <td>0.000000</td>\n",
       "      <td>0.000000</td>\n",
       "    </tr>\n",
       "    <tr>\n",
       "      <th>model_wiki</th>\n",
       "      <td>0.000000</td>\n",
       "      <td>0.000000</td>\n",
       "      <td>0.000000</td>\n",
       "      <td>0.000000</td>\n",
       "    </tr>\n",
       "    <tr>\n",
       "      <th>model_wiki_lem</th>\n",
       "      <td>0.000000</td>\n",
       "      <td>0.000000</td>\n",
       "      <td>0.000000</td>\n",
       "      <td>0.000000</td>\n",
       "    </tr>\n",
       "  </tbody>\n",
       "</table>\n",
       "</div>"
      ],
      "text/plain": [
       "                     ROC       ACC  ROC_random  ACC_Random\n",
       "model           0.898733  0.896295    0.503282    0.503808\n",
       "model_lem       0.000000  0.000000    0.000000    0.000000\n",
       "model_wiki      0.000000  0.000000    0.000000    0.000000\n",
       "model_wiki_lem  0.000000  0.000000    0.000000    0.000000"
      ]
     },
     "execution_count": 99,
     "metadata": {},
     "output_type": "execute_result"
    }
   ],
   "source": [
    "print('##########################')\n",
    "print('#    paires all      #')\n",
    "print('##########################')\n",
    "MODEL = [model,model_lem,model_wiki,model_wiki_lem]\n",
    "MODEL_NAME = ['model','model_lem','model_wiki','model_wiki_lem']\n",
    "df_0 = store_result(MODEL,MODEL_NAME,pair_all,df)\n",
    "df_0"
   ]
  },
  {
   "cell_type": "code",
   "execution_count": 105,
   "metadata": {},
   "outputs": [
    {
     "name": "stdout",
     "output_type": "stream",
     "text": [
      "############################\n",
      "#    Déterminants, familles #\n",
      "############################\n"
     ]
    },
    {
     "data": {
      "text/html": [
       "<div>\n",
       "<style scoped>\n",
       "    .dataframe tbody tr th:only-of-type {\n",
       "        vertical-align: middle;\n",
       "    }\n",
       "\n",
       "    .dataframe tbody tr th {\n",
       "        vertical-align: top;\n",
       "    }\n",
       "\n",
       "    .dataframe thead th {\n",
       "        text-align: right;\n",
       "    }\n",
       "</style>\n",
       "<table border=\"1\" class=\"dataframe\">\n",
       "  <thead>\n",
       "    <tr style=\"text-align: right;\">\n",
       "      <th></th>\n",
       "      <th>ROC</th>\n",
       "      <th>ACC</th>\n",
       "      <th>ROC_random</th>\n",
       "      <th>ACC_Random</th>\n",
       "    </tr>\n",
       "  </thead>\n",
       "  <tbody>\n",
       "    <tr>\n",
       "      <th>model</th>\n",
       "      <td>0.914133</td>\n",
       "      <td>0.909262</td>\n",
       "      <td>0.498415</td>\n",
       "      <td>0.498182</td>\n",
       "    </tr>\n",
       "    <tr>\n",
       "      <th>model_lem</th>\n",
       "      <td>0.000000</td>\n",
       "      <td>0.000000</td>\n",
       "      <td>0.000000</td>\n",
       "      <td>0.000000</td>\n",
       "    </tr>\n",
       "    <tr>\n",
       "      <th>model_wiki</th>\n",
       "      <td>0.000000</td>\n",
       "      <td>0.000000</td>\n",
       "      <td>0.000000</td>\n",
       "      <td>0.000000</td>\n",
       "    </tr>\n",
       "    <tr>\n",
       "      <th>model_wiki_lem</th>\n",
       "      <td>0.000000</td>\n",
       "      <td>0.000000</td>\n",
       "      <td>0.000000</td>\n",
       "      <td>0.000000</td>\n",
       "    </tr>\n",
       "  </tbody>\n",
       "</table>\n",
       "</div>"
      ],
      "text/plain": [
       "                     ROC       ACC  ROC_random  ACC_Random\n",
       "model           0.914133  0.909262    0.498415    0.498182\n",
       "model_lem       0.000000  0.000000    0.000000    0.000000\n",
       "model_wiki      0.000000  0.000000    0.000000    0.000000\n",
       "model_wiki_lem  0.000000  0.000000    0.000000    0.000000"
      ]
     },
     "execution_count": 105,
     "metadata": {},
     "output_type": "execute_result"
    }
   ],
   "source": [
    "print('############################')\n",
    "print('#    Déterminants, familles #')\n",
    "print('############################')\n",
    "MODEL = [model,model_lem,model_wiki,model_wiki_lem]\n",
    "MODEL_NAME = ['model','model_lem','model_wiki','model_wiki_lem']\n",
    "df_01 = store_result(MODEL,MODEL_NAME,pair_g+pair_g1,df)\n",
    "df_01"
   ]
  },
  {
   "cell_type": "code",
   "execution_count": 104,
   "metadata": {},
   "outputs": [
    {
     "name": "stdout",
     "output_type": "stream",
     "text": [
      "#############################\n",
      "#    détermiannt +suffixe  #\n",
      "#############################\n"
     ]
    },
    {
     "data": {
      "text/html": [
       "<div>\n",
       "<style scoped>\n",
       "    .dataframe tbody tr th:only-of-type {\n",
       "        vertical-align: middle;\n",
       "    }\n",
       "\n",
       "    .dataframe tbody tr th {\n",
       "        vertical-align: top;\n",
       "    }\n",
       "\n",
       "    .dataframe thead th {\n",
       "        text-align: right;\n",
       "    }\n",
       "</style>\n",
       "<table border=\"1\" class=\"dataframe\">\n",
       "  <thead>\n",
       "    <tr style=\"text-align: right;\">\n",
       "      <th></th>\n",
       "      <th>ROC</th>\n",
       "      <th>ACC</th>\n",
       "      <th>ROC_random</th>\n",
       "      <th>ACC_Random</th>\n",
       "    </tr>\n",
       "  </thead>\n",
       "  <tbody>\n",
       "    <tr>\n",
       "      <th>model</th>\n",
       "      <td>0.909931</td>\n",
       "      <td>0.908268</td>\n",
       "      <td>0.505378</td>\n",
       "      <td>0.505729</td>\n",
       "    </tr>\n",
       "    <tr>\n",
       "      <th>model_lem</th>\n",
       "      <td>0.000000</td>\n",
       "      <td>0.000000</td>\n",
       "      <td>0.000000</td>\n",
       "      <td>0.000000</td>\n",
       "    </tr>\n",
       "    <tr>\n",
       "      <th>model_wiki</th>\n",
       "      <td>0.817931</td>\n",
       "      <td>0.809227</td>\n",
       "      <td>0.499132</td>\n",
       "      <td>0.499455</td>\n",
       "    </tr>\n",
       "    <tr>\n",
       "      <th>model_wiki_lem</th>\n",
       "      <td>0.000000</td>\n",
       "      <td>0.000000</td>\n",
       "      <td>0.000000</td>\n",
       "      <td>0.000000</td>\n",
       "    </tr>\n",
       "  </tbody>\n",
       "</table>\n",
       "</div>"
      ],
      "text/plain": [
       "                     ROC       ACC  ROC_random  ACC_Random\n",
       "model           0.909931  0.908268    0.505378    0.505729\n",
       "model_lem       0.000000  0.000000    0.000000    0.000000\n",
       "model_wiki      0.817931  0.809227    0.499132    0.499455\n",
       "model_wiki_lem  0.000000  0.000000    0.000000    0.000000"
      ]
     },
     "execution_count": 104,
     "metadata": {},
     "output_type": "execute_result"
    }
   ],
   "source": [
    "print('#############################')\n",
    "print('#    détermiannt +suffixe  #')\n",
    "print('#############################')\n",
    "MODEL = [model,model_lem,model_wiki,model_wiki_lem]\n",
    "MODEL_NAME = ['model','model_lem','model_wiki','model_wiki_lem']\n",
    "df_02 = store_result(MODEL,MODEL_NAME,pair_g+pair_g2,df)\n",
    "df_02"
   ]
  },
  {
   "cell_type": "code",
   "execution_count": 106,
   "metadata": {},
   "outputs": [
    {
     "name": "stdout",
     "output_type": "stream",
     "text": [
      "##############################\n",
      "#    Suffixe, famille, det #\n",
      "##############################\n"
     ]
    },
    {
     "data": {
      "text/html": [
       "<div>\n",
       "<style scoped>\n",
       "    .dataframe tbody tr th:only-of-type {\n",
       "        vertical-align: middle;\n",
       "    }\n",
       "\n",
       "    .dataframe tbody tr th {\n",
       "        vertical-align: top;\n",
       "    }\n",
       "\n",
       "    .dataframe thead th {\n",
       "        text-align: right;\n",
       "    }\n",
       "</style>\n",
       "<table border=\"1\" class=\"dataframe\">\n",
       "  <thead>\n",
       "    <tr style=\"text-align: right;\">\n",
       "      <th></th>\n",
       "      <th>ROC</th>\n",
       "      <th>ACC</th>\n",
       "      <th>ROC_random</th>\n",
       "      <th>ACC_Random</th>\n",
       "    </tr>\n",
       "  </thead>\n",
       "  <tbody>\n",
       "    <tr>\n",
       "      <th>model</th>\n",
       "      <td>0.915273</td>\n",
       "      <td>0.915506</td>\n",
       "      <td>0.498236</td>\n",
       "      <td>0.498079</td>\n",
       "    </tr>\n",
       "    <tr>\n",
       "      <th>model_lem</th>\n",
       "      <td>0.000000</td>\n",
       "      <td>0.000000</td>\n",
       "      <td>0.000000</td>\n",
       "      <td>0.000000</td>\n",
       "    </tr>\n",
       "    <tr>\n",
       "      <th>model_wiki</th>\n",
       "      <td>0.000000</td>\n",
       "      <td>0.000000</td>\n",
       "      <td>0.000000</td>\n",
       "      <td>0.000000</td>\n",
       "    </tr>\n",
       "    <tr>\n",
       "      <th>model_wiki_lem</th>\n",
       "      <td>0.000000</td>\n",
       "      <td>0.000000</td>\n",
       "      <td>0.000000</td>\n",
       "      <td>0.000000</td>\n",
       "    </tr>\n",
       "  </tbody>\n",
       "</table>\n",
       "</div>"
      ],
      "text/plain": [
       "                     ROC       ACC  ROC_random  ACC_Random\n",
       "model           0.915273  0.915506    0.498236    0.498079\n",
       "model_lem       0.000000  0.000000    0.000000    0.000000\n",
       "model_wiki      0.000000  0.000000    0.000000    0.000000\n",
       "model_wiki_lem  0.000000  0.000000    0.000000    0.000000"
      ]
     },
     "execution_count": 106,
     "metadata": {},
     "output_type": "execute_result"
    }
   ],
   "source": [
    "print('##############################')\n",
    "print('#    Suffixe, famille, det #')\n",
    "print('##############################')\n",
    "MODEL = [model,model_lem,model_wiki,model_wiki_lem]\n",
    "MODEL_NAME = ['model','model_lem','model_wiki','model_wiki_lem']\n",
    "df_012 = store_result(MODEL,MODEL_NAME,pair_g+pair_g1+pair_g2,df)\n",
    "df_012"
   ]
  },
  {
   "cell_type": "code",
   "execution_count": 107,
   "metadata": {},
   "outputs": [
    {
     "name": "stdout",
     "output_type": "stream",
     "text": [
      "##############################\n",
      "#     famille, animaux  #\n",
      "##############################\n"
     ]
    },
    {
     "data": {
      "text/html": [
       "<div>\n",
       "<style scoped>\n",
       "    .dataframe tbody tr th:only-of-type {\n",
       "        vertical-align: middle;\n",
       "    }\n",
       "\n",
       "    .dataframe tbody tr th {\n",
       "        vertical-align: top;\n",
       "    }\n",
       "\n",
       "    .dataframe thead th {\n",
       "        text-align: right;\n",
       "    }\n",
       "</style>\n",
       "<table border=\"1\" class=\"dataframe\">\n",
       "  <thead>\n",
       "    <tr style=\"text-align: right;\">\n",
       "      <th></th>\n",
       "      <th>ROC</th>\n",
       "      <th>ACC</th>\n",
       "      <th>ROC_random</th>\n",
       "      <th>ACC_Random</th>\n",
       "    </tr>\n",
       "  </thead>\n",
       "  <tbody>\n",
       "    <tr>\n",
       "      <th>model</th>\n",
       "      <td>0.876911</td>\n",
       "      <td>0.880515</td>\n",
       "      <td>0.497305</td>\n",
       "      <td>0.496638</td>\n",
       "    </tr>\n",
       "    <tr>\n",
       "      <th>model_lem</th>\n",
       "      <td>0.473568</td>\n",
       "      <td>0.471692</td>\n",
       "      <td>0.506520</td>\n",
       "      <td>0.505943</td>\n",
       "    </tr>\n",
       "    <tr>\n",
       "      <th>model_wiki</th>\n",
       "      <td>0.000000</td>\n",
       "      <td>0.000000</td>\n",
       "      <td>0.000000</td>\n",
       "      <td>0.000000</td>\n",
       "    </tr>\n",
       "    <tr>\n",
       "      <th>model_wiki_lem</th>\n",
       "      <td>0.000000</td>\n",
       "      <td>0.000000</td>\n",
       "      <td>0.000000</td>\n",
       "      <td>0.000000</td>\n",
       "    </tr>\n",
       "  </tbody>\n",
       "</table>\n",
       "</div>"
      ],
      "text/plain": [
       "                     ROC       ACC  ROC_random  ACC_Random\n",
       "model           0.876911  0.880515    0.497305    0.496638\n",
       "model_lem       0.473568  0.471692    0.506520    0.505943\n",
       "model_wiki      0.000000  0.000000    0.000000    0.000000\n",
       "model_wiki_lem  0.000000  0.000000    0.000000    0.000000"
      ]
     },
     "execution_count": 107,
     "metadata": {},
     "output_type": "execute_result"
    }
   ],
   "source": [
    " print('##############################')\n",
    "print('#     famille, animaux  #')\n",
    "print('##############################')\n",
    "MODEL = [model,model_lem,model_wiki,model_wiki_lem]\n",
    "MODEL_NAME = ['model','model_lem','model_wiki','model_wiki_lem']\n",
    "df_012 = store_result(MODEL,MODEL_NAME,pair_g1+pair_am,df)\n",
    "df_012"
   ]
  },
  {
   "cell_type": "code",
   "execution_count": null,
   "metadata": {},
   "outputs": [],
   "source": []
  }
 ],
 "metadata": {
  "kernelspec": {
   "display_name": "Python 3",
   "language": "python",
   "name": "python3"
  },
  "language_info": {
   "codemirror_mode": {
    "name": "ipython",
    "version": 3
   },
   "file_extension": ".py",
   "mimetype": "text/x-python",
   "name": "python",
   "nbconvert_exporter": "python",
   "pygments_lexer": "ipython3",
   "version": "3.6.5"
  }
 },
 "nbformat": 4,
 "nbformat_minor": 2
}
