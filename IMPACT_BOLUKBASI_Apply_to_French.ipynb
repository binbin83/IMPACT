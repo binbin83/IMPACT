{
 "cells": [
  {
   "cell_type": "markdown",
   "metadata": {},
   "source": [
    "# <center> Gender Biais detection</center>\n",
    "## <center> Application of the Bolukbasi Paper to the french  </center>\n",
    "### <center> Quillivic Robin </center>\n",
    "Sources : Man is to Computer Programmer as Woman is to Homemaker? Debiasing Word Embeddings, Bolukbasi, Tolga, 2016"
   ]
  },
  {
   "cell_type": "code",
   "execution_count": 8,
   "metadata": {},
   "outputs": [],
   "source": [
    "from gensim import *\n",
    "from gensim.test.utils import common_texts, get_tmpfile\n",
    "from gensim.models import Word2Vec\n",
    "import logging\n",
    "import gensim\n",
    "import os\n",
    "\n",
    "import itertools\n",
    "\n",
    "from gensim.test.utils import get_tmpfile\n",
    "from gensim.models import KeyedVectors\n",
    "\n",
    "import matplotlib.pyplot as plt\n",
    "from random import *\n",
    "\n",
    "import pandas as pd\n",
    "import numpy as np\n",
    "import math\n",
    "\n",
    "from sklearn.decomposition import PCA\n",
    "import lib\n",
    "import fasttext\n",
    "from gensim.models.wrappers import FastText"
   ]
  },
  {
   "cell_type": "code",
   "execution_count": 272,
   "metadata": {},
   "outputs": [
    {
     "name": "stderr",
     "output_type": "stream",
     "text": [
      "2019-02-24 14:23:40,906 : INFO : loading projection weights from DATA\\FR\\fr_Kyubyong_wordvectors.vec\n",
      "2019-02-24 14:23:54,036 : INFO : loaded (50000, 300) matrix from DATA\\FR\\fr_Kyubyong_wordvectors.vec\n",
      "2019-02-24 14:23:54,052 : INFO : precomputing L2-norms of word weight vectors\n"
     ]
    }
   ],
   "source": [
    "# Logging code taken from http://rare-technologies.com/word2vec-tutorial/\n",
    "logging.basicConfig(format='%(asctime)s : %(levelname)s : %(message)s', level=logging.INFO)\n",
    "\n",
    "# Load pre-trained Word2Vec model.\n",
    "#model  = gensim.models.KeyedVectors.load_word2vec_format(r'DATA\\FR\\cc.fr.300.vec', binary=False,limit=50000)\n",
    "#model  = gensim.models.KeyedVectors.load_word2vec_format(r'DATA\\FR\\frWac_no_postag_no_phrase_500_skip_cut100.bin', binary=True,limit=50000)\n",
    "model  = gensim.models.KeyedVectors.load_word2vec_format(r'DATA\\FR\\fr_Kyubyong_wordvectors.vec',binary=False,limit=50000)\n",
    "#model  = gensim.models.KeyedVectors.load_word2vec_format(r'DATA\\FR\\wiki_fr.vec',binary=False,limit=50000)\n",
    "\n",
    "# normalizeation :\n",
    "model.init_sims(True)"
   ]
  },
  {
   "cell_type": "markdown",
   "metadata": {},
   "source": [
    "## Find gender direction for French"
   ]
  },
  {
   "cell_type": "code",
   "execution_count": 249,
   "metadata": {},
   "outputs": [],
   "source": [
    "def association_Genrator(w1,w2,model,top_n=1000):\n",
    "    \"\"\"\n",
    "    return a data frame ordered by the most similar pair of the W1,W2\n",
    "    \"\"\"\n",
    "    # we build a dataframe with the vocabulary\n",
    "    df = pd.DataFrame(list(model.wv.vocab.items()), columns=['word','count'])\n",
    "    # we drop the index of the word entry\n",
    "    k = df[df['word']==w1].index[0]\n",
    "    j = df[df['word']==w2].index[0]\n",
    "    liste = df['word'].drop([k,j]).values[:top_n]\n",
    "    # we compute the length of the iteration to informethe user that the process could be long\n",
    "    N=math.factorial(len(liste))/(math.factorial(len(liste)-2)*math.factorial(2))\n",
    "    # init\n",
    "    a = model.wv[w1]-model.wv[w2]\n",
    "    S =[]\n",
    "    P=[]\n",
    "    i=0\n",
    "    # we compute the similarity score\n",
    "    for x in itertools.combinations(liste,2) :\n",
    "        u = model.wv[x[0]]-model.wv[x[1]]\n",
    "        S.append(lib.cosine_similarity(a,u))\n",
    "        P.append(x)\n",
    "        i+=1\n",
    "        # print the progression\n",
    "        if i%1000000==0:\n",
    "            print(i/N*100,'%')\n",
    "            \n",
    "    # storing and ordering\n",
    "    res = pd.DataFrame(data={'pair':P,'score':S})\n",
    "    res['score'] = abs(res['score']) #get absolute value\n",
    "    res = res.sort_values(by='score',ascending=False,inplace=False)\n",
    "    return(res)"
   ]
  },
  {
   "cell_type": "code",
   "execution_count": 285,
   "metadata": {},
   "outputs": [
    {
     "name": "stderr",
     "output_type": "stream",
     "text": [
      "C:\\Users\\Robin\\Anaconda3\\lib\\site-packages\\ipykernel_launcher.py:6: DeprecationWarning: Call to deprecated `wv` (Attribute will be removed in 4.0.0, use self instead).\n",
      "  \n",
      "C:\\Users\\Robin\\Anaconda3\\lib\\site-packages\\ipykernel_launcher.py:14: DeprecationWarning: Call to deprecated `wv` (Attribute will be removed in 4.0.0, use self instead).\n",
      "  \n",
      "C:\\Users\\Robin\\Anaconda3\\lib\\site-packages\\ipykernel_launcher.py:20: DeprecationWarning: Call to deprecated `wv` (Attribute will be removed in 4.0.0, use self instead).\n"
     ]
    },
    {
     "data": {
      "text/html": [
       "<div>\n",
       "<style scoped>\n",
       "    .dataframe tbody tr th:only-of-type {\n",
       "        vertical-align: middle;\n",
       "    }\n",
       "\n",
       "    .dataframe tbody tr th {\n",
       "        vertical-align: top;\n",
       "    }\n",
       "\n",
       "    .dataframe thead th {\n",
       "        text-align: right;\n",
       "    }\n",
       "</style>\n",
       "<table border=\"1\" class=\"dataframe\">\n",
       "  <thead>\n",
       "    <tr style=\"text-align: right;\">\n",
       "      <th></th>\n",
       "      <th>pair</th>\n",
       "      <th>score</th>\n",
       "    </tr>\n",
       "  </thead>\n",
       "  <tbody>\n",
       "    <tr>\n",
       "      <th>234533</th>\n",
       "      <td>(petit, épouse)</td>\n",
       "      <td>0.528391</td>\n",
       "    </tr>\n",
       "    <tr>\n",
       "      <th>272360</th>\n",
       "      <td>(jeune, épouse)</td>\n",
       "      <td>0.516078</td>\n",
       "    </tr>\n",
       "    <tr>\n",
       "      <th>331251</th>\n",
       "      <td>(homme, épouse)</td>\n",
       "      <td>0.493684</td>\n",
       "    </tr>\n",
       "    <tr>\n",
       "      <th>401258</th>\n",
       "      <td>(jeunes, épouse)</td>\n",
       "      <td>0.492830</td>\n",
       "    </tr>\n",
       "    <tr>\n",
       "      <th>393131</th>\n",
       "      <td>(personnage, épouse)</td>\n",
       "      <td>0.469869</td>\n",
       "    </tr>\n",
       "    <tr>\n",
       "      <th>419760</th>\n",
       "      <td>(l'école, épouse)</td>\n",
       "      <td>0.467365</td>\n",
       "    </tr>\n",
       "    <tr>\n",
       "      <th>170706</th>\n",
       "      <td>(club, épouse)</td>\n",
       "      <td>0.463942</td>\n",
       "    </tr>\n",
       "    <tr>\n",
       "      <th>234519</th>\n",
       "      <td>(petit, marie)</td>\n",
       "      <td>0.458909</td>\n",
       "    </tr>\n",
       "    <tr>\n",
       "      <th>394050</th>\n",
       "      <td>(joueur, épouse)</td>\n",
       "      <td>0.458562</td>\n",
       "    </tr>\n",
       "    <tr>\n",
       "      <th>442495</th>\n",
       "      <td>(épouse, j'ai)</td>\n",
       "      <td>0.455355</td>\n",
       "    </tr>\n",
       "    <tr>\n",
       "      <th>442332</th>\n",
       "      <td>(épouse, s'il)</td>\n",
       "      <td>0.453459</td>\n",
       "    </tr>\n",
       "    <tr>\n",
       "      <th>62516</th>\n",
       "      <td>(ans, épouse)</td>\n",
       "      <td>0.452913</td>\n",
       "    </tr>\n",
       "    <tr>\n",
       "      <th>76421</th>\n",
       "      <td>(tout, épouse)</td>\n",
       "      <td>0.448568</td>\n",
       "    </tr>\n",
       "    <tr>\n",
       "      <th>442411</th>\n",
       "      <td>(épouse, caractère)</td>\n",
       "      <td>0.448326</td>\n",
       "    </tr>\n",
       "    <tr>\n",
       "      <th>47436</th>\n",
       "      <td>(on, épouse)</td>\n",
       "      <td>0.445706</td>\n",
       "    </tr>\n",
       "    <tr>\n",
       "      <th>202326</th>\n",
       "      <td>(jeu, épouse)</td>\n",
       "      <td>0.442012</td>\n",
       "    </tr>\n",
       "    <tr>\n",
       "      <th>442265</th>\n",
       "      <td>(épouse, presque)</td>\n",
       "      <td>0.440575</td>\n",
       "    </tr>\n",
       "    <tr>\n",
       "      <th>442262</th>\n",
       "      <td>(épouse, joueurs)</td>\n",
       "      <td>0.439648</td>\n",
       "    </tr>\n",
       "    <tr>\n",
       "      <th>442529</th>\n",
       "      <td>(épouse, bourg)</td>\n",
       "      <td>0.439503</td>\n",
       "    </tr>\n",
       "    <tr>\n",
       "      <th>442267</th>\n",
       "      <td>(épouse, petits)</td>\n",
       "      <td>0.439477</td>\n",
       "    </tr>\n",
       "  </tbody>\n",
       "</table>\n",
       "</div>"
      ],
      "text/plain": [
       "                        pair     score\n",
       "234533       (petit, épouse)  0.528391\n",
       "272360       (jeune, épouse)  0.516078\n",
       "331251       (homme, épouse)  0.493684\n",
       "401258      (jeunes, épouse)  0.492830\n",
       "393131  (personnage, épouse)  0.469869\n",
       "419760     (l'école, épouse)  0.467365\n",
       "170706        (club, épouse)  0.463942\n",
       "234519        (petit, marie)  0.458909\n",
       "394050      (joueur, épouse)  0.458562\n",
       "442495        (épouse, j'ai)  0.455355\n",
       "442332        (épouse, s'il)  0.453459\n",
       "62516          (ans, épouse)  0.452913\n",
       "76421         (tout, épouse)  0.448568\n",
       "442411   (épouse, caractère)  0.448326\n",
       "47436           (on, épouse)  0.445706\n",
       "202326         (jeu, épouse)  0.442012\n",
       "442265     (épouse, presque)  0.440575\n",
       "442262     (épouse, joueurs)  0.439648\n",
       "442529       (épouse, bourg)  0.439503\n",
       "442267      (épouse, petits)  0.439477"
      ]
     },
     "execution_count": 285,
     "metadata": {},
     "output_type": "execute_result"
    }
   ],
   "source": [
    "res_HF = association_Genrator('fille','garçon',model,top_n=1000)\n",
    "res_HF.head(20)"
   ]
  },
  {
   "cell_type": "code",
   "execution_count": 185,
   "metadata": {},
   "outputs": [
    {
     "data": {
      "text/plain": [
       "[('laquelle', 'lequel'),\n",
       " ('un', 'une'),\n",
       " ('son', 'sa'),\n",
       " ('seul', 'seule'),\n",
       " ('ce', 'cette'),\n",
       " ('de', 'un'),\n",
       " ('tout', 'toute'),\n",
       " ('un', 'cette'),\n",
       " ('son', 'cette'),\n",
       " ('une', 'ce'),\n",
       " ('celui', 'celle'),\n",
       " ('de', 'du'),\n",
       " ('cette', 'lequel'),\n",
       " ('un', 'sa'),\n",
       " ('ce', 'toute')]"
      ]
     },
     "execution_count": 185,
     "metadata": {},
     "output_type": "execute_result"
    }
   ],
   "source": [
    "list(res_HF['pair'][:15])"
   ]
  },
  {
   "cell_type": "markdown",
   "metadata": {},
   "source": [
    "## 1) Direct Bais"
   ]
  },
  {
   "cell_type": "code",
   "execution_count": 282,
   "metadata": {},
   "outputs": [],
   "source": [
    "pair_g = [['la','le'],['elle','il'], ['appelée', 'appelé'],\n",
    "          ['une','un'],['laquelle', 'lequel'],['cette', 'ce'],['seule', 'seul'],['celle','celui'],\n",
    "          ['mienne','mien']]\n",
    "\n",
    "genre = [['la','le'],['maman','papa'],['mère','père'],\n",
    "         ['fille','fils'],['femelle','mâle'],\n",
    "          ['femme','homme'], ['actrice','acteur'],['serveuse','serveur'],['contente' ,'content'],\n",
    "         ['belle','beau'],['reine','roi']]\n",
    "\n",
    "\n",
    "# pair_g = [['elle','il'],['la','le'],['mienne','mien'],['sienne','sien'],['une','un'], ['aucune', 'aucun'], ['certaine', 'certain']]\n",
    "\n",
    "         "
   ]
  },
  {
   "cell_type": "code",
   "execution_count": 279,
   "metadata": {},
   "outputs": [
    {
     "data": {
      "text/plain": [
       "0.6741334"
      ]
     },
     "execution_count": 279,
     "metadata": {},
     "output_type": "execute_result"
    }
   ],
   "source": [
    "lib.cosine_similarity(model['appelée'], model['appelé'])"
   ]
  },
  {
   "cell_type": "code",
   "execution_count": 280,
   "metadata": {},
   "outputs": [
    {
     "data": {
      "text/plain": [
       "0.6741334"
      ]
     },
     "execution_count": 280,
     "metadata": {},
     "output_type": "execute_result"
    }
   ],
   "source": [
    "lib.cosine_similarity(model['appelé'], model['appelée'])"
   ]
  },
  {
   "cell_type": "code",
   "execution_count": 283,
   "metadata": {},
   "outputs": [],
   "source": [
    "Subs_genre = lib.from_pair_to_subspace(pair_g,model)\n",
    "\n",
    "direction_g, expl_var_g,eig_values_g = lib.from_space_to_direction(Subs_genre)"
   ]
  },
  {
   "cell_type": "code",
   "execution_count": 284,
   "metadata": {},
   "outputs": [
    {
     "data": {
      "image/png": "[encoded data removed]",
      "text/plain": [
       "<Figure size 1440x720 with 2 Axes>"
      ]
     },
     "metadata": {},
     "output_type": "display_data"
    }
   ],
   "source": [
    "lib.plot_var_eig(eig_values_g,expl_var_g)"
   ]
  },
  {
   "cell_type": "code",
   "execution_count": 211,
   "metadata": {
    "collapsed": true
   },
   "outputs": [
    {
     "data": {
      "image/png": "[encoded data removed]",
      "text/plain": [
       "<Figure size 1440x720 with 2 Axes>"
      ]
     },
     "metadata": {},
     "output_type": "display_data"
    }
   ],
   "source": [
    "#lib.plot_mean(150,model)"
   ]
  },
  {
   "cell_type": "markdown",
   "metadata": {},
   "source": [
    "## Exemple of  direct biais"
   ]
  },
  {
   "cell_type": "code",
   "execution_count": 265,
   "metadata": {},
   "outputs": [
    {
     "name": "stdout",
     "output_type": "stream",
     "text": [
      "the direct biais for il is :  -3.006753884255886\n",
      "the direct biais for football is :  0.1985534094274044\n",
      "the direct biais for amour is :  2.6768287643790245\n",
      "the direct biais for aventure is :  4.860486462712288\n",
      "the direct biais for émotion is :  8.58251303434372\n",
      "the direct biais for larme is :  9.638045728206635\n",
      "the direct biais for dance is :  3.0237283557653427\n",
      "the direct biais for femme is :  7.985847443342209\n",
      "the direct biais for homme is :  12.544450163841248\n",
      "the direct biais for robe is :  2.6778429746627808\n",
      "the direct biais for match is :  -0.7036157883703709\n"
     ]
    }
   ],
   "source": [
    "word = ['il','football','amour','aventure','émotion','larme','dance','femme','homme','robe','match']\n",
    "for w in word :\n",
    "    print('the direct biais for',w,'is : ', lib.cosine_similarity(model[w],direction_g)*100)"
   ]
  },
  {
   "cell_type": "code",
   "execution_count": 266,
   "metadata": {},
   "outputs": [
    {
     "name": "stdout",
     "output_type": "stream",
     "text": [
      "the direct biais for table is :  6.077568605542183\n",
      "the direct biais for chaise is :  1.687236875295639\n",
      "the direct biais for pomme is :  7.279232144355774\n",
      "the direct biais for banane is :  1.613708771765232\n",
      "the direct biais for roue is :  7.461264729499817\n",
      "the direct biais for enceinte is :  7.393453270196915\n",
      "the direct biais for blague is :  7.216731458902359\n",
      "the direct biais for bouteille is :  6.543096899986267\n",
      "the direct biais for souris is :  10.838506370782852\n",
      "the direct biais for feuille is :  -0.8470296859741211\n"
     ]
    }
   ],
   "source": [
    "neutral_fem =['table','chaise','pomme','banane','roue','enceinte','blague','bouteille','souris','feuille']\n",
    "for w in neutral_fem :\n",
    "    print('the direct biais for',w,'is : ', lib.cosine_similarity(model[w],direction_g)*100)"
   ]
  },
  {
   "cell_type": "code",
   "execution_count": 267,
   "metadata": {},
   "outputs": [
    {
     "name": "stdout",
     "output_type": "stream",
     "text": [
      "the direct biais for stylo is :  -6.339734792709351\n",
      "the direct biais for kiwi is :  -7.496730983257294\n",
      "the direct biais for chocolat is :  -5.313262715935707\n",
      "the direct biais for café is :  1.9855763763189316\n",
      "the direct biais for véhicule is :  -0.8041643537580967\n",
      "the direct biais for chateau is :  5.353265628218651\n",
      "the direct biais for rire is :  -1.7193133011460304\n",
      "the direct biais for casier is :  4.8095859587192535\n",
      "the direct biais for clavier is :  -9.162575751543045\n",
      "the direct biais for filtre is :  0.23198297712951899\n"
     ]
    }
   ],
   "source": [
    "neutral_man =['stylo','kiwi','chocolat','café','véhicule','chateau','rire','casier','clavier','filtre']\n",
    "for w in neutral_man :\n",
    "    print('the direct biais for',w,'is : ', lib.cosine_similarity(model[w],direction_g)*100)"
   ]
  },
  {
   "cell_type": "markdown",
   "metadata": {},
   "source": [
    "## First conclusion :\n",
    "Thera are a lot of variation depending on what modele we are using and from now on we canot a observe signification for the gender subspace."
   ]
  },
  {
   "cell_type": "code",
   "execution_count": null,
   "metadata": {},
   "outputs": [],
   "source": []
  }
 ],
 "metadata": {
  "kernelspec": {
   "display_name": "Python 3",
   "language": "python",
   "name": "python3"
  },
  "language_info": {
   "codemirror_mode": {
    "name": "ipython",
    "version": 3
   },
   "file_extension": ".py",
   "mimetype": "text/x-python",
   "name": "python",
   "nbconvert_exporter": "python",
   "pygments_lexer": "ipython3",
   "version": "3.6.5"
  }
 },
 "nbformat": 4,
 "nbformat_minor": 2
}
