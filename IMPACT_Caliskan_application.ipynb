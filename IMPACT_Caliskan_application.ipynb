{
 "cells": [
  {
   "cell_type": "markdown",
   "metadata": {},
   "source": [
    "# <center> Gender Biais detection</center>\n",
    "## <center> An approach based on the Caliskan Paper 2016 </center>\n",
    "### <center> Quillivic Robin </center>\n",
    "Sources : Semantics derived automatically from language corpora necessarily contain human biases, 2016\n"
   ]
  },
  {
   "cell_type": "code",
   "execution_count": 6,
   "metadata": {
    "scrolled": true
   },
   "outputs": [
    {
     "name": "stderr",
     "output_type": "stream",
     "text": [
      "C:\\Users\\Robin\\Anaconda3\\lib\\site-packages\\gensim\\utils.py:1209: UserWarning: detected Windows; aliasing chunkize to chunkize_serial\n",
      "  warnings.warn(\"detected Windows; aliasing chunkize to chunkize_serial\")\n"
     ]
    }
   ],
   "source": [
    "from gensim import *\n",
    "from gensim.test.utils import common_texts, get_tmpfile\n",
    "from gensim.models import Word2Vec\n",
    "import logging\n",
    "import gensim\n",
    "import os\n",
    "\n",
    "from gensim.test.utils import get_tmpfile\n",
    "from gensim.models import KeyedVectors\n",
    "\n",
    "import matplotlib.pyplot as plt\n",
    "from random import *\n",
    "\n",
    "import pandas as pd\n",
    "import numpy as np\n",
    "import lib\n",
    "\n",
    "from sklearn.decomposition import PCA\n",
    "import itertools"
   ]
  },
  {
   "cell_type": "markdown",
   "metadata": {},
   "source": [
    "## DATA (W2VNEWS)"
   ]
  },
  {
   "cell_type": "code",
   "execution_count": 12,
   "metadata": {},
   "outputs": [
    {
     "name": "stderr",
     "output_type": "stream",
     "text": [
      "2019-02-24 18:24:30,895 : INFO : loading projection weights from DATA\\ENG\\GoogleNews-vectors-negative300.bin\n",
      "2019-02-24 18:24:31,604 : INFO : loaded (50000, 300) matrix from DATA\\ENG\\GoogleNews-vectors-negative300.bin\n"
     ]
    }
   ],
   "source": [
    "# Logging code taken from http://rare-technologies.com/word2vec-tutorial/\n",
    "logging.basicConfig(format='%(asctime)s : %(levelname)s : %(message)s', level=logging.INFO)\n",
    "\n",
    "# Load Google's pre-trained Word2Vec model.\n",
    "model = gensim.models.KeyedVectors.load_word2vec_format(r'DATA\\ENG\\GoogleNews-vectors-negative300.bin', binary=True,limit=50000)\n"
   ]
  },
  {
   "cell_type": "markdown",
   "metadata": {},
   "source": [
    "## 1)  Word Embedding Association Test (WEAT)\n",
    "\n",
    "On considère alors deux sets de mots d'attributs par exemple (man,boy,brother...) et (woman, daughter,sister,...) et  deux sets de mots cibles (informaticien, docteur, ministre..) et (infirmière, libraire, secrétaire..). L'hypothèse nulle est qu'il n'y a pas de différence entre les deux sets cibles en termes de similarité relative avec les deux sets d'attributs. Nous devons maintenant construire un test statistiques pour cette hypothèse. Soit X,Y deux sets cibles de même taille et A,B deux sets d'attributs:\n",
    "\\begin{equation*}\n",
    "    S(X,Y,A,B) = \\sum_{x \\in X}s(x,A,B) -\\sum_{y \\in Y}s(y,A,B)\n",
    "\\end{equation*}\n",
    "avec\n",
    "\\begin{equation*}\n",
    "     s(w,A,B) = moy_{a∈A}cos(w,a) − mow_{b∈B}cos(w,b)\n",
    "\\end{equation*}\n",
    "En d'autre termes, la grandeur s mesure l'association du mot w avec les attributs A,B. La grandeur S, quand à elle la différences d'association mais entre deux set de mots cibles."
   ]
  },
  {
   "cell_type": "code",
   "execution_count": 13,
   "metadata": {},
   "outputs": [],
   "source": [
    "def s(w,A,B,model):\n",
    "    \"\"\"\n",
    "        compute the association of the word w, with the attribute A,B\n",
    "    entry:\n",
    "    - w: word type: string \n",
    "    - A: attribute 1 type:list\n",
    "    - B: attribute 2 type:list\n",
    "    - model: Gensim W2V model\n",
    "    return type:float\n",
    "    \"\"\"\n",
    "    M=0\n",
    "    N=0\n",
    "    for a in A :\n",
    "        M+=lib.cosine_similarity(model[w],model[a])\n",
    "    for b in B : \n",
    "        N+=lib.cosine_similarity(model[w],model[b])\n",
    "    return(M/len(A)-N/len(B))\n",
    "\n",
    "def S(X,Y,A,B,model):\n",
    "    \"\"\"\n",
    "       compute the difference of association for the set X and Y, with the attribute A,B\n",
    "    entry:\n",
    "    - X: target 1 type: list(string) \n",
    "    - Y: target 2 type: list(string)\n",
    "    - A: attribute 1 type:list\n",
    "    - B: attribute 2 type:list\n",
    "    - model: Gensim W2V model\n",
    "    return type:float\n",
    "    \"\"\"\n",
    "    M=0\n",
    "    N=0\n",
    "    for x in X :\n",
    "        M+=s(x,A,B,model)\n",
    "    for y in Y : \n",
    "        N+=s(y,A,B,model)\n",
    "    return(M-N)\n",
    "\n",
    "def effet_size(X,Y,A,B,model) :\n",
    "    \"\"\"\n",
    "    Compute the effect size of the association S\n",
    "     entry:\n",
    "    - X: target 1 type: list(string) \n",
    "    - Y: target 2 type: list(string)\n",
    "    - A: attribute 1 type:list\n",
    "    - B: attribute 2 type:list\n",
    "    - model: Gensim W2V model\n",
    "    return type:float\n",
    "    \"\"\"\n",
    "    M=0\n",
    "    N=0\n",
    "    st =[]\n",
    "    for x in X :\n",
    "        M+=s(x,A,B,model)\n",
    "    for y in Y : \n",
    "        N+=s(y,A,B,model)\n",
    "    for u in np.concatenate([X,Y]):\n",
    "        st.append(s(u,A,B,model))\n",
    "        \n",
    "    return((M/len(X)-N/len(Y)/np.std(st)))\n",
    "\n",
    "def parties_union(X,Y):\n",
    "    \"\"\"\n",
    "    Compute all the all the partitions of X∪Y into two sets of equal size\n",
    "     entry:\n",
    "    - X: target 1 type: list(string) \n",
    "    - Y: target 2 type: list(string)\n",
    "    return :\n",
    "    - f: list of partition type: list(list(string))\n",
    "    \"\"\"\n",
    "    f=list(itertools.combinations(np.concatenate([X,Y]),len(X)))\n",
    "\n",
    "    for i in range(1,len(X)):\n",
    "        a= list(itertools.combinations(np.concatenate([X,Y]),i))\n",
    "        f=f+a\n",
    "    return(f)\n",
    "\n",
    "def p_values(X,Y,A,B,model):\n",
    "    \"\"\"\n",
    "    Compute the p value of the partition test S\n",
    "     entry:\n",
    "    - X: target 1 type: list(string) \n",
    "    - Y: target 2 type: list(string)\n",
    "    - A: attribute 1 type:list\n",
    "    - B: attribute 2 type:list\n",
    "    - model: Gensim W2V model\n",
    "    return type:float\n",
    "    \"\"\"\n",
    "    P=[]\n",
    "    a= parties_union(X,Y)\n",
    "    for x,y in itertools.combinations(a,2) :\n",
    "        P.append(S(x,y,A,B,model))\n",
    "    n=np.size(np.where(P>S(X,Y,A,B,model)))\n",
    "    print(n)\n",
    "    return(n/len(P))\n"
   ]
  },
  {
   "cell_type": "code",
   "execution_count": 21,
   "metadata": {},
   "outputs": [],
   "source": [
    "#attributes\n",
    "A = ['he','man','male','son','guy','father','boy','brother']\n",
    "B = ['she','woman','female','gal','mother','girl','sister']\n",
    "\n",
    "# targets\n",
    "X = ['programmer', 'engineer', 'scientist','doctor'] \n",
    "Y = ['nurse', 'teacher', 'librarian','receptionist']\n",
    "\n",
    "# targets\n",
    "X=['mathematics', 'algebra', 'geometry', 'calculus', 'equation','computation', 'numbers', 'addition']\n",
    "Y =['poetry', 'art', 'dance', 'literature', 'novel', 'symphony', 'drama', 'sculpture']  "
   ]
  },
  {
   "cell_type": "code",
   "execution_count": 22,
   "metadata": {},
   "outputs": [
    {
     "name": "stdout",
     "output_type": "stream",
     "text": [
      "Association of mathematics with the attributes A,B is :  0.8980484280203066\n",
      "Association of algebra with the attributes A,B is :  -2.7348050018190406\n",
      "Association of geometry with the attributes A,B is :  1.515679231462335\n",
      "Association of calculus with the attributes A,B is :  1.9804423076233688\n",
      "Association of equation with the attributes A,B is :  4.614481491444167\n",
      "Association of computation with the attributes A,B is :  -0.2938093328599021\n",
      "Association of numbers with the attributes A,B is :  1.7144521781509474\n",
      "Association of addition with the attributes A,B is :  0.38606865813822605\n"
     ]
    }
   ],
   "source": [
    "for x in X:\n",
    "    print('Association of',x,'with the attributes A,B is : ',s(x,A,B,model)*100)"
   ]
  },
  {
   "cell_type": "code",
   "execution_count": 23,
   "metadata": {},
   "outputs": [
    {
     "name": "stdout",
     "output_type": "stream",
     "text": [
      "Association of poetry with the attributes A,B is :  -4.223012125917844\n",
      "Association of art with the attributes A,B is :  -3.089501399413815\n",
      "Association of dance with the attributes A,B is :  -8.699945832735725\n",
      "Association of literature with the attributes A,B is :  -5.040515215867863\n",
      "Association of novel with the attributes A,B is :  -4.391218279488385\n",
      "Association of symphony with the attributes A,B is :  -1.8784300523943136\n",
      "Association of drama with the attributes A,B is :  -1.1906615990613183\n",
      "Association of sculpture with the attributes A,B is :  1.3166548684239388\n"
     ]
    }
   ],
   "source": [
    "for x in Y:\n",
    "    print('Association of',x,'with the attributes A,B is : ',s(x,A,B,model)*100)"
   ]
  },
  {
   "cell_type": "markdown",
   "metadata": {},
   "source": [
    "# Comment :\n",
    "The word from the Group A seems more associated to man (>0) and those in group B more associated to Woman (>0), let's calculate the S value to confirme this intuition."
   ]
  },
  {
   "cell_type": "code",
   "execution_count": 29,
   "metadata": {},
   "outputs": [
    {
     "data": {
      "text/plain": [
       "0.35277187596615733"
      ]
     },
     "execution_count": 29,
     "metadata": {},
     "output_type": "execute_result"
    }
   ],
   "source": [
    "S(X,Y,A,B,model)"
   ]
  },
  {
   "cell_type": "markdown",
   "metadata": {},
   "source": [
    "#### S is significant , >0.1, that means we ar eobserving a Biais in the association of the target sets .  "
   ]
  },
  {
   "cell_type": "code",
   "execution_count": 94,
   "metadata": {},
   "outputs": [
    {
     "name": "stdout",
     "output_type": "stream",
     "text": [
      "0\n"
     ]
    },
    {
     "data": {
      "text/plain": [
       "0.0"
      ]
     },
     "execution_count": 94,
     "metadata": {},
     "output_type": "execute_result"
    }
   ],
   "source": [
    "p_values(X,Y,A,B,model)\n"
   ]
  },
  {
   "cell_type": "code",
   "execution_count": 27,
   "metadata": {},
   "outputs": [
    {
     "name": "stdout",
     "output_type": "stream",
     "text": [
      "the effect size :  1.0512952235528474\n"
     ]
    }
   ],
   "source": [
    "e = effet_size(X,Y,A,B,model)\n",
    "print('the effect size : ',e)"
   ]
  },
  {
   "cell_type": "markdown",
   "metadata": {},
   "source": [
    " The effet size is supetior to 1  and the p value is small < 10^-5 that means we are really oserving a biais and the S, values is not due to random order')"
   ]
  },
  {
   "cell_type": "markdown",
   "metadata": {},
   "source": [
    "## 2) Word Embedding Factual Association Test (WEFAT) \n",
    "Cette seconde méthode présente comment  à partir d'un système vectoriel de mots, nous pouvons retrouver des statistiques réels. Comme par exemple les occupations principalement occupé par les femmes. Pour ce faire, nous pouvons collecter les noms de métiers les plus rependus, constituer un set d'attribut féminin et un set d'attribut masculin et par les grandeurs présenté plus haut décider si une  profession est plus masculine ou féminine et ainsi reconstituer les métier genrés puis utiliser un test statistique pour comparer nos résultats à la réalité.\n",
    "Soit W l'ensemble des mots dont on veut calculer l'association au genre et A, B les deux sets d'attribut. On introduit:\n",
    "\\begin{equation*}\n",
    "    wefat(w,A,B) = \\frac{moy_{a\\in A}cos(w,a) − moy_{b\\in B}cos(w,b) }{std_{w \\in A\\cup B}(cos(w,A,B))}\n",
    "\\end{equation*}"
   ]
  },
  {
   "cell_type": "code",
   "execution_count": 30,
   "metadata": {},
   "outputs": [],
   "source": [
    "def wefat(w,A,B,model):\n",
    "    \"\"\"\n",
    "    compute the WEFAT coefficient of the word w, with the attribute A,B\n",
    "    entry:\n",
    "    - w: word type: string \n",
    "    - A: attribute 1 type:list\n",
    "    - B: attribute 2 type:list\n",
    "    - model: Gensim W2V model\n",
    "    return type:float\n",
    "    \"\"\"\n",
    "    M=0\n",
    "    N=0\n",
    "    st=[]\n",
    "    for a in A :\n",
    "        M+=lib.cosine_similarity(model[w],model[a])\n",
    "    for b in B : \n",
    "        N+=lib.cosine_similarity(model[w],model[b])\n",
    "    \n",
    "    for u in np.concatenate([A,B]):\n",
    "        st.append(lib.cosine_similarity(model[w],model[u]))\n",
    "        \n",
    "    diff_=M/len(A)-N/len(B)\n",
    "    \n",
    "    return(diff_/np.std(st))"
   ]
  },
  {
   "cell_type": "code",
   "execution_count": 31,
   "metadata": {},
   "outputs": [
    {
     "data": {
      "text/plain": [
       "0.8959936377720886"
      ]
     },
     "execution_count": 31,
     "metadata": {},
     "output_type": "execute_result"
    }
   ],
   "source": [
    "wefat('engineer',A,B,model)"
   ]
  }
 ],
 "metadata": {
  "kernelspec": {
   "display_name": "Python 3",
   "language": "python",
   "name": "python3"
  },
  "language_info": {
   "codemirror_mode": {
    "name": "ipython",
    "version": 3
   },
   "file_extension": ".py",
   "mimetype": "text/x-python",
   "name": "python",
   "nbconvert_exporter": "python",
   "pygments_lexer": "ipython3",
   "version": "3.6.5"
  }
 },
 "nbformat": 4,
 "nbformat_minor": 2
}
