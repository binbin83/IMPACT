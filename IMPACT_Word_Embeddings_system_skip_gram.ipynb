{
 "cells": [
  {
   "cell_type": "markdown",
   "metadata": {},
   "source": [
    "# <center> Impact Semaine 1 : Word Embeddings systems</center> \n",
    "#### <center>  Robin Quillivic\n",
    "####  <center>  23 novembre 2018 \n",
    "    "
   ]
  },
  {
   "cell_type": "markdown",
   "metadata": {},
   "source": [
    "# Introduction : \n",
    "Ce premier notebook a pour but d'éclaicir la notion de \"representation continues des mots\" (Word embeddings en anglais). En effet, cette notion est centrale pour mon projet impact qui vise à identidier les biais présents dans certaines de ces representations. Nous allons donc nous attacher dans un premier temps à comprendre (de manière non exhautive) l'état de l'art et implémenter de manière simplifier quelque uns de ces systemes de représentation.\n",
    "\n",
    "Ce travail se base principalement sur ces sources:\n",
    "- __Thèse de Sahar Ghannay (30 premières pages)__: \"Etude sur les representations continues de mots appliquees à la detection automatique des erreurs dereconnaissance de la parole.\n",
    "- __Serie d'article en Anglais:__ https://textminingonline.com/dive-into-nltk-part-xi-from-word2vec-to-wordnet\n",
    "- __Les ressources disponibles à cette adresse__: https://textprocessing.org/getting-started-with-word2vec\n",
    "- __Le papier scientifique à l'origine de Word2Vect: __ Tomas Mikolov, Kai Chen, Greg Corrado, and Jeffrey Dean. Efficient Estimation of Word Representations in Vector Space. In Proceedings of Workshop at ICLR, 2013"
   ]
  },
  {
   "cell_type": "markdown",
   "metadata": {},
   "source": [
    "## 1) La represention \"One-hot\":\n",
    "Celle ci consiste à représenter les mots d'un corpus comme des vecteurs composés de 0 et de 1. Il y a un 1 pour indiquer la position du mot dans le corpus.\n",
    "\n",
    "**Exemple simple:**\n",
    "\n",
    "Si notre corpus **C=[\"Je suis un étudiant centralien en dernière année]**\n",
    "\n",
    "Alors la représentation one-hot de notre copus est la suivante:\n",
    "- \"Je\" $\\Longrightarrow$ $(1\\space 0\\space  0\\space  0\\space  0\\space   0\\space  0\\space  0\\space )$\n",
    "- \"suis\" $\\Longrightarrow$ $(0\\space 1\\space  0\\space  0\\space  0\\space   0\\space  0\\space  0\\space )$\n",
    "- etc.\n",
    "\n",
    "On remarque que tout les vecteurs ont une  longeur de 8 car il y a 8 mots (taille de notre corpus)\n",
    "Cette representation vectorielle des mot bien que très simple possède de nombreux desavantage:\n",
    "- Taille des vecteurs (imaginons un corpus de la taille de wikipédia\n",
    "- Absence de sens et de relation entre les mots\n"
   ]
  },
  {
   "cell_type": "markdown",
   "metadata": {},
   "source": [
    "## 2)  L'hyposthèse de distribution [Harris, 1954],\n",
    "\n",
    "En se basant sur l'hypothèse suivante:  **\"les mots dans des contextes similaires ont des signiﬁcations semblables.**, de nombreuses nouvelle méthode sont apparues:\n",
    "- **Méthode de Clustering:** On regroupe les mots en foction de leur contexte.\n",
    "\n",
    "- **Representation distributionelle:** On se base sur des matrice de co-occurences de chaque mots.\n",
    "\n",
    "- **Representation distribuée: Word embeddings** Les word embeddings constituent une projection des mots du vocabulaire dans un espace de faible dimension de manière à préserver les similarités sémantiques et syntaxiques. Chaque dimension représente une caractéristique latente du mot, qui peut capter des propriétés syntaxiques et sémantiques. Ces méthods plus récentes répose principalement sur les avancées du Deep Leanring et sur la comprehension des reseaux neuronaux. Ce sont actuelement les méthodes les plus performantes. \n"
   ]
  },
  {
   "cell_type": "markdown",
   "metadata": {},
   "source": [
    "## 3) Word2Vec\n",
    "Word2Vect est l'une des boites à outils les plus performante et les plus connues en terme de representation continue des mots. Nous allons essayer de comprendre plus précisement les  algorythmes présents dans cette boite à outils.\n",
    "Il y a principalement deux archutectures neuronales présentent dans Word2Vec :\n",
    "\n",
    "- **L'architecture CBOW** : prédit le mot courant en fonction du contexte. Ainsi dans cette algorithme l'idée est de maximiser la fonction de cout suivante:\n",
    "$$\n",
    "\\begin{equation}\n",
    "S=\\frac{1}{N}\\sum_{i=1}^{N}log p(m_i|m_{i-n}..mm_{i-1}m_{i+1}..m_{i+n})\n",
    "\\end{equation}\n",
    "$$\n",
    "    \n",
    "\n",
    "\n",
    "- **Remarques:**\n",
    "    - Avec N = Nombre de mot dans le corpus et n= la taille de la fenêtre ( nombre de mot utilisé pour définir le contexte)\n",
    "    - Il est important de remarquer que dans ce modèle l'ordre des mots n'a pas d'importance.\n",
    "    \n",
    "    \n",
    "\n",
    "- **L'architecure Skip Ngram** : prédit les mots en contexte en fonction du mot courant. Autrement dit c'est l'inverse de la fonction precedente. Cette fois ci nous voulons maximiser cette focntion:\n",
    "\n",
    "$$\n",
    "\\begin{equation}\n",
    "S=\\frac{1}{N}\\sum_{i=1}^{N}\\space \\sum_{-n<j<n \\ne 0} log p(m_i|m_{i+j})\n",
    "\\end{equation}\n",
    "$$\n",
    "\n",
    "    \n",
    "    \n",
    "    \n",
    "![](CBOW-SKIPNGRAM.png)\n",
    "\n",
    "- **Il existe un troisième modèle Word2Vec-deps**: qui prend en compte la nature des relations entre les mots. Aisni, le corpus d'entrainement est labélisé avec  les relations syntaxiques entre les mots. Nous detaillrons ce modèle plus tard si nous l'utilions\n"
   ]
  },
  {
   "cell_type": "markdown",
   "metadata": {},
   "source": [
    "## 4) une implementation simple\n",
    "Dans cette partie nous nous proposons d'impleter simplement chacune des deux methodes."
   ]
  },
  {
   "cell_type": "markdown",
   "metadata": {},
   "source": [
    "##### Corpus et importation"
   ]
  },
  {
   "cell_type": "code",
   "execution_count": 81,
   "metadata": {},
   "outputs": [],
   "source": [
    "import pandas as pd\n",
    "import numpy as np\n",
    "import matplotlib.pyplot as plt"
   ]
  },
  {
   "cell_type": "code",
   "execution_count": 3,
   "metadata": {},
   "outputs": [
    {
     "name": "stderr",
     "output_type": "stream",
     "text": [
      "C:\\Users\\Robin\\Anaconda3\\lib\\site-packages\\h5py\\__init__.py:36: FutureWarning: Conversion of the second argument of issubdtype from `float` to `np.floating` is deprecated. In future, it will be treated as `np.float64 == np.dtype(float).type`.\n",
      "  from ._conv import register_converters as _register_converters\n"
     ]
    }
   ],
   "source": [
    "import tensorflow as tf"
   ]
  },
  {
   "cell_type": "code",
   "execution_count": 57,
   "metadata": {},
   "outputs": [],
   "source": [
    "\n",
    "corpus_en = ['king is a strong man', \n",
    "          'queen is a wise woman', \n",
    "          'boy is a young man',\n",
    "          'girl is a young woman',\n",
    "          'prince is a young king',\n",
    "          'princess is a young queen',\n",
    "          'man is strong', \n",
    "          'woman is pretty',\n",
    "          'prince is a boy will be king',\n",
    "          'princess is a girl will be queen']\n",
    "\n",
    "corpus_fr = ['le roi est un homme fort',\n",
    "            'la reine est une personne pleine de sagesse'\n",
    "            'un garçon est un jeune homme'\n",
    "            'une fille est une jeune femme'\n",
    "            'homme est fort'\n",
    "            'la femme est jolie'\n",
    "            'le prince est un garçon qui deviendra roi'\n",
    "            'la princesse est une jeune fille qui deviendra renne']"
   ]
  },
  {
   "cell_type": "markdown",
   "metadata": {},
   "source": [
    "##### Focntion preliminaire"
   ]
  },
  {
   "cell_type": "code",
   "execution_count": 63,
   "metadata": {},
   "outputs": [],
   "source": [
    "# Fonction qui élimines les mots inutiles ou bien trop frequent ou bien avec peu de signification\n",
    "def remove_stop_words(corpus,langue='en'):\n",
    "    if langue == 'en':\n",
    "        stop_words = ['is', 'a', 'will', 'be']\n",
    "    else :\n",
    "        stop_words = ['le', 'la', 'un', 'une','est','qui','de']\n",
    "    results = []\n",
    "    for text in corpus:\n",
    "        tmp = text.split(' ')\n",
    "        for stop_word in stop_words:\n",
    "            if stop_word in tmp:\n",
    "                tmp.remove(stop_word)\n",
    "        results.append(\" \".join(tmp))\n",
    "    \n",
    "    return results\n",
    "\n",
    "# Focntion qui créer un vecteur avec tout les mots du corpus\n",
    "\n",
    "def create_words(corpus):\n",
    "    words = []\n",
    "    for text in corpus:\n",
    "        for word in text.split(' '):\n",
    "            words.append(word)\n",
    "\n",
    "    words = set(words)\n",
    "    return(words)\n",
    "\n",
    "def neighbors(window_size,corpus):\n",
    "    word2int = {}\n",
    "    words = create_words(corpus)\n",
    "    # On associe un nombre à chaque mots\n",
    "    for i,word in enumerate(words):\n",
    "        word2int[word] = i\n",
    "        \n",
    "    # On découpe notre corpus par phrase\n",
    "    sentences = []\n",
    "    for sentence in corpus:\n",
    "        sentences.append(sentence.split())\n",
    "        \n",
    "    #Pour un mot donné nous créons sa liste de voisin\n",
    "    data = []\n",
    "    for sentence in sentences:\n",
    "        for id, word in enumerate(sentence):\n",
    "            for neighbor in sentence[max(id - window_size, 0) : min(id + window_size, len(sentence)) + 1] : \n",
    "                if neighbor != word:\n",
    "                    data.append([word, neighbor])\n",
    "    \n",
    "    df = pd.DataFrame(data, columns = ['entree', 'voisin'])\n",
    "    return(word2int,df)"
   ]
  },
  {
   "cell_type": "code",
   "execution_count": 6,
   "metadata": {},
   "outputs": [],
   "source": [
    "clean_corpus = remove_stop_words(corpus_en)\n",
    "word2int, df = neighbors(2,clean_corpus)\n"
   ]
  },
  {
   "cell_type": "code",
   "execution_count": 7,
   "metadata": {},
   "outputs": [
    {
     "data": {
      "text/html": [
       "<div>\n",
       "<style scoped>\n",
       "    .dataframe tbody tr th:only-of-type {\n",
       "        vertical-align: middle;\n",
       "    }\n",
       "\n",
       "    .dataframe tbody tr th {\n",
       "        vertical-align: top;\n",
       "    }\n",
       "\n",
       "    .dataframe thead th {\n",
       "        text-align: right;\n",
       "    }\n",
       "</style>\n",
       "<table border=\"1\" class=\"dataframe\">\n",
       "  <thead>\n",
       "    <tr style=\"text-align: right;\">\n",
       "      <th></th>\n",
       "      <th>entree</th>\n",
       "      <th>voisin</th>\n",
       "    </tr>\n",
       "  </thead>\n",
       "  <tbody>\n",
       "    <tr>\n",
       "      <th>0</th>\n",
       "      <td>king</td>\n",
       "      <td>strong</td>\n",
       "    </tr>\n",
       "    <tr>\n",
       "      <th>1</th>\n",
       "      <td>king</td>\n",
       "      <td>man</td>\n",
       "    </tr>\n",
       "    <tr>\n",
       "      <th>2</th>\n",
       "      <td>strong</td>\n",
       "      <td>king</td>\n",
       "    </tr>\n",
       "    <tr>\n",
       "      <th>3</th>\n",
       "      <td>strong</td>\n",
       "      <td>man</td>\n",
       "    </tr>\n",
       "    <tr>\n",
       "      <th>4</th>\n",
       "      <td>man</td>\n",
       "      <td>king</td>\n",
       "    </tr>\n",
       "  </tbody>\n",
       "</table>\n",
       "</div>"
      ],
      "text/plain": [
       "   entree  voisin\n",
       "0    king  strong\n",
       "1    king     man\n",
       "2  strong    king\n",
       "3  strong     man\n",
       "4     man    king"
      ]
     },
     "execution_count": 7,
     "metadata": {},
     "output_type": "execute_result"
    }
   ],
   "source": [
    "df.head()"
   ]
  },
  {
   "cell_type": "code",
   "execution_count": 8,
   "metadata": {},
   "outputs": [
    {
     "data": {
      "text/plain": [
       "{'wise': 0,\n",
       " 'queen': 1,\n",
       " 'strong': 2,\n",
       " 'young': 3,\n",
       " 'boy': 4,\n",
       " 'prince': 5,\n",
       " 'woman': 6,\n",
       " 'girl': 7,\n",
       " 'princess': 8,\n",
       " 'pretty': 9,\n",
       " 'king': 10,\n",
       " 'man': 11}"
      ]
     },
     "execution_count": 8,
     "metadata": {},
     "output_type": "execute_result"
    }
   ],
   "source": [
    "word2int"
   ]
  },
  {
   "cell_type": "markdown",
   "metadata": {},
   "source": [
    "### 4-1 CBOW"
   ]
  },
  {
   "cell_type": "code",
   "execution_count": null,
   "metadata": {},
   "outputs": [],
   "source": []
  },
  {
   "cell_type": "markdown",
   "metadata": {},
   "source": [
    "### 4-2 Skip Gram"
   ]
  },
  {
   "cell_type": "code",
   "execution_count": 73,
   "metadata": {},
   "outputs": [],
   "source": [
    "# FOcntion pour transformer les mot en One-hot vecteurs\n",
    "\n",
    "def to_one_hot_encoding(data_point_index,D):\n",
    "    \"\"\"\n",
    "    data_point_index =  La representation des mots en entiers\n",
    "    D = la dimension des vecteur en one-hot\n",
    "    \"\"\"\n",
    "    one_hot_encoding = np.zeros(D)\n",
    "    one_hot_encoding[data_point_index] = 1\n",
    "    return one_hot_encoding\n",
    "\n",
    " :\n",
    "    # Nous créons un tablea avec tout les mots\n",
    "    words = create_words(corpus)\n",
    "    \n",
    "    # On definit la domension pour le codage one-hot\n",
    "    D=len(words)\n",
    "    \n",
    "    # On associe un entier a chaque mot\n",
    "    # On creer la liste de tuple à partir de la taille de la fenetre\n",
    "    word2int, df = neighbors(window,corpus)\n",
    "    \n",
    "    # On creer les vecteurs encodé en one hot pour chaque mot et chaque voisin\n",
    "      \n",
    "    X = [] # Vecteurs des mots en entrée\n",
    "    Y = [] # vecteurs des mots voisins\n",
    "    \n",
    "    for x, y in zip(df['entree'], df['voisin']):\n",
    "        X.append(to_one_hot_encoding(word2int[ x ],D))\n",
    "        Y.append(to_one_hot_encoding(word2int[ y ],D))\n",
    "    \n",
    "    # on les convertie en numpy array\n",
    "    \n",
    "    X_train = np.asarray(X)\n",
    "    Y_train = np.asarray(Y)\n",
    "    \n",
    "    # nous creons les place_holder\n",
    "    x = tf.placeholder(tf.float32, shape=(None, D))\n",
    "    y_label = tf.placeholder(tf.float32, shape=(None, D))\n",
    "    \n",
    "    # On chosie la dimension dans lequel sera projecté nos mots\n",
    "    D_final  = 2\n",
    "    \n",
    "    #\n",
    "    # Couche cachée : qui representera les mots finalements\n",
    "    # C'est en somme un produit mtricielle\n",
    "    W1 = tf.Variable(tf.random_normal([D, D_final]))\n",
    "    b1 = tf.Variable(tf.random_normal([1])) #bias\n",
    "    hidden_layer = tf.add(tf.matmul(x,W1), b1)\n",
    "    \n",
    "    # Ccouche de sortie\n",
    "    W2 = tf.Variable(tf.random_normal([D_final,D]))\n",
    "    b2 = tf.Variable(tf.random_normal([1]))\n",
    "    \n",
    "    #Focntion softmax qui nous preojecte dans [0,1]\n",
    "    prediction = tf.nn.softmax(tf.add( tf.matmul(hidden_layer, W2), b2))\n",
    "    \n",
    "    # On definit notre founction de cout comme l'entropie croisée\n",
    "    cost = tf.reduce_mean(-tf.reduce_sum(y_label * tf.log(prediction), axis=[1]))\n",
    "    \n",
    "    # On définit l'operation d'entrainement qui est une descent de gradient optimisé\n",
    "    # sur la fonction cout\n",
    "    \n",
    "    # training operation\n",
    "    train_op = tf.train.GradientDescentOptimizer(0.05).minimize(cost)\n",
    "    \n",
    "    return(words,x,y_label,W1,b1,W2,b2,prediction,cost,train_op,X_train,Y_train)\n",
    "    \n",
    "    "
   ]
  },
  {
   "cell_type": "code",
   "execution_count": 76,
   "metadata": {},
   "outputs": [],
   "source": [
    "def training(nbIteration,clean_corpus):\n",
    "    words,x,y_label,W1,b1,W2,b2,prediction,cost,train_op,X_train,Y_train= tensor_graph(clean_corpus,2)\n",
    "    sess = tf.Session()\n",
    "    init = tf.global_variables_initializer()\n",
    "    sess.run(init) \n",
    "    \n",
    "    iteration = 1000\n",
    "    for i in range(iteration):\n",
    "        # Entrée :  X_train en encodage one-hot\n",
    "        # Etiquettes : Les vosins de chaque mot en \n",
    "        sess.run(train_op, feed_dict={x: X_train, y_label: Y_train})\n",
    "        if i % 300 == 0:\n",
    "            print('Iteration '+str(i)+\"\"\" l'erreur est de :\"\"\", sess.run(cost, feed_dict={x: X_train, y_label: Y_train}))\n",
    "    \n",
    "    vectors_1_en = sess.run(W1 + b1)\n",
    "    vectors_2_en = sess.run(W2 + b2)\n",
    "    return(words,vectors_1_en)\n",
    "    \n",
    "    "
   ]
  },
  {
   "cell_type": "code",
   "execution_count": 77,
   "metadata": {},
   "outputs": [
    {
     "name": "stdout",
     "output_type": "stream",
     "text": [
      "Iteration 0 l'erreur est de : 4.3602915\n",
      "Iteration 300 l'erreur est de : 2.230297\n",
      "Iteration 600 l'erreur est de : 2.0680375\n",
      "Iteration 900 l'erreur est de : 1.9835137\n",
      "###########################################\n",
      "Iteration 0 l'erreur est de : 3.7725234\n",
      "Iteration 300 l'erreur est de : 3.1615095\n",
      "Iteration 600 l'erreur est de : 2.9786558\n",
      "Iteration 900 l'erreur est de : 2.885068\n"
     ]
    }
   ],
   "source": [
    "clean_corpus_en = remove_stop_words(corpus_en) \n",
    "words_en, vectors_1_en = training(10000,clean_corpus_en)\n",
    "\n",
    "print(\"###########################################\")\n",
    "\n",
    "clean_corpus_en = remove_stop_words(corpus_fr,langue='fr') \n",
    "words_fr,vectors_1_fr = training(10000,clean_corpus_en)"
   ]
  },
  {
   "cell_type": "code",
   "execution_count": 79,
   "metadata": {},
   "outputs": [],
   "source": [
    "def data_frame(vectors_1_en,words):\n",
    "    df_W2V_en = pd.DataFrame(vectors_1_en, columns = ['x1', 'x2'])\n",
    "    df_W2V_en['mots'] = words\n",
    "    df_W2V_en = df_W2V_en[['mots', 'x1', 'x2']]\n",
    "    return(df_W2V_en)"
   ]
  },
  {
   "cell_type": "code",
   "execution_count": 80,
   "metadata": {},
   "outputs": [],
   "source": [
    "df_W2V_en =  data_frame(vectors_1_en,words_en)\n",
    "df_W2V_fr = data_frame(vectors_1_fr,words_fr)\n"
   ]
  },
  {
   "cell_type": "code",
   "execution_count": 83,
   "metadata": {},
   "outputs": [],
   "source": [
    "\n",
    "def plotGraphWord(df_W2V_en,vectors_1_en):\n",
    "\n",
    "    plt.figure(figsize =(10,10))\n",
    "    fig, ax = plt.subplots()\n",
    "    \n",
    "    for word, x1, x2 in zip(df_W2V_en['mots'], df_W2V_en['x1'], df_W2V_en['x2']):\n",
    "        ax.annotate(word, (x1,x2 ))\n",
    "        \n",
    "    PADDING = 1.0\n",
    "    x_axis_min = np.amin(vectors_1_en, axis=0)[0] - PADDING\n",
    "    y_axis_min = np.amin(vectors_1_en, axis=0)[1] - PADDING\n",
    "    x_axis_max = np.amax(vectors_1_en, axis=0)[0] + PADDING\n",
    "    y_axis_max = np.amax(vectors_1_en, axis=0)[1] + PADDING\n",
    "     \n",
    "    plt.xlim(x_axis_min,x_axis_max)\n",
    "    plt.ylim(y_axis_min,y_axis_max)\n",
    "    plt.rcParams[\"figure.figsize\"] = (10,10)\n",
    "    \n",
    "    plt.show()\n",
    "\n"
   ]
  },
  {
   "cell_type": "code",
   "execution_count": 84,
   "metadata": {},
   "outputs": [
    {
     "data": {
      "text/plain": [
       "<Figure size 720x720 with 0 Axes>"
      ]
     },
     "metadata": {},
     "output_type": "display_data"
    },
    {
     "data": {
      "image/png": "[encoded data removed]",
      "text/plain": [
       "<Figure size 720x720 with 1 Axes>"
      ]
     },
     "metadata": {},
     "output_type": "display_data"
    },
    {
     "data": {
      "text/plain": [
       "<Figure size 720x720 with 0 Axes>"
      ]
     },
     "metadata": {},
     "output_type": "display_data"
    },
    {
     "data": {
      "image/png": "[encoded data removed]",
      "text/plain": [
       "<Figure size 720x720 with 1 Axes>"
      ]
     },
     "metadata": {},
     "output_type": "display_data"
    }
   ],
   "source": [
    "plotGraphWord(df_W2V_fr,vectors_1_fr)\n",
    "plotGraphWord(df_W2V_en,vectors_1_en)"
   ]
  },
  {
   "cell_type": "code",
   "execution_count": null,
   "metadata": {},
   "outputs": [],
   "source": []
  }
 ],
 "metadata": {
  "kernelspec": {
   "display_name": "Python 3",
   "language": "python",
   "name": "python3"
  },
  "language_info": {
   "codemirror_mode": {
    "name": "ipython",
    "version": 3
   },
   "file_extension": ".py",
   "mimetype": "text/x-python",
   "name": "python",
   "nbconvert_exporter": "python",
   "pygments_lexer": "ipython3",
   "version": "3.6.5"
  }
 },
 "nbformat": 4,
 "nbformat_minor": 2
}
