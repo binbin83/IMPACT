{
 "cells": [
  {
   "cell_type": "markdown",
   "metadata": {},
   "source": [
    "# <center> Discorvering Word2Vect </center>\n",
    "### <center> Quillivic Robin </center>\n",
    "Ce notebook a pur but d'explorer la librarie Gensim et quelques propriété du modèle\n",
    "Sources :\n",
    "- https://radimrehurek.com/gensim/models/word2vec.html\n",
    "- http://mccormickml.com/2016/04/12/googles-pretrained-word2vec-model-in-python/\n"
   ]
  },
  {
   "cell_type": "code",
   "execution_count": 6,
   "metadata": {},
   "outputs": [],
   "source": [
    "from gensim import *\n",
    "from gensim.test.utils import common_texts, get_tmpfile\n",
    "from gensim.models import Word2Vec\n",
    "import logging\n",
    "import gensim\n",
    "import os\n",
    "\n",
    "from gensim.test.utils import get_tmpfile\n",
    "from gensim.models import KeyedVectors\n",
    "\n",
    "import pandas as pd\n",
    "import numpy as np\n"
   ]
  },
  {
   "cell_type": "code",
   "execution_count": 35,
   "metadata": {},
   "outputs": [
    {
     "name": "stderr",
     "output_type": "stream",
     "text": [
      "2019-02-23 14:03:20,088 : INFO : loading projection weights from DATA\\cc.fr.300.vec\n",
      "2019-02-23 14:03:32,410 : INFO : loaded (50000, 300) matrix from DATA\\cc.fr.300.vec\n"
     ]
    }
   ],
   "source": [
    "# Logging code taken from http://rare-technologies.com/word2vec-tutorial/\n",
    "logging.basicConfig(format='%(asctime)s : %(levelname)s : %(message)s', level=logging.INFO)\n",
    "\n",
    "# Load Google's pre-trained Word2Vec model.\n",
    "model = gensim.models.KeyedVectors.load_word2vec_format(r'DATA\\cc.fr.300.vec',limit=50000)"
   ]
  },
  {
   "cell_type": "code",
   "execution_count": 40,
   "metadata": {},
   "outputs": [
    {
     "name": "stderr",
     "output_type": "stream",
     "text": [
      "C:\\Users\\Robin\\Anaconda3\\lib\\site-packages\\gensim\\matutils.py:737: FutureWarning: Conversion of the second argument of issubdtype from `int` to `np.signedinteger` is deprecated. In future, it will be treated as `np.int32 == np.dtype(int).type`.\n",
      "  if np.issubdtype(vec.dtype, np.int):\n"
     ]
    },
    {
     "data": {
      "text/plain": [
       "[('Ingénieur', 0.8150515556335449),\n",
       " ('ingénieurs', 0.699248194694519),\n",
       " ('informaticien', 0.6676545143127441),\n",
       " ('mécanicien', 0.6415232419967651),\n",
       " ('technicien', 0.6163383722305298),\n",
       " ('architecte', 0.6125804781913757),\n",
       " ('diplômé', 0.605674147605896),\n",
       " ('chimiste', 0.5942728519439697),\n",
       " ('physicien', 0.5839662551879883),\n",
       " ('agronome', 0.5837059020996094)]"
      ]
     },
     "execution_count": 40,
     "metadata": {},
     "output_type": "execute_result"
    }
   ],
   "source": [
    "model.most_similar('ingénieur')"
   ]
  },
  {
   "cell_type": "code",
   "execution_count": 8,
   "metadata": {},
   "outputs": [
    {
     "name": "stderr",
     "output_type": "stream",
     "text": [
      "2019-01-20 17:29:06,630 : INFO : loading projection weights from GoogleNews-vectors-negative300.bin\n",
      "2019-01-20 17:32:48,443 : INFO : loaded (3000000, 300) matrix from GoogleNews-vectors-negative300.bin\n",
      "2019-01-20 17:32:53,213 : INFO : saving Word2VecKeyedVectors object under word2vec-NEWS.model, separately None\n",
      "2019-01-20 17:32:53,213 : INFO : storing np array 'vectors' to word2vec-NEWS.model.vectors.npy\n",
      "2019-01-20 17:34:09,286 : INFO : not storing attribute vectors_norm\n",
      "2019-01-20 17:34:42,453 : INFO : saved word2vec-NEWS.model\n"
     ]
    }
   ],
   "source": [
    "# Explore Google's huge Word2Vec model.\n",
    "\n",
    "\n",
    "# Logging code taken from http://rare-technologies.com/word2vec-tutorial/\n",
    "logging.basicConfig(format='%(asctime)s : %(levelname)s : %(message)s', level=logging.INFO)\n",
    "\n",
    "# Load Google's pre-trained Word2Vec model.\n",
    "model = gensim.models.KeyedVectors.load_word2vec_format('GoogleNews-vectors-negative300.bin', binary=True) \n",
    "\n",
    "\n",
    "#model.save(\"word2vec-NEWS.model\")"
   ]
  },
  {
   "cell_type": "code",
   "execution_count": 51,
   "metadata": {},
   "outputs": [],
   "source": [
    "#word_vectors = model.wv\n",
    "#fname = get_tmpfile(\"vectors.kv\")\n",
    "#word_vectors.save(fname)\n",
    "#wv = KeyedVectors.load(\"model.wv\", mmap='r')\n",
    "#word_vectors = KeyedVectors.load(fname, mmap='r')\n",
    "#model = Word2Vec.load(\"word2vec-NEWS.model\")"
   ]
  },
  {
   "cell_type": "markdown",
   "metadata": {},
   "source": [
    "## 0) The vector representation and data preparation\n"
   ]
  },
  {
   "cell_type": "code",
   "execution_count": 50,
   "metadata": {},
   "outputs": [
    {
     "name": "stdout",
     "output_type": "stream",
     "text": [
      "the shape of our vectors  is (300,)\n",
      "In our model there are: 3000000 words\n"
     ]
    },
    {
     "name": "stderr",
     "output_type": "stream",
     "text": [
      "C:\\Users\\Robin\\Anaconda3\\lib\\site-packages\\ipykernel_launcher.py:1: DeprecationWarning: Call to deprecated `wv` (Attribute will be removed in 4.0.0, use self instead).\n",
      "  \"\"\"Entry point for launching an IPython kernel.\n",
      "C:\\Users\\Robin\\Anaconda3\\lib\\site-packages\\ipykernel_launcher.py:3: DeprecationWarning: Call to deprecated `wv` (Attribute will be removed in 4.0.0, use self instead).\n",
      "  This is separate from the ipykernel package so we can avoid doing imports until\n"
     ]
    }
   ],
   "source": [
    "v_she = model.wv['she']\n",
    "print('the shape of our vectors  is',v_she.shape)\n",
    "print('In our model there are:' ,len(model.wv.vocab),'words')"
   ]
  },
  {
   "cell_type": "code",
   "execution_count": 48,
   "metadata": {},
   "outputs": [],
   "source": [
    "def most_freq(n):\n",
    "    w2c = dict()\n",
    "    for item in model.wv.vocab:\n",
    "        w2c[item]=model.wv.vocab[item].count\n",
    "    \n",
    "    df = pd.DataFrame(list(w2c.items()), columns=['word', 'count'])\n",
    "    most_freq = df.loc[1:n]\n",
    "    return(list(most_freq['word']))\n",
    "    \n",
    "    \n",
    "our_vocab= most_freq(50000) # list of 50000 the most used"
   ]
  },
  {
   "cell_type": "code",
   "execution_count": 65,
   "metadata": {},
   "outputs": [
    {
     "name": "stderr",
     "output_type": "stream",
     "text": [
      "C:\\Users\\Robin\\Anaconda3\\lib\\site-packages\\ipykernel_launcher.py:1: DeprecationWarning: Call to deprecated `wv` (Attribute will be removed in 4.0.0, use self instead).\n",
      "  \"\"\"Entry point for launching an IPython kernel.\n"
     ]
    },
    {
     "data": {
      "text/plain": [
       "numpy.ndarray"
      ]
     },
     "execution_count": 65,
     "metadata": {},
     "output_type": "execute_result"
    }
   ],
   "source": [
    "type(model.wv['she'])"
   ]
  },
  {
   "cell_type": "code",
   "execution_count": 122,
   "metadata": {},
   "outputs": [
    {
     "name": "stdout",
     "output_type": "stream",
     "text": [
      "(2, 300)\n"
     ]
    },
    {
     "name": "stderr",
     "output_type": "stream",
     "text": [
      "C:\\Users\\Robin\\Anaconda3\\lib\\site-packages\\ipykernel_launcher.py:1: DeprecationWarning: Call to deprecated `wv` (Attribute will be removed in 4.0.0, use self instead).\n",
      "  \"\"\"Entry point for launching an IPython kernel.\n"
     ]
    }
   ],
   "source": [
    "gender=np.array([model.wv['she'], model.wv['he']]).reshape(2,300)\n",
    "print(gender.shape)"
   ]
  },
  {
   "cell_type": "code",
   "execution_count": 121,
   "metadata": {},
   "outputs": [
    {
     "name": "stderr",
     "output_type": "stream",
     "text": [
      "C:\\Users\\Robin\\Anaconda3\\lib\\site-packages\\ipykernel_launcher.py:1: DeprecationWarning: Call to deprecated `wv` (Attribute will be removed in 4.0.0, use self instead).\n",
      "  \"\"\"Entry point for launching an IPython kernel.\n"
     ]
    },
    {
     "data": {
      "text/plain": [
       "(2,)"
      ]
     },
     "execution_count": 121,
     "metadata": {},
     "output_type": "execute_result"
    }
   ],
   "source": [
    "she_he= model.wv['she']-model.wv['he']\n",
    "import numpy as np\n",
    "from sklearn.decomposition import PCA\n",
    "reduction = PCA(n_components=15)\n",
    "reduction.fit(gender)\n",
    "reduction.explained_variance_.shape\n"
   ]
  },
  {
   "cell_type": "code",
   "execution_count": 124,
   "metadata": {},
   "outputs": [
    {
     "name": "stdout",
     "output_type": "stream",
     "text": [
      "[1.2554178e+00 2.6708745e-08]\n",
      "[1.2554178e+00 2.6708745e-08]\n",
      "[ 0.14038086  0.0480957  -0.07086182 -0.03405762  0.07946777 -0.11108398\n",
      " -0.08129883 -0.05224609  0.04150391 -0.01159668  0.0241394  -0.16601562\n",
      "  0.05004883 -0.07287598 -0.21582031  0.04992676 -0.02001953  0.01049805\n",
      "  0.08544922 -0.04754639  0.01397705  0.10717773 -0.01489258 -0.04547119\n",
      " -0.05712891 -0.16064453 -0.13232422 -0.04876709  0.15527344 -0.07080078\n",
      " -0.01800537  0.06567383 -0.11297607 -0.03436279  0.05151367 -0.11303711\n",
      "  0.15283203 -0.01696777  0.01799011 -0.01055908  0.2133789  -0.0435791\n",
      "  0.27294922 -0.03503418  0.0284729   0.13867188 -0.10546875  0.0723877\n",
      "  0.07714844  0.15771484  0.17333984  0.02404785 -0.03967285 -0.04745483\n",
      " -0.10681152 -0.02325439 -0.05639648 -0.09521484  0.01525879 -0.14672852\n",
      "  0.24609375  0.14160156 -0.0135498   0.08410645  0.05029297  0.08496094\n",
      "  0.01025391  0.05273438 -0.02902222  0.10205078  0.10424805  0.05443192\n",
      "  0.0458374   0.09277344 -0.08068848 -0.03320312  0.171875    0.08032227\n",
      "  0.11450195  0.11636353  0.07647705 -0.17626953  0.11767578 -0.14916992\n",
      " -0.22070312  0.02124023 -0.03967285  0.21484375 -0.0067749  -0.08813477\n",
      " -0.1328125   0.04138184 -0.0423584  -0.09594727 -0.1315918  -0.028862\n",
      "  0.15307617  0.00140381  0.03109741 -0.07736206 -0.21582031 -0.1303711\n",
      "  0.03210449 -0.03015137 -0.12695312  0.02331543 -0.1114502  -0.14746094\n",
      "  0.00462341 -0.1418457  -0.14941406  0.00134277  0.05712891 -0.00939941\n",
      " -0.04241943 -0.01330566 -0.10058594 -0.18579102  0.15332031 -0.0614624\n",
      " -0.17529297 -0.00894928 -0.0078125   0.07373047 -0.17041016 -0.0234375\n",
      "  0.07226562  0.00891113  0.02246094 -0.00537109 -0.16699219 -0.07299805\n",
      " -0.18554688 -0.11450195 -0.11279297 -0.00268555 -0.03665161  0.07104492\n",
      " -0.02093506  0.07421875  0.02813721 -0.09069824  0.03259277 -0.01698303\n",
      " -0.01176453  0.1229248  -0.1875     -0.02099609 -0.20117188  0.04077148\n",
      "  0.12628174  0.10644531 -0.14379883 -0.03961182 -0.05566406 -0.00898743\n",
      " -0.11425781 -0.1315918   0.06213379  0.11743164  0.03193665  0.11743164\n",
      "  0.13378906  0.22558594 -0.10253906 -0.03237915  0.01757812 -0.06508636\n",
      "  0.20019531 -0.09985352 -0.02606201  0.00048828 -0.1538086  -0.11181641\n",
      " -0.05992889 -0.05908203  0.14807129 -0.11010742  0.01171875  0.02661133\n",
      " -0.13793945  0.0378418   0.0390625  -0.06970215  0.00106812 -0.05200195\n",
      " -0.07019043  0.19921875 -0.02270508 -0.07470703  0.02589417  0.15966797\n",
      "  0.11425781  0.24267578  0.03027344  0.05303955 -0.13354492 -0.06864166\n",
      " -0.05786133 -0.15478516 -0.17041016 -0.02493286  0.08422852 -0.07284546\n",
      "  0.12756348 -0.1640625  -0.13513184  0.11376953  0.06152344 -0.12792969\n",
      "  0.05047607 -0.16357422  0.00970459 -0.12109375 -0.19873047  0.0480957\n",
      "  0.0513916   0.07519531 -0.07455444  0.00720215  0.05187988  0.12512207\n",
      "  0.0390625  -0.00128174  0.265625   -0.20166016  0.13867188  0.04290771\n",
      "  0.08666992  0.0193634   0.01316833 -0.01470947 -0.02508545 -0.11938477\n",
      "  0.21191406 -0.00305176 -0.1772461  -0.05734253  0.01953125 -0.03924561\n",
      "  0.07377625 -0.09509277 -0.06256104 -0.0423584   0.03137207  0.01501465\n",
      " -0.05566406 -0.02380371  0.02539062  0.02893066  0.11523438  0.00331879\n",
      " -0.02109909 -0.0360055   0.07409668  0.06781006  0.01939344 -0.01869583\n",
      " -0.13061523 -0.05322266  0.00756836 -0.04194641 -0.24365234  0.06488037\n",
      "  0.14990234  0.05541992  0.00225067  0.06637573  0.0213623  -0.01678467\n",
      "  0.15356445  0.10266113  0.10351562  0.10943604 -0.01831055 -0.12915039\n",
      "  0.07000732 -0.18066406  0.02600098 -0.0625      0.0703125  -0.05212402\n",
      "  0.12792969  0.10668945 -0.04663086 -0.03463745  0.00070572 -0.10302734\n",
      "  0.00933838  0.24414062 -0.06018066 -0.06420898 -0.16430664 -0.06442261\n",
      " -0.15332031  0.08984375  0.10850525 -0.07470703  0.18554688 -0.13891602]\n"
     ]
    }
   ],
   "source": [
    "print(reduction.singular_values_ )\n",
    "print(reduction.singular_values_ )\n",
    "print(reduction.mean_)"
   ]
  },
  {
   "cell_type": "code",
   "execution_count": null,
   "metadata": {},
   "outputs": [],
   "source": []
  },
  {
   "cell_type": "markdown",
   "metadata": {},
   "source": [
    "## 1) The cosine distance between 2 words :\n",
    "- https://radimrehurek.com/gensim/models/keyedvectors.html#gensim.models.keyedvectors.WordEmbeddingsKeyedVectors.evaluate_word_pairs\n"
   ]
  },
  {
   "cell_type": "code",
   "execution_count": 26,
   "metadata": {},
   "outputs": [
    {
     "name": "stdout",
     "output_type": "stream",
     "text": [
      "0.6375303531479181\n",
      "0.6375303\n"
     ]
    }
   ],
   "source": [
    "print(model.similarity('she','he'))\n",
    "import numpy    \n",
    "cosine_similarity = numpy.dot(model['spain'], model['france'])/(numpy.linalg.norm(model['spain'])* numpy.linalg.norm(model['france']))\n",
    "print(cosine_similarity)"
   ]
  },
  {
   "cell_type": "code",
   "execution_count": 31,
   "metadata": {},
   "outputs": [
    {
     "name": "stderr",
     "output_type": "stream",
     "text": [
      "2019-01-06 18:56:38,406 : INFO : precomputing L2-norms of word weight vectors\n"
     ]
    }
   ],
   "source": [
    "result = model.most_similar(positive=['woman', 'king'], negative=['man'])"
   ]
  },
  {
   "cell_type": "code",
   "execution_count": 32,
   "metadata": {},
   "outputs": [
    {
     "name": "stdout",
     "output_type": "stream",
     "text": [
      "[('queen', 0.7118192911148071), ('monarch', 0.6189674139022827), ('princess', 0.5902431607246399), ('crown_prince', 0.5499460697174072), ('prince', 0.5377321243286133), ('kings', 0.5236844420433044), ('Queen_Consort', 0.5235945582389832), ('queens', 0.5181134343147278), ('sultan', 0.5098593235015869), ('monarchy', 0.5087411999702454)]\n"
     ]
    }
   ],
   "source": [
    "print(result)"
   ]
  },
  {
   "cell_type": "code",
   "execution_count": 43,
   "metadata": {},
   "outputs": [
    {
     "name": "stdout",
     "output_type": "stream",
     "text": [
      "[('homemaker', 0.5627118945121765), ('housewife', 0.5105046033859253), ('graphic_designer', 0.5051802396774292), ('schoolteacher', 0.497949481010437), ('businesswoman', 0.49348917603492737), ('paralegal', 0.49255111813545227), ('registered_nurse', 0.4907974600791931), ('saleswoman', 0.4881627559661865), ('electrical_engineer', 0.4797726571559906), ('mechanical_engineer', 0.4755399525165558)]\n"
     ]
    }
   ],
   "source": [
    "result2 = model.most_similar(positive=['woman', 'computer_programmer'], negative=['man'])\n",
    "print(result2)"
   ]
  },
  {
   "cell_type": "code",
   "execution_count": 45,
   "metadata": {},
   "outputs": [
    {
     "name": "stdout",
     "output_type": "stream",
     "text": [
      "[('schoolteacher', 0.5566020607948303), ('homemaker', 0.5082708597183228), ('shopkeeper', 0.5011745691299438), ('businessman', 0.4810183644294739), ('laborer', 0.47449618577957153), ('taxi_driver', 0.47111445665359497), ('Housewife', 0.46791553497314453), ('storekeeper', 0.46526283025741577), ('lad', 0.4630841016769409), ('schoolboy', 0.4583793878555298), ('carpenter', 0.45670172572135925), ('baker', 0.45553910732269287), ('bricklayer', 0.45117121934890747), ('rag_picker', 0.451133668422699), ('carpet_weaver', 0.4475039839744568), ('vacuum_cleaner_salesman', 0.4445051848888397), ('widowed_mother', 0.4434284567832947), ('petty_thief', 0.44061315059661865), ('auto_mechanic', 0.4397006630897522), ('gardener', 0.43909573554992676)]\n"
     ]
    }
   ],
   "source": [
    "result2 = model.most_similar(positive=['man', 'housewife'], negative=['woman'],topn=20)\n",
    "print(result2)"
   ]
  },
  {
   "cell_type": "code",
   "execution_count": 35,
   "metadata": {},
   "outputs": [
    {
     "name": "stdout",
     "output_type": "stream",
     "text": [
      "[('housewife', 0.6735947132110596), ('registered_nurse', 0.5759707689285278), ('businesswoman', 0.5686133503913879), ('beautician', 0.5451598167419434), ('seamstress', 0.5345584154129028), ('Homemaker', 0.5280820727348328), ('medical_transcriptionist', 0.5251016616821289), ('Ayesha_Dar', 0.524761974811554), ('mother', 0.5225702524185181), ('she', 0.5223116874694824)]\n"
     ]
    }
   ],
   "source": [
    "result2 = model.most_similar(positive=['woman', 'homemaker'], negative=['man'])\n",
    "print(result2)"
   ]
  },
  {
   "cell_type": "code",
   "execution_count": 36,
   "metadata": {},
   "outputs": [
    {
     "name": "stdout",
     "output_type": "stream",
     "text": [
      "[('machinist', 0.5267918109893799), ('carpenter', 0.5241690874099731), ('lifelong_resident', 0.5211937427520752), ('tinkerer', 0.4967100918292999), ('retired_schoolteacher', 0.49591735005378723), ('housewife', 0.48520010709762573), ('auto_mechanic', 0.47388389706611633), ('handyman', 0.4711166024208069), ('computer_programmer', 0.4687366485595703), ('mechanical_engineer', 0.4633086621761322)]\n"
     ]
    }
   ],
   "source": [
    "result2 = model.most_similar(positive=['man', 'homemaker'], negative=['woman'])\n",
    "print(result2)"
   ]
  },
  {
   "cell_type": "code",
   "execution_count": 37,
   "metadata": {},
   "outputs": [
    {
     "name": "stdout",
     "output_type": "stream",
     "text": [
      "[('handyman', 0.5270003080368042), ('janitor', 0.5254911184310913), ('maid', 0.5169743299484253), ('butler', 0.4740162193775177), ('chauffeur', 0.4691585302352905), ('housecleaner', 0.46751129627227783), ('yardman', 0.46438682079315186), ('doorman', 0.46171340346336365), ('nanny', 0.45258331298828125), ('groundskeeper', 0.4408791661262512)]\n"
     ]
    }
   ],
   "source": [
    "result2 = model.most_similar(positive=['man', 'housekeeper'], negative=['woman'])\n",
    "print(result2)"
   ]
  },
  {
   "cell_type": "code",
   "execution_count": 38,
   "metadata": {},
   "outputs": [
    {
     "name": "stderr",
     "output_type": "stream",
     "text": [
      "2019-01-06 19:05:07,402 : INFO : Pearson correlation coefficient against C:\\Users\\Robin\\Anaconda3\\lib\\site-packages\\gensim\\test\\test_data\\wordsim353.tsv: 0.6239\n",
      "2019-01-06 19:05:07,406 : INFO : Spearman rank-order correlation coefficient against C:\\Users\\Robin\\Anaconda3\\lib\\site-packages\\gensim\\test\\test_data\\wordsim353.tsv: 0.6589\n",
      "2019-01-06 19:05:07,407 : INFO : Pairs with unknown words ratio: 0.0%\n"
     ]
    }
   ],
   "source": [
    "from gensim.test.utils import datapath\n",
    "\n",
    "similarities = model.wv.evaluate_word_pairs(datapath('wordsim353.tsv'))"
   ]
  },
  {
   "cell_type": "code",
   "execution_count": 40,
   "metadata": {},
   "outputs": [
    {
     "data": {
      "text/plain": [
       "[('woman', 0.7664012312889099),\n",
       " ('boy', 0.6824870109558105),\n",
       " ('teenager', 0.6586930751800537),\n",
       " ('teenage_girl', 0.6147903203964233),\n",
       " ('girl', 0.5921714305877686),\n",
       " ('suspected_purse_snatcher', 0.571636438369751),\n",
       " ('robber', 0.5585119128227234),\n",
       " ('Robbery_suspect', 0.5584409236907959),\n",
       " ('teen_ager', 0.5549196004867554),\n",
       " ('men', 0.5489763021469116)]"
      ]
     },
     "execution_count": 40,
     "metadata": {},
     "output_type": "execute_result"
    }
   ],
   "source": [
    "model.most_similar('man')"
   ]
  },
  {
   "cell_type": "code",
   "execution_count": 48,
   "metadata": {},
   "outputs": [
    {
     "name": "stdout",
     "output_type": "stream",
     "text": [
      "[('her', 0.4538424015045166), ('Satyana', 0.4414650499820709), ('pagaent', 0.4288000166416168), ('Bridals', 0.42231133580207825), ('Unique_Boutique', 0.42058807611465454), ('assistant_Brad_Goreski', 0.4180472493171692), ('certified_lactation_counselor', 0.41624581813812256), ('Eldest_daughter', 0.41297200322151184), ('Dr._Marina_Kovalevsky', 0.4109620153903961), ('floral_frock', 0.41094160079956055), ('Supermom', 0.41031965613365173), ('hers', 0.4102451801300049), ('Anslee', 0.4086977541446686), ('Parenting_Teens', 0.4079504609107971), ('Fine_Lingerie', 0.4055904150009155), ('Chihuahua_Bruiser', 0.40554356575012207), ('Saleisha', 0.40042412281036377), ('Miyazato_steadied', 0.40003442764282227), ('AMANDA_BYNES', 0.39897650480270386), ('James_Enyce', 0.39655131101608276), ('Yummy_Mummy', 0.39523255825042725), ('Renee_Elise_Goldsberry', 0.39515918493270874), ('Sashay', 0.39438295364379883), ('Karina_Lombard', 0.39425355195999146), ('Bridal_Boutique', 0.39325079321861267), ('JAMIE_LYNN_SPEARS', 0.392225980758667), ('Baraquio', 0.3899921774864197), ('motherhood', 0.3889460563659668), ('Momlogic', 0.3884729743003845), ('frontwoman', 0.3871959447860718), ('Ann', 0.38712939620018005), ('Registered_dietician', 0.3860251307487488), ('fraternal_twin_sister', 0.38544416427612305), ('momager', 0.38516807556152344), ('R._Pistilli', 0.38424137234687805), ('Gourmet_Goodies', 0.3841147720813751), ('Scrapbooker', 0.38395726680755615), ('Stork_Nest', 0.38383713364601135), ('reinvents_herself', 0.3835757076740265), ('Tyra', 0.3825591802597046), ('Analeigh', 0.3824346959590912), ('Maggie_Rizer', 0.3824107348918915), ('Aimee', 0.38217371702194214), ('pregancy', 0.38214820623397827), ('Lindsay_Ellingson', 0.38207006454467773), ('WeTV', 0.3819883465766907), ('Cosmetologist', 0.38195762038230896), ('Consignment_Boutique', 0.3814111351966858), ('Bridal_Shop', 0.3812521696090698), ('Bridal_Bliss', 0.3810533285140991), ('Althea_Harper', 0.38095492124557495), ('Renee', 0.380889892578125), ('Jessica_Uhl', 0.38025230169296265), ('Amelia_Pearl_Czikai', 0.37998148798942566), ('Becki_Newton', 0.3790772557258606), ('girlhood', 0.37843847274780273), ('Arleth', 0.37842869758605957), ('Heidi', 0.37832123041152954), ('daughter_Satyana', 0.37796464562416077), ('Samanthas', 0.3777020573616028), ('Trashy_Lingerie', 0.37745094299316406), ('Bridal_Gowns', 0.3770792484283447), ('Lactation_Consultant', 0.37707895040512085), ('Bare_Breasts', 0.3768892288208008), ('Carrie', 0.3767487108707428), ('Linda_Dano', 0.37648218870162964), (\"Former_Hear'Say_singer\", 0.37628936767578125), ('Jaslene', 0.3761400580406189), ('Certified_Nurse_Midwife', 0.37595975399017334), ('Michelle_Gellar', 0.3756546378135681), ('Keisha', 0.37551960349082947), ('Olivia_Palermo', 0.37543410062789917), ('Dina_Manzo', 0.3752596974372864), ('Babies_Perinatal_Network', 0.37517693638801575), ('Berry_Lea_Michele', 0.3745192885398865), ('Mother_Daughter', 0.3741346597671509), ('Jeff_Juzyk', 0.37405627965927124), ('Kendall_Jenner', 0.3739900588989258), ('Louise_Draeger', 0.37387874722480774), ('Jessica_Origliasso', 0.3735601305961609), ('Koroleva', 0.37349700927734375), ('covergirl', 0.3733171820640564), ('supermom', 0.3731769919395447), ('SHANNEN_DOHERTY', 0.3728380501270294), ('Jean_Dilts', 0.372743159532547), ('CURVY', 0.3726646304130554), ('Sophie', 0.37259018421173096), ('Sedina', 0.37230730056762695), ('Millner_Fairbanks', 0.3720932602882385), ('Beth_Behrs', 0.371934711933136), ('Lactation', 0.3717053532600403), ('REDBOOK', 0.37168967723846436), ('Tasha', 0.37163132429122925), ('fraternal_twin_daughters', 0.3711768090724945), ('Roxanne', 0.37100520730018616), ('Plinky_Recto', 0.3709768056869507), ('herself', 0.37085995078086853), ('L._Bomkamp', 0.37078917026519775), ('Maternity_Wear', 0.370442271232605), ('Shanna', 0.3702814280986786)]\n"
     ]
    }
   ],
   "source": [
    "result2 = model.most_similar(positive=['she'], negative=['he'],topn=100)\n",
    "print(result2)"
   ]
  },
  {
   "cell_type": "code",
   "execution_count": 47,
   "metadata": {},
   "outputs": [
    {
     "name": "stdout",
     "output_type": "stream",
     "text": [
      "[('himself', 0.3682267963886261), ('Elliot_Vallejo', 0.36498522758483887), ('Eddie_Taubensee', 0.34360623359680176), ('Robby_Alomar', 0.34221774339675903), ('Fans_cheered_loudly', 0.3416525423526764), ('Offseason_acquisition', 0.33960479497909546), ('Jon_Oosterhuis', 0.33930540084838867), ('Bob_Skoronski', 0.3373476266860962), ('Wally_Pipped', 0.3320515751838684), ('Mo_Sissoko', 0.3299757242202759), ('elder_statesman', 0.32842299342155457), ('Roger_Dunbrack', 0.3244558572769165), ('Commoli', 0.3238427937030792), (\"he'sa\", 0.32346391677856445), ('Felipe_Claybrooks', 0.3234339654445648), ('owner_Mal_Hemmerling', 0.32306909561157227), ('his', 0.32080215215682983), ('Rodney_Picou', 0.32047879695892334), ('him', 0.3204362690448761), ('paralyzing_Jacksonville_Jaguars', 0.3203696012496948), ('cornerback_Adrion_Smith', 0.32004523277282715), ('astute_tactician', 0.31896334886550903), ('Braylon_Edwards_Kellen_Winslow', 0.31816309690475464), ('Shaun_Maloney_Aiden_McGeady', 0.3180479407310486), ('Jonathon_Woodgate', 0.31566742062568665), ('Cory_Olynick', 0.315240740776062), ('Keyshawn_Johnson_Keenan_McCardell', 0.3151709735393524), ('Iowa_Nile_Kinnick', 0.31512588262557983), ('spoken_glowingly', 0.31500905752182007), ('catchers_Bengie_Molina', 0.314477801322937), ('cornerback_Dyshod_Carter', 0.31415045261383057), ('Oft_maligned', 0.31362485885620117), ('Aramis_Ramirez_Alfonso_Soriano', 0.312614381313324), ('unashamed_admirer', 0.3111153244972229), ('Darrien_Gordon', 0.3098696172237396), ('Dameyune_Craig', 0.30948886275291443), ('himslef', 0.3092358112335205), ('Gallas_Silvestre', 0.30907219648361206), ('countryman', 0.3090028166770935), ('outfielders_Rocco_Baldelli', 0.3081384301185608), ('journeyman', 0.3079681992530823), ('Mychal_Kendricks', 0.3074895143508911), ('Freddy_Sjostrom', 0.3071368336677551), ('tailback_Trung_Canidate', 0.3071087896823883), ('Muru_Walters', 0.30664291977882385), ('Darrel_Crutchfield', 0.3066216707229614), ('Gilles_Colon', 0.3064541220664978), ('outfielders_Ken_Griffey', 0.3062630891799927), ('boyhood_hero', 0.30620789527893066), ('MarTay_Jenkins', 0.3054312765598297), ('Ged_Brannan', 0.30517134070396423), ('Ben_Sankey', 0.30495578050613403), ('Alpo_Suhonen', 0.3047686815261841), ('tackle_Makoa_Freitas', 0.3034951090812683), ('gimpy_kneed', 0.3034692406654358), ('NESN_Heidi', 0.3034440279006958), ('perennially_underachieving', 0.3033434748649597), ('boyhood', 0.3027265667915344), ('---_Sammy_Sugiura', 0.3024284541606903), ('FSY', 0.30236077308654785), ('Chris_Vallozzi', 0.30196937918663025), ('Khaldoon_al', 0.3015463352203369), ('IRVING_Texas_Dez_Bryant', 0.3011660873889923), ('Wladamir', 0.30105769634246826), ('SportsNation_Blog_Archives', 0.3009725511074066), ('JoJuan_Armour', 0.30064690113067627), ('Marlion_Jackson', 0.3003087043762207), ('COVINGTON_Ky._Cincinnati_Bengals', 0.299382746219635), ('Omowale_Dada', 0.29918959736824036), ('TRENDING_UP', 0.29857027530670166), ('André_Goodman', 0.2984965443611145), ('managerial_reigns', 0.2982054352760315), ('Sameeh_McDonald', 0.2979811429977417), ('Jerel_Myers', 0.2979114055633545), ('lanky_speedster', 0.29775357246398926), ('TAMPA_FLA.', 0.29744160175323486), ('Wally_Sczerbiak', 0.296579509973526), ('Donovan_Mc_Nabb', 0.29622697830200195), ('Wolfgang_Overath', 0.2961685061454773), ('Tedd_Ginn', 0.2958957254886627), ('Spergon', 0.29539576172828674), ('Milt_Plum', 0.29508641362190247), ('ALAMEDA_Oakland_Raiders', 0.29506829380989075), ('Rams_Torry_Holt', 0.29483866691589355), ('Clay_Buccholz', 0.29463526606559753), ('Torry_Holt_Isaac', 0.29458126425743103), (\"d'_Agostini\", 0.2945669889450073), ('fundamentally_unsound', 0.2944127321243286), ('whiz_Doug_Mientkiewicz', 0.29437148571014404), ('Grant_Crunkleton', 0.2943039536476135), ('Andrae_Thurman', 0.2941587567329407), ('fancies_himself', 0.2940273880958557), ('Bucko_Kilroy', 0.2938026785850525), ('ADRIAN_Morley', 0.2935961186885834), ('Bryan_McCabe_Darcy_Tucker', 0.29312369227409363), ('Kelvin_Krosch', 0.29299306869506836), ('CINCINNATI_Outfielder', 0.2924700379371643), ('Takashi_Hirano', 0.2923664450645447), ('playmaker_Steven_Pienaar', 0.2920112609863281), ('AARON_BOONE', 0.2917819619178772)]\n"
     ]
    }
   ],
   "source": [
    "result2 = model.most_similar(positive=['he'], negative=['she'],topn=100)\n",
    "print(result2)"
   ]
  },
  {
   "cell_type": "code",
   "execution_count": 18,
   "metadata": {},
   "outputs": [
    {
     "ename": "TypeError",
     "evalue": "'dict_keys' object does not support indexing",
     "output_type": "error",
     "traceback": [
      "\u001b[1;31m---------------------------------------------------------------------------\u001b[0m",
      "\u001b[1;31mTypeError\u001b[0m                                 Traceback (most recent call last)",
      "\u001b[1;32m<ipython-input-18-72190e69d4bb>\u001b[0m in \u001b[0;36m<module>\u001b[1;34m()\u001b[0m\n\u001b[0;32m     18\u001b[0m         \u001b[1;32mfor\u001b[0m \u001b[0mi\u001b[0m \u001b[1;32min\u001b[0m \u001b[0mrange\u001b[0m\u001b[1;33m(\u001b[0m\u001b[0mwordIndex\u001b[0m\u001b[1;33m,\u001b[0m \u001b[0mwordIndex\u001b[0m \u001b[1;33m+\u001b[0m \u001b[0mwordsPerFile\u001b[0m\u001b[1;33m)\u001b[0m\u001b[1;33m:\u001b[0m\u001b[1;33m\u001b[0m\u001b[0m\n\u001b[0;32m     19\u001b[0m             \u001b[1;31m# Write it out and escape any unicode characters.\u001b[0m\u001b[1;33m\u001b[0m\u001b[1;33m\u001b[0m\u001b[0m\n\u001b[1;32m---> 20\u001b[1;33m             \u001b[0mf\u001b[0m\u001b[1;33m.\u001b[0m\u001b[0mwrite\u001b[0m\u001b[1;33m(\u001b[0m\u001b[0mvocab\u001b[0m\u001b[1;33m[\u001b[0m\u001b[0mi\u001b[0m\u001b[1;33m]\u001b[0m\u001b[1;33m.\u001b[0m\u001b[0mencode\u001b[0m\u001b[1;33m(\u001b[0m\u001b[1;34m'UTF-8'\u001b[0m\u001b[1;33m)\u001b[0m \u001b[1;33m+\u001b[0m \u001b[1;34m'\\n'\u001b[0m\u001b[1;33m)\u001b[0m\u001b[1;33m\u001b[0m\u001b[0m\n\u001b[0m\u001b[0;32m     21\u001b[0m \u001b[1;33m\u001b[0m\u001b[0m\n\u001b[0;32m     22\u001b[0m \u001b[0mfileNum\u001b[0m \u001b[1;33m+=\u001b[0m \u001b[1;36m1\u001b[0m\u001b[1;33m\u001b[0m\u001b[0m\n",
      "\u001b[1;31mTypeError\u001b[0m: 'dict_keys' object does not support indexing"
     ]
    }
   ],
   "source": [
    "# Retrieve the entire list of \"words\" from the Google Word2Vec model, and write\n",
    "# these out to text files so we can peruse them.\n",
    "vocab = model.vocab.keys()\n",
    "\n",
    "fileNum = 1\n",
    "\n",
    "wordsInVocab = len(vocab)\n",
    "wordsPerFile = int(100E3)\n",
    "\n",
    "# Write out the words in 100k chunks.\n",
    "for wordIndex in range(0, wordsInVocab, wordsPerFile):\n",
    "    newpath = r'C:\\Users\\Robin\\Dropbox\\IMPACT\\Notebooks\\Vocabulary'\n",
    "    if not os.path.exists(newpath):\n",
    "        os.makedirs(newpath)\n",
    "    # Write out the chunk to a numbered text file.    \n",
    "    with open(\"vocabulary/vocabulary_%.2d.txt\" % fileNum, 'w') as f:\n",
    "        # For each word in the current chunk...        \n",
    "        for i in range(wordIndex, wordIndex + wordsPerFile):\n",
    "            # Write it out and escape any unicode characters.            \n",
    "            f.write(vocab[i].encode('UTF-8') + '\\n')\n",
    "    \n",
    "fileNum += 1"
   ]
  },
  {
   "cell_type": "markdown",
   "metadata": {},
   "source": [
    "### 2) The WME distance :\n",
    "Sources : https://towardsdatascience.com/word-distance-between-word-embeddings-cc3e9cf1d632\n",
    "\n",
    "Tuto: https://markroxor.github.io/gensim/static/notebooks/WMD_tutorial.html\n"
   ]
  },
  {
   "cell_type": "code",
   "execution_count": 13,
   "metadata": {},
   "outputs": [],
   "source": [
    "from pyemd import emd\n",
    "from gensim.similarities import WmdSimilarity\n"
   ]
  },
  {
   "cell_type": "code",
   "execution_count": 16,
   "metadata": {},
   "outputs": [
    {
     "ename": "ImportError",
     "evalue": "Please install pyemd Python package to compute WMD.",
     "output_type": "error",
     "traceback": [
      "\u001b[1;31m---------------------------------------------------------------------------\u001b[0m",
      "\u001b[1;31mImportError\u001b[0m                               Traceback (most recent call last)",
      "\u001b[1;32m<ipython-input-16-44ca505cc470>\u001b[0m in \u001b[0;36m<module>\u001b[1;34m()\u001b[0m\n\u001b[1;32m----> 1\u001b[1;33m \u001b[0mresult\u001b[0m \u001b[1;33m=\u001b[0m \u001b[0mmodel\u001b[0m\u001b[1;33m.\u001b[0m\u001b[0mwmdistance\u001b[0m\u001b[1;33m(\u001b[0m\u001b[1;34m'spain'\u001b[0m\u001b[1;33m,\u001b[0m\u001b[1;34m'france'\u001b[0m\u001b[1;33m)\u001b[0m\u001b[1;33m\u001b[0m\u001b[0m\n\u001b[0m",
      "\u001b[1;32m~\\Anaconda3\\lib\\site-packages\\gensim\\models\\keyedvectors.py\u001b[0m in \u001b[0;36mwmdistance\u001b[1;34m(self, document1, document2)\u001b[0m\n\u001b[0;32m    741\u001b[0m \u001b[1;33m\u001b[0m\u001b[0m\n\u001b[0;32m    742\u001b[0m         \"\"\"\n\u001b[1;32m--> 743\u001b[1;33m         \u001b[1;31m#if not PYEMD_EXT:\u001b[0m\u001b[1;33m\u001b[0m\u001b[1;33m\u001b[0m\u001b[0m\n\u001b[0m\u001b[0;32m    744\u001b[0m          \u001b[1;31m#   raise ImportError(\"Please install pyemd Python package to compute WMD.\")\u001b[0m\u001b[1;33m\u001b[0m\u001b[1;33m\u001b[0m\u001b[0m\n\u001b[0;32m    745\u001b[0m \u001b[1;33m\u001b[0m\u001b[0m\n",
      "\u001b[1;31mImportError\u001b[0m: Please install pyemd Python package to compute WMD."
     ]
    }
   ],
   "source": [
    "result = model.wmdistance('spain','france')"
   ]
  },
  {
   "cell_type": "markdown",
   "metadata": {},
   "source": [
    "### Other Corspus :"
   ]
  },
  {
   "cell_type": "code",
   "execution_count": null,
   "metadata": {},
   "outputs": [],
   "source": []
  },
  {
   "cell_type": "code",
   "execution_count": 52,
   "metadata": {},
   "outputs": [],
   "source": [
    "#Visualisation : https://stackoverflow.com/questions/40581010/how-to-run-tsne-on-word2vec-created-from-gensim"
   ]
  },
  {
   "cell_type": "code",
   "execution_count": null,
   "metadata": {},
   "outputs": [],
   "source": []
  }
 ],
 "metadata": {
  "kernelspec": {
   "display_name": "Python 3",
   "language": "python",
   "name": "python3"
  },
  "language_info": {
   "codemirror_mode": {
    "name": "ipython",
    "version": 3
   },
   "file_extension": ".py",
   "mimetype": "text/x-python",
   "name": "python",
   "nbconvert_exporter": "python",
   "pygments_lexer": "ipython3",
   "version": "3.6.5"
  }
 },
 "nbformat": 4,
 "nbformat_minor": 2
}
